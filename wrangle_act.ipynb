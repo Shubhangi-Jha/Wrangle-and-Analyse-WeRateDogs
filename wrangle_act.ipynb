{
 "cells": [
  {
   "cell_type": "markdown",
   "metadata": {},
   "source": [
    "# Data Wrangling\n",
    "Really world data can be dirty as well as messy, i.e., it can have quality as well as structural issues. Both of these can make the analysis not just inaccurate but really hard. Hence, wrangling the data cannot be stressed enough. This project of mine is primarily focused towards wrangling the data set of WeRateDogs. WeRateDogs is a Twitter account that rates people's dogs with a humorous comment about the dog. These ratings almost always have a denominator of 10.  Rating numerators are greater than the denominators.This unique rating system is a big part of the popularity of WeRateDogs."
   ]
  },
  {
   "cell_type": "code",
   "execution_count": 1,
   "metadata": {},
   "outputs": [],
   "source": [
    "#Importing all the necessary libraries\n",
    "import pandas as pd\n",
    "import numpy as np\n",
    "import matplotlib.pyplot as plt\n",
    "import seaborn as sns\n",
    "import requests\n",
    "import os\n",
    "import re\n",
    "import tweepy\n",
    "import json\n",
    "from timeit import default_timer as timer\n",
    "from IPython.display import Image\n",
    "\n",
    "%matplotlib inline"
   ]
  },
  {
   "cell_type": "markdown",
   "metadata": {},
   "source": [
    "## Gathering"
   ]
  },
  {
   "cell_type": "code",
   "execution_count": 2,
   "metadata": {},
   "outputs": [],
   "source": [
    "#Reading the file on hand into a pandas dataframe\n",
    "archive = pd.read_csv('twitter-archive-enhanced.csv')"
   ]
  },
  {
   "cell_type": "code",
   "execution_count": 3,
   "metadata": {},
   "outputs": [],
   "source": [
    "#Downloading the file programmatically\n",
    "url = ' https://d17h27t6h515a5.cloudfront.net/topher/2017/August/599fd2ad_image-predictions/image-predictions.tsv'\n",
    "response = requests.get(url)\n",
    "\n",
    "with open('image-predictions.tsv', mode = 'wb') as file:\n",
    "    file.write(response.content)\n",
    "\n",
    "#Putting the file into a pandas dataframe\n",
    "image_predictions = pd.read_csv('image-predictions.tsv', sep = '\\t')"
   ]
  },
  {
   "cell_type": "markdown",
   "metadata": {},
   "source": [
    "I was unable to get the Tweepy access due to certain exigencies. However I have included the following code for understanding purpose."
   ]
  },
  {
   "cell_type": "code",
   "execution_count": 4,
   "metadata": {},
   "outputs": [],
   "source": [
    "# Query Twitter API for each tweet in the Twitter archive and save JSON in a text file\n",
    "# These are hidden to comply with Twitter's API terms and conditions\n",
    "#consumer_key = 'HIDDEN'\n",
    "#consumer_secret = 'HIDDEN'\n",
    "#access_token = 'HIDDEN'\n",
    "#access_secret = 'HIDDEN'\n",
    "\n",
    "#auth = OAuthHandler(consumer_key, consumer_secret)\n",
    "#auth.set_access_token(access_token, access_secret)\n",
    "\n",
    "#api = tweepy.API(auth, wait_on_rate_limit=True)\n",
    "\n",
    "#tweet_ids = archive.tweet_id.values\n",
    "#len(tweet_ids)\n",
    "\n",
    "# Query Twitter's API for JSON data for each tweet ID in the Twitter archive\n",
    "#count = 0\n",
    "#fails_dict = {}\n",
    "#start = timer()\n",
    "# Save each tweet's returned JSON as a new line in a .txt file\n",
    "#with open('tweet_json.txt', 'w') as outfile:\n",
    "    # This loop will likely take 20-30 minutes to run because of Twitter's rate limit\n",
    "    #for tweet_id in tweet_ids:\n",
    "        #count += 1\n",
    "        #print(str(count) + \": \" + str(tweet_id))\n",
    "        #try:\n",
    "            #tweet = api.get_status(tweet_id, tweet_mode='extended')\n",
    "            #print(\"Success\")\n",
    "            #json.dump(tweet._json, outfile)\n",
    "            #outfile.write('\\n')\n",
    "        #except tweepy.TweepError as e:\n",
    "            #print(\"Fail\")\n",
    "            #fails_dict[tweet_id] = e\n",
    "            #pass\n",
    "#end = timer()\n",
    "#print(end - start)\n",
    "#print(fails_dict)"
   ]
  },
  {
   "cell_type": "markdown",
   "metadata": {},
   "source": [
    "Downloading the .txt file programmatically."
   ]
  },
  {
   "cell_type": "code",
   "execution_count": 5,
   "metadata": {},
   "outputs": [],
   "source": [
    "url = 'https://video.udacity-data.com/topher/2018/November/5bf60fda_tweet-json/tweet-json'\n",
    "responses = requests.get(url)\n",
    "with open('tweet-json', mode = 'wb') as f:\n",
    "    f.write(responses.content)"
   ]
  },
  {
   "cell_type": "code",
   "execution_count": 6,
   "metadata": {},
   "outputs": [],
   "source": [
    "tweet_json_f = 'tweet-json'"
   ]
  },
  {
   "cell_type": "code",
   "execution_count": 103,
   "metadata": {},
   "outputs": [],
   "source": [
    "# Reading the contents from the .txt file (which has a JSON structure) and deriving the relevant information out of it\n",
    "tweet_extra_json = []\n",
    "\n",
    "with open(tweet_json_f, 'r') as json_f:\n",
    "    # read the first line to start the loop\n",
    "    line = json_f.readline()\n",
    "    while line:\n",
    "        value = json.loads(line)\n",
    "\n",
    "        # extract variables from the JSON data\n",
    "        tweet_id = value['id']\n",
    "        retweet_count = value['retweet_count']\n",
    "        favorite_count = value['favorite_count']\n",
    "        \n",
    "        # creating a dictionary with the above derived JSON data, then add all this into a list:\n",
    "        json_values = {'tweet_id': tweet_id, \n",
    "                     'retweet_count': retweet_count, \n",
    "                     'favorite_count': favorite_count\n",
    "                    }\n",
    "        tweet_extra_json.append(json_values)\n",
    "        line = json_f.readline()\n",
    "        \n",
    "\n",
    "# converting the dictionary list into a DataFrame\n",
    "tweet_data_web = pd.DataFrame(tweet_extra_json, \n",
    "                                   columns = ['tweet_id',\n",
    "                                              'retweet_count',\n",
    "                                              'favorite_count'])"
   ]
  },
  {
   "cell_type": "code",
   "execution_count": 8,
   "metadata": {},
   "outputs": [
    {
     "data": {
      "text/html": [
       "<div>\n",
       "<style scoped>\n",
       "    .dataframe tbody tr th:only-of-type {\n",
       "        vertical-align: middle;\n",
       "    }\n",
       "\n",
       "    .dataframe tbody tr th {\n",
       "        vertical-align: top;\n",
       "    }\n",
       "\n",
       "    .dataframe thead th {\n",
       "        text-align: right;\n",
       "    }\n",
       "</style>\n",
       "<table border=\"1\" class=\"dataframe\">\n",
       "  <thead>\n",
       "    <tr style=\"text-align: right;\">\n",
       "      <th></th>\n",
       "      <th>tweet_id</th>\n",
       "      <th>retweet_count</th>\n",
       "      <th>favorite_count</th>\n",
       "    </tr>\n",
       "  </thead>\n",
       "  <tbody>\n",
       "    <tr>\n",
       "      <th>0</th>\n",
       "      <td>892420643555336193</td>\n",
       "      <td>8853</td>\n",
       "      <td>39467</td>\n",
       "    </tr>\n",
       "    <tr>\n",
       "      <th>1</th>\n",
       "      <td>892177421306343426</td>\n",
       "      <td>6514</td>\n",
       "      <td>33819</td>\n",
       "    </tr>\n",
       "    <tr>\n",
       "      <th>2</th>\n",
       "      <td>891815181378084864</td>\n",
       "      <td>4328</td>\n",
       "      <td>25461</td>\n",
       "    </tr>\n",
       "    <tr>\n",
       "      <th>3</th>\n",
       "      <td>891689557279858688</td>\n",
       "      <td>8964</td>\n",
       "      <td>42908</td>\n",
       "    </tr>\n",
       "    <tr>\n",
       "      <th>4</th>\n",
       "      <td>891327558926688256</td>\n",
       "      <td>9774</td>\n",
       "      <td>41048</td>\n",
       "    </tr>\n",
       "    <tr>\n",
       "      <th>5</th>\n",
       "      <td>891087950875897856</td>\n",
       "      <td>3261</td>\n",
       "      <td>20562</td>\n",
       "    </tr>\n",
       "    <tr>\n",
       "      <th>6</th>\n",
       "      <td>890971913173991426</td>\n",
       "      <td>2158</td>\n",
       "      <td>12041</td>\n",
       "    </tr>\n",
       "    <tr>\n",
       "      <th>7</th>\n",
       "      <td>890729181411237888</td>\n",
       "      <td>16716</td>\n",
       "      <td>56848</td>\n",
       "    </tr>\n",
       "    <tr>\n",
       "      <th>8</th>\n",
       "      <td>890609185150312448</td>\n",
       "      <td>4429</td>\n",
       "      <td>28226</td>\n",
       "    </tr>\n",
       "    <tr>\n",
       "      <th>9</th>\n",
       "      <td>890240255349198849</td>\n",
       "      <td>7711</td>\n",
       "      <td>32467</td>\n",
       "    </tr>\n",
       "  </tbody>\n",
       "</table>\n",
       "</div>"
      ],
      "text/plain": [
       "             tweet_id  retweet_count  favorite_count\n",
       "0  892420643555336193           8853           39467\n",
       "1  892177421306343426           6514           33819\n",
       "2  891815181378084864           4328           25461\n",
       "3  891689557279858688           8964           42908\n",
       "4  891327558926688256           9774           41048\n",
       "5  891087950875897856           3261           20562\n",
       "6  890971913173991426           2158           12041\n",
       "7  890729181411237888          16716           56848\n",
       "8  890609185150312448           4429           28226\n",
       "9  890240255349198849           7711           32467"
      ]
     },
     "execution_count": 8,
     "metadata": {},
     "output_type": "execute_result"
    }
   ],
   "source": [
    "tweet_data_web.head(10)"
   ]
  },
  {
   "cell_type": "code",
   "execution_count": 9,
   "metadata": {},
   "outputs": [],
   "source": [
    "#saving the above file as a csv\n",
    "tweet_data_web.to_csv('tweet_data_web.csv')"
   ]
  },
  {
   "cell_type": "markdown",
   "metadata": {},
   "source": [
    "## Assessing"
   ]
  },
  {
   "cell_type": "code",
   "execution_count": 10,
   "metadata": {},
   "outputs": [
    {
     "name": "stdout",
     "output_type": "stream",
     "text": [
      "<class 'pandas.core.frame.DataFrame'>\n",
      "RangeIndex: 2356 entries, 0 to 2355\n",
      "Data columns (total 17 columns):\n",
      "tweet_id                      2356 non-null int64\n",
      "in_reply_to_status_id         78 non-null float64\n",
      "in_reply_to_user_id           78 non-null float64\n",
      "timestamp                     2356 non-null object\n",
      "source                        2356 non-null object\n",
      "text                          2356 non-null object\n",
      "retweeted_status_id           181 non-null float64\n",
      "retweeted_status_user_id      181 non-null float64\n",
      "retweeted_status_timestamp    181 non-null object\n",
      "expanded_urls                 2297 non-null object\n",
      "rating_numerator              2356 non-null int64\n",
      "rating_denominator            2356 non-null int64\n",
      "name                          2356 non-null object\n",
      "doggo                         2356 non-null object\n",
      "floofer                       2356 non-null object\n",
      "pupper                        2356 non-null object\n",
      "puppo                         2356 non-null object\n",
      "dtypes: float64(4), int64(3), object(10)\n",
      "memory usage: 313.0+ KB\n"
     ]
    }
   ],
   "source": [
    "archive.info()"
   ]
  },
  {
   "cell_type": "code",
   "execution_count": 11,
   "metadata": {},
   "outputs": [
    {
     "data": {
      "text/html": [
       "<div>\n",
       "<style scoped>\n",
       "    .dataframe tbody tr th:only-of-type {\n",
       "        vertical-align: middle;\n",
       "    }\n",
       "\n",
       "    .dataframe tbody tr th {\n",
       "        vertical-align: top;\n",
       "    }\n",
       "\n",
       "    .dataframe thead th {\n",
       "        text-align: right;\n",
       "    }\n",
       "</style>\n",
       "<table border=\"1\" class=\"dataframe\">\n",
       "  <thead>\n",
       "    <tr style=\"text-align: right;\">\n",
       "      <th></th>\n",
       "      <th>tweet_id</th>\n",
       "      <th>in_reply_to_status_id</th>\n",
       "      <th>in_reply_to_user_id</th>\n",
       "      <th>timestamp</th>\n",
       "      <th>source</th>\n",
       "      <th>text</th>\n",
       "      <th>retweeted_status_id</th>\n",
       "      <th>retweeted_status_user_id</th>\n",
       "      <th>retweeted_status_timestamp</th>\n",
       "      <th>expanded_urls</th>\n",
       "      <th>rating_numerator</th>\n",
       "      <th>rating_denominator</th>\n",
       "      <th>name</th>\n",
       "      <th>doggo</th>\n",
       "      <th>floofer</th>\n",
       "      <th>pupper</th>\n",
       "      <th>puppo</th>\n",
       "    </tr>\n",
       "  </thead>\n",
       "  <tbody>\n",
       "    <tr>\n",
       "      <th>0</th>\n",
       "      <td>892420643555336193</td>\n",
       "      <td>NaN</td>\n",
       "      <td>NaN</td>\n",
       "      <td>2017-08-01 16:23:56 +0000</td>\n",
       "      <td>&lt;a href=\"http://twitter.com/download/iphone\" r...</td>\n",
       "      <td>This is Phineas. He's a mystical boy. Only eve...</td>\n",
       "      <td>NaN</td>\n",
       "      <td>NaN</td>\n",
       "      <td>NaN</td>\n",
       "      <td>https://twitter.com/dog_rates/status/892420643...</td>\n",
       "      <td>13</td>\n",
       "      <td>10</td>\n",
       "      <td>Phineas</td>\n",
       "      <td>None</td>\n",
       "      <td>None</td>\n",
       "      <td>None</td>\n",
       "      <td>None</td>\n",
       "    </tr>\n",
       "    <tr>\n",
       "      <th>1</th>\n",
       "      <td>892177421306343426</td>\n",
       "      <td>NaN</td>\n",
       "      <td>NaN</td>\n",
       "      <td>2017-08-01 00:17:27 +0000</td>\n",
       "      <td>&lt;a href=\"http://twitter.com/download/iphone\" r...</td>\n",
       "      <td>This is Tilly. She's just checking pup on you....</td>\n",
       "      <td>NaN</td>\n",
       "      <td>NaN</td>\n",
       "      <td>NaN</td>\n",
       "      <td>https://twitter.com/dog_rates/status/892177421...</td>\n",
       "      <td>13</td>\n",
       "      <td>10</td>\n",
       "      <td>Tilly</td>\n",
       "      <td>None</td>\n",
       "      <td>None</td>\n",
       "      <td>None</td>\n",
       "      <td>None</td>\n",
       "    </tr>\n",
       "    <tr>\n",
       "      <th>2</th>\n",
       "      <td>891815181378084864</td>\n",
       "      <td>NaN</td>\n",
       "      <td>NaN</td>\n",
       "      <td>2017-07-31 00:18:03 +0000</td>\n",
       "      <td>&lt;a href=\"http://twitter.com/download/iphone\" r...</td>\n",
       "      <td>This is Archie. He is a rare Norwegian Pouncin...</td>\n",
       "      <td>NaN</td>\n",
       "      <td>NaN</td>\n",
       "      <td>NaN</td>\n",
       "      <td>https://twitter.com/dog_rates/status/891815181...</td>\n",
       "      <td>12</td>\n",
       "      <td>10</td>\n",
       "      <td>Archie</td>\n",
       "      <td>None</td>\n",
       "      <td>None</td>\n",
       "      <td>None</td>\n",
       "      <td>None</td>\n",
       "    </tr>\n",
       "    <tr>\n",
       "      <th>3</th>\n",
       "      <td>891689557279858688</td>\n",
       "      <td>NaN</td>\n",
       "      <td>NaN</td>\n",
       "      <td>2017-07-30 15:58:51 +0000</td>\n",
       "      <td>&lt;a href=\"http://twitter.com/download/iphone\" r...</td>\n",
       "      <td>This is Darla. She commenced a snooze mid meal...</td>\n",
       "      <td>NaN</td>\n",
       "      <td>NaN</td>\n",
       "      <td>NaN</td>\n",
       "      <td>https://twitter.com/dog_rates/status/891689557...</td>\n",
       "      <td>13</td>\n",
       "      <td>10</td>\n",
       "      <td>Darla</td>\n",
       "      <td>None</td>\n",
       "      <td>None</td>\n",
       "      <td>None</td>\n",
       "      <td>None</td>\n",
       "    </tr>\n",
       "    <tr>\n",
       "      <th>4</th>\n",
       "      <td>891327558926688256</td>\n",
       "      <td>NaN</td>\n",
       "      <td>NaN</td>\n",
       "      <td>2017-07-29 16:00:24 +0000</td>\n",
       "      <td>&lt;a href=\"http://twitter.com/download/iphone\" r...</td>\n",
       "      <td>This is Franklin. He would like you to stop ca...</td>\n",
       "      <td>NaN</td>\n",
       "      <td>NaN</td>\n",
       "      <td>NaN</td>\n",
       "      <td>https://twitter.com/dog_rates/status/891327558...</td>\n",
       "      <td>12</td>\n",
       "      <td>10</td>\n",
       "      <td>Franklin</td>\n",
       "      <td>None</td>\n",
       "      <td>None</td>\n",
       "      <td>None</td>\n",
       "      <td>None</td>\n",
       "    </tr>\n",
       "  </tbody>\n",
       "</table>\n",
       "</div>"
      ],
      "text/plain": [
       "             tweet_id  in_reply_to_status_id  in_reply_to_user_id  \\\n",
       "0  892420643555336193                    NaN                  NaN   \n",
       "1  892177421306343426                    NaN                  NaN   \n",
       "2  891815181378084864                    NaN                  NaN   \n",
       "3  891689557279858688                    NaN                  NaN   \n",
       "4  891327558926688256                    NaN                  NaN   \n",
       "\n",
       "                   timestamp  \\\n",
       "0  2017-08-01 16:23:56 +0000   \n",
       "1  2017-08-01 00:17:27 +0000   \n",
       "2  2017-07-31 00:18:03 +0000   \n",
       "3  2017-07-30 15:58:51 +0000   \n",
       "4  2017-07-29 16:00:24 +0000   \n",
       "\n",
       "                                              source  \\\n",
       "0  <a href=\"http://twitter.com/download/iphone\" r...   \n",
       "1  <a href=\"http://twitter.com/download/iphone\" r...   \n",
       "2  <a href=\"http://twitter.com/download/iphone\" r...   \n",
       "3  <a href=\"http://twitter.com/download/iphone\" r...   \n",
       "4  <a href=\"http://twitter.com/download/iphone\" r...   \n",
       "\n",
       "                                                text  retweeted_status_id  \\\n",
       "0  This is Phineas. He's a mystical boy. Only eve...                  NaN   \n",
       "1  This is Tilly. She's just checking pup on you....                  NaN   \n",
       "2  This is Archie. He is a rare Norwegian Pouncin...                  NaN   \n",
       "3  This is Darla. She commenced a snooze mid meal...                  NaN   \n",
       "4  This is Franklin. He would like you to stop ca...                  NaN   \n",
       "\n",
       "   retweeted_status_user_id retweeted_status_timestamp  \\\n",
       "0                       NaN                        NaN   \n",
       "1                       NaN                        NaN   \n",
       "2                       NaN                        NaN   \n",
       "3                       NaN                        NaN   \n",
       "4                       NaN                        NaN   \n",
       "\n",
       "                                       expanded_urls  rating_numerator  \\\n",
       "0  https://twitter.com/dog_rates/status/892420643...                13   \n",
       "1  https://twitter.com/dog_rates/status/892177421...                13   \n",
       "2  https://twitter.com/dog_rates/status/891815181...                12   \n",
       "3  https://twitter.com/dog_rates/status/891689557...                13   \n",
       "4  https://twitter.com/dog_rates/status/891327558...                12   \n",
       "\n",
       "   rating_denominator      name doggo floofer pupper puppo  \n",
       "0                  10   Phineas  None    None   None  None  \n",
       "1                  10     Tilly  None    None   None  None  \n",
       "2                  10    Archie  None    None   None  None  \n",
       "3                  10     Darla  None    None   None  None  \n",
       "4                  10  Franklin  None    None   None  None  "
      ]
     },
     "execution_count": 11,
     "metadata": {},
     "output_type": "execute_result"
    }
   ],
   "source": [
    "archive.head(5)"
   ]
  },
  {
   "cell_type": "code",
   "execution_count": 12,
   "metadata": {},
   "outputs": [
    {
     "data": {
      "text/plain": [
       "None     2259\n",
       "doggo      97\n",
       "Name: doggo, dtype: int64"
      ]
     },
     "execution_count": 12,
     "metadata": {},
     "output_type": "execute_result"
    }
   ],
   "source": [
    "archive.doggo.value_counts()"
   ]
  },
  {
   "cell_type": "code",
   "execution_count": 13,
   "metadata": {},
   "outputs": [
    {
     "data": {
      "text/html": [
       "<div>\n",
       "<style scoped>\n",
       "    .dataframe tbody tr th:only-of-type {\n",
       "        vertical-align: middle;\n",
       "    }\n",
       "\n",
       "    .dataframe tbody tr th {\n",
       "        vertical-align: top;\n",
       "    }\n",
       "\n",
       "    .dataframe thead th {\n",
       "        text-align: right;\n",
       "    }\n",
       "</style>\n",
       "<table border=\"1\" class=\"dataframe\">\n",
       "  <thead>\n",
       "    <tr style=\"text-align: right;\">\n",
       "      <th></th>\n",
       "      <th>tweet_id</th>\n",
       "      <th>in_reply_to_status_id</th>\n",
       "      <th>in_reply_to_user_id</th>\n",
       "      <th>timestamp</th>\n",
       "      <th>source</th>\n",
       "      <th>text</th>\n",
       "      <th>retweeted_status_id</th>\n",
       "      <th>retweeted_status_user_id</th>\n",
       "      <th>retweeted_status_timestamp</th>\n",
       "      <th>expanded_urls</th>\n",
       "      <th>rating_numerator</th>\n",
       "      <th>rating_denominator</th>\n",
       "      <th>name</th>\n",
       "      <th>doggo</th>\n",
       "      <th>floofer</th>\n",
       "      <th>pupper</th>\n",
       "      <th>puppo</th>\n",
       "    </tr>\n",
       "  </thead>\n",
       "  <tbody>\n",
       "    <tr>\n",
       "      <th>1007</th>\n",
       "      <td>747600769478692864</td>\n",
       "      <td>NaN</td>\n",
       "      <td>NaN</td>\n",
       "      <td>2016-06-28 01:21:27 +0000</td>\n",
       "      <td>&lt;a href=\"http://twitter.com/download/iphone\" r...</td>\n",
       "      <td>This is Bookstore and Seaweed. Bookstore is ti...</td>\n",
       "      <td>NaN</td>\n",
       "      <td>NaN</td>\n",
       "      <td>NaN</td>\n",
       "      <td>https://twitter.com/dog_rates/status/747600769...</td>\n",
       "      <td>10</td>\n",
       "      <td>10</td>\n",
       "      <td>Bookstore</td>\n",
       "      <td>None</td>\n",
       "      <td>None</td>\n",
       "      <td>None</td>\n",
       "      <td>None</td>\n",
       "    </tr>\n",
       "    <tr>\n",
       "      <th>939</th>\n",
       "      <td>753039830821511168</td>\n",
       "      <td>NaN</td>\n",
       "      <td>NaN</td>\n",
       "      <td>2016-07-13 01:34:21 +0000</td>\n",
       "      <td>&lt;a href=\"http://vine.co\" rel=\"nofollow\"&gt;Vine -...</td>\n",
       "      <td>So this just changed my life. 13/10 please enj...</td>\n",
       "      <td>NaN</td>\n",
       "      <td>NaN</td>\n",
       "      <td>NaN</td>\n",
       "      <td>https://vine.co/v/5W2Dg3XPX7a</td>\n",
       "      <td>13</td>\n",
       "      <td>10</td>\n",
       "      <td>None</td>\n",
       "      <td>None</td>\n",
       "      <td>None</td>\n",
       "      <td>None</td>\n",
       "      <td>None</td>\n",
       "    </tr>\n",
       "    <tr>\n",
       "      <th>1705</th>\n",
       "      <td>680836378243002368</td>\n",
       "      <td>NaN</td>\n",
       "      <td>NaN</td>\n",
       "      <td>2015-12-26 19:43:36 +0000</td>\n",
       "      <td>&lt;a href=\"http://twitter.com/download/iphone\" r...</td>\n",
       "      <td>This is Ellie. She's secretly ferocious. 12/10...</td>\n",
       "      <td>NaN</td>\n",
       "      <td>NaN</td>\n",
       "      <td>NaN</td>\n",
       "      <td>https://twitter.com/dog_rates/status/680836378...</td>\n",
       "      <td>12</td>\n",
       "      <td>10</td>\n",
       "      <td>Ellie</td>\n",
       "      <td>None</td>\n",
       "      <td>None</td>\n",
       "      <td>pupper</td>\n",
       "      <td>None</td>\n",
       "    </tr>\n",
       "    <tr>\n",
       "      <th>1066</th>\n",
       "      <td>740699697422163968</td>\n",
       "      <td>NaN</td>\n",
       "      <td>NaN</td>\n",
       "      <td>2016-06-09 00:19:04 +0000</td>\n",
       "      <td>&lt;a href=\"http://twitter.com/download/iphone\" r...</td>\n",
       "      <td>This is Chip. He only mowed half the yard. 8/1...</td>\n",
       "      <td>NaN</td>\n",
       "      <td>NaN</td>\n",
       "      <td>NaN</td>\n",
       "      <td>https://twitter.com/dog_rates/status/740699697...</td>\n",
       "      <td>8</td>\n",
       "      <td>10</td>\n",
       "      <td>Chip</td>\n",
       "      <td>None</td>\n",
       "      <td>None</td>\n",
       "      <td>None</td>\n",
       "      <td>None</td>\n",
       "    </tr>\n",
       "    <tr>\n",
       "      <th>983</th>\n",
       "      <td>749395845976588288</td>\n",
       "      <td>NaN</td>\n",
       "      <td>NaN</td>\n",
       "      <td>2016-07-03 00:14:27 +0000</td>\n",
       "      <td>&lt;a href=\"http://twitter.com/download/iphone\" r...</td>\n",
       "      <td>This is George. He just remembered that bees a...</td>\n",
       "      <td>NaN</td>\n",
       "      <td>NaN</td>\n",
       "      <td>NaN</td>\n",
       "      <td>https://twitter.com/dog_rates/status/749395845...</td>\n",
       "      <td>10</td>\n",
       "      <td>10</td>\n",
       "      <td>George</td>\n",
       "      <td>None</td>\n",
       "      <td>None</td>\n",
       "      <td>None</td>\n",
       "      <td>None</td>\n",
       "    </tr>\n",
       "  </tbody>\n",
       "</table>\n",
       "</div>"
      ],
      "text/plain": [
       "                tweet_id  in_reply_to_status_id  in_reply_to_user_id  \\\n",
       "1007  747600769478692864                    NaN                  NaN   \n",
       "939   753039830821511168                    NaN                  NaN   \n",
       "1705  680836378243002368                    NaN                  NaN   \n",
       "1066  740699697422163968                    NaN                  NaN   \n",
       "983   749395845976588288                    NaN                  NaN   \n",
       "\n",
       "                      timestamp  \\\n",
       "1007  2016-06-28 01:21:27 +0000   \n",
       "939   2016-07-13 01:34:21 +0000   \n",
       "1705  2015-12-26 19:43:36 +0000   \n",
       "1066  2016-06-09 00:19:04 +0000   \n",
       "983   2016-07-03 00:14:27 +0000   \n",
       "\n",
       "                                                 source  \\\n",
       "1007  <a href=\"http://twitter.com/download/iphone\" r...   \n",
       "939   <a href=\"http://vine.co\" rel=\"nofollow\">Vine -...   \n",
       "1705  <a href=\"http://twitter.com/download/iphone\" r...   \n",
       "1066  <a href=\"http://twitter.com/download/iphone\" r...   \n",
       "983   <a href=\"http://twitter.com/download/iphone\" r...   \n",
       "\n",
       "                                                   text  retweeted_status_id  \\\n",
       "1007  This is Bookstore and Seaweed. Bookstore is ti...                  NaN   \n",
       "939   So this just changed my life. 13/10 please enj...                  NaN   \n",
       "1705  This is Ellie. She's secretly ferocious. 12/10...                  NaN   \n",
       "1066  This is Chip. He only mowed half the yard. 8/1...                  NaN   \n",
       "983   This is George. He just remembered that bees a...                  NaN   \n",
       "\n",
       "      retweeted_status_user_id retweeted_status_timestamp  \\\n",
       "1007                       NaN                        NaN   \n",
       "939                        NaN                        NaN   \n",
       "1705                       NaN                        NaN   \n",
       "1066                       NaN                        NaN   \n",
       "983                        NaN                        NaN   \n",
       "\n",
       "                                          expanded_urls  rating_numerator  \\\n",
       "1007  https://twitter.com/dog_rates/status/747600769...                10   \n",
       "939                       https://vine.co/v/5W2Dg3XPX7a                13   \n",
       "1705  https://twitter.com/dog_rates/status/680836378...                12   \n",
       "1066  https://twitter.com/dog_rates/status/740699697...                 8   \n",
       "983   https://twitter.com/dog_rates/status/749395845...                10   \n",
       "\n",
       "      rating_denominator       name doggo floofer  pupper puppo  \n",
       "1007                  10  Bookstore  None    None    None  None  \n",
       "939                   10       None  None    None    None  None  \n",
       "1705                  10      Ellie  None    None  pupper  None  \n",
       "1066                  10       Chip  None    None    None  None  \n",
       "983                   10     George  None    None    None  None  "
      ]
     },
     "execution_count": 13,
     "metadata": {},
     "output_type": "execute_result"
    }
   ],
   "source": [
    "archive.sample(5)"
   ]
  },
  {
   "cell_type": "code",
   "execution_count": 14,
   "metadata": {},
   "outputs": [
    {
     "data": {
      "text/plain": [
       "0"
      ]
     },
     "execution_count": 14,
     "metadata": {},
     "output_type": "execute_result"
    }
   ],
   "source": [
    "#Checking for duplicate ids\n",
    "sum(archive.tweet_id.duplicated())"
   ]
  },
  {
   "cell_type": "code",
   "execution_count": 15,
   "metadata": {},
   "outputs": [
    {
     "data": {
      "text/plain": [
       "None         745\n",
       "a             55\n",
       "Charlie       12\n",
       "Oliver        11\n",
       "Lucy          11\n",
       "Cooper        11\n",
       "Tucker        10\n",
       "Lola          10\n",
       "Penny         10\n",
       "Bo             9\n",
       "Winston        9\n",
       "the            8\n",
       "Sadie          8\n",
       "Buddy          7\n",
       "an             7\n",
       "Daisy          7\n",
       "Toby           7\n",
       "Bailey         7\n",
       "Rusty          6\n",
       "Oscar          6\n",
       "Jax            6\n",
       "Bella          6\n",
       "Jack           6\n",
       "Dave           6\n",
       "Scout          6\n",
       "Leo            6\n",
       "Koda           6\n",
       "Milo           6\n",
       "Stanley        6\n",
       "Chester        5\n",
       "            ... \n",
       "Chadrick       1\n",
       "Freddery       1\n",
       "Jomathan       1\n",
       "Keet           1\n",
       "Derby          1\n",
       "Bonaparte      1\n",
       "Devón          1\n",
       "Mya            1\n",
       "Brady          1\n",
       "Craig          1\n",
       "Kobe           1\n",
       "Brooks         1\n",
       "Covach         1\n",
       "Monty          1\n",
       "Rumpole        1\n",
       "Furzey         1\n",
       "Gustaf         1\n",
       "Mairi          1\n",
       "Flash          1\n",
       "Bradlay        1\n",
       "Margo          1\n",
       "Zuzu           1\n",
       "Dobby          1\n",
       "Claude         1\n",
       "Timmy          1\n",
       "Walker         1\n",
       "Bloo           1\n",
       "Rodney         1\n",
       "Blipson        1\n",
       "Dylan          1\n",
       "Name: name, Length: 957, dtype: int64"
      ]
     },
     "execution_count": 15,
     "metadata": {},
     "output_type": "execute_result"
    }
   ],
   "source": [
    "# Checking for issues with the 'name' column:\n",
    "archive.name.value_counts()"
   ]
  },
  {
   "cell_type": "code",
   "execution_count": 16,
   "metadata": {},
   "outputs": [
    {
     "data": {
      "text/plain": [
       "a               55\n",
       "the              8\n",
       "an               7\n",
       "very             5\n",
       "just             4\n",
       "quite            4\n",
       "one              4\n",
       "mad              2\n",
       "not              2\n",
       "actually         2\n",
       "getting          2\n",
       "all              1\n",
       "old              1\n",
       "space            1\n",
       "incredibly       1\n",
       "this             1\n",
       "life             1\n",
       "unacceptable     1\n",
       "infuriating      1\n",
       "officially       1\n",
       "such             1\n",
       "my               1\n",
       "his              1\n",
       "by               1\n",
       "light            1\n",
       "Name: name, dtype: int64"
      ]
     },
     "execution_count": 16,
     "metadata": {},
     "output_type": "execute_result"
    }
   ],
   "source": [
    "# Checking if all the names that start from lowercase are invalid:\n",
    "invalid_names = archive.name.str.contains('^[a-z]', regex = True)\n",
    "archive[invalid_names].name.value_counts()"
   ]
  },
  {
   "cell_type": "code",
   "execution_count": 17,
   "metadata": {},
   "outputs": [
    {
     "data": {
      "text/plain": [
       "count    2356.000000\n",
       "mean       13.126486\n",
       "std        45.876648\n",
       "min         0.000000\n",
       "25%        10.000000\n",
       "50%        11.000000\n",
       "75%        12.000000\n",
       "max      1776.000000\n",
       "Name: rating_numerator, dtype: float64"
      ]
     },
     "execution_count": 17,
     "metadata": {},
     "output_type": "execute_result"
    }
   ],
   "source": [
    "#Checking the descriptive statistics:\n",
    "archive.rating_numerator.describe()"
   ]
  },
  {
   "cell_type": "markdown",
   "metadata": {},
   "source": [
    "**Identified a potential problem : max value = 1776**"
   ]
  },
  {
   "cell_type": "code",
   "execution_count": 18,
   "metadata": {},
   "outputs": [
    {
     "data": {
      "text/plain": [
       "rating_numerator\n",
       "0         2\n",
       "1         9\n",
       "2         9\n",
       "3        19\n",
       "4        17\n",
       "5        37\n",
       "6        32\n",
       "7        55\n",
       "8       102\n",
       "9       158\n",
       "10      461\n",
       "11      464\n",
       "12      558\n",
       "13      351\n",
       "14       54\n",
       "15        2\n",
       "17        1\n",
       "20        1\n",
       "24        1\n",
       "26        1\n",
       "27        1\n",
       "44        1\n",
       "45        1\n",
       "50        1\n",
       "60        1\n",
       "75        2\n",
       "80        1\n",
       "84        1\n",
       "88        1\n",
       "99        1\n",
       "121       1\n",
       "143       1\n",
       "144       1\n",
       "165       1\n",
       "182       1\n",
       "204       1\n",
       "420       2\n",
       "666       1\n",
       "960       1\n",
       "1776      1\n",
       "Name: tweet_id, dtype: int64"
      ]
     },
     "execution_count": 18,
     "metadata": {},
     "output_type": "execute_result"
    }
   ],
   "source": [
    "archive.groupby('rating_numerator').tweet_id.count()"
   ]
  },
  {
   "cell_type": "code",
   "execution_count": 19,
   "metadata": {},
   "outputs": [
    {
     "data": {
      "text/plain": [
       "count    2356.000000\n",
       "mean       10.455433\n",
       "std         6.745237\n",
       "min         0.000000\n",
       "25%        10.000000\n",
       "50%        10.000000\n",
       "75%        10.000000\n",
       "max       170.000000\n",
       "Name: rating_denominator, dtype: float64"
      ]
     },
     "execution_count": 19,
     "metadata": {},
     "output_type": "execute_result"
    }
   ],
   "source": [
    "archive.rating_denominator.describe()"
   ]
  },
  {
   "cell_type": "code",
   "execution_count": 20,
   "metadata": {},
   "outputs": [
    {
     "data": {
      "text/plain": [
       "rating_denominator\n",
       "0         1\n",
       "2         1\n",
       "7         1\n",
       "10     2333\n",
       "11        3\n",
       "15        1\n",
       "16        1\n",
       "20        2\n",
       "40        1\n",
       "50        3\n",
       "70        1\n",
       "80        2\n",
       "90        1\n",
       "110       1\n",
       "120       1\n",
       "130       1\n",
       "150       1\n",
       "170       1\n",
       "Name: tweet_id, dtype: int64"
      ]
     },
     "execution_count": 20,
     "metadata": {},
     "output_type": "execute_result"
    }
   ],
   "source": [
    "archive.groupby('rating_denominator').tweet_id.count()"
   ]
  },
  {
   "cell_type": "markdown",
   "metadata": {},
   "source": [
    "**Identified a potential problem of consistency. Though 2333 entries have a denominator of 10, yet there are values as low as 0 and as high as 170.**"
   ]
  },
  {
   "cell_type": "markdown",
   "metadata": {},
   "source": [
    "##### Assessing tweet_data "
   ]
  },
  {
   "cell_type": "code",
   "execution_count": 21,
   "metadata": {},
   "outputs": [
    {
     "name": "stdout",
     "output_type": "stream",
     "text": [
      "<class 'pandas.core.frame.DataFrame'>\n",
      "RangeIndex: 2354 entries, 0 to 2353\n",
      "Data columns (total 3 columns):\n",
      "tweet_id          2354 non-null int64\n",
      "retweet_count     2354 non-null int64\n",
      "favorite_count    2354 non-null int64\n",
      "dtypes: int64(3)\n",
      "memory usage: 55.2 KB\n"
     ]
    }
   ],
   "source": [
    "#Let us match the tweet_ids of the tweet_data_web and archive dataframes:\n",
    "tweet_data_web.info()"
   ]
  },
  {
   "cell_type": "code",
   "execution_count": 22,
   "metadata": {},
   "outputs": [
    {
     "data": {
      "text/plain": [
       "0"
      ]
     },
     "execution_count": 22,
     "metadata": {},
     "output_type": "execute_result"
    }
   ],
   "source": [
    "sum(tweet_data_web.tweet_id.duplicated())"
   ]
  },
  {
   "cell_type": "code",
   "execution_count": 23,
   "metadata": {},
   "outputs": [
    {
     "data": {
      "text/plain": [
       "count     2354.000000\n",
       "mean      3164.797366\n",
       "std       5284.770364\n",
       "min          0.000000\n",
       "25%        624.500000\n",
       "50%       1473.500000\n",
       "75%       3652.000000\n",
       "max      79515.000000\n",
       "Name: retweet_count, dtype: float64"
      ]
     },
     "execution_count": 23,
     "metadata": {},
     "output_type": "execute_result"
    }
   ],
   "source": [
    "#Assessing the descriptive statistics\n",
    "tweet_data_web.retweet_count.describe()"
   ]
  },
  {
   "cell_type": "code",
   "execution_count": 24,
   "metadata": {},
   "outputs": [
    {
     "data": {
      "text/plain": [
       "count      2354.000000\n",
       "mean       8080.968564\n",
       "std       11814.771334\n",
       "min           0.000000\n",
       "25%        1415.000000\n",
       "50%        3603.500000\n",
       "75%       10122.250000\n",
       "max      132810.000000\n",
       "Name: favorite_count, dtype: float64"
      ]
     },
     "execution_count": 24,
     "metadata": {},
     "output_type": "execute_result"
    }
   ],
   "source": [
    "#Assessing the descriptive statistics\n",
    "tweet_data_web.favorite_count.describe()"
   ]
  },
  {
   "cell_type": "code",
   "execution_count": 25,
   "metadata": {},
   "outputs": [
    {
     "data": {
      "text/html": [
       "<div>\n",
       "<style scoped>\n",
       "    .dataframe tbody tr th:only-of-type {\n",
       "        vertical-align: middle;\n",
       "    }\n",
       "\n",
       "    .dataframe tbody tr th {\n",
       "        vertical-align: top;\n",
       "    }\n",
       "\n",
       "    .dataframe thead th {\n",
       "        text-align: right;\n",
       "    }\n",
       "</style>\n",
       "<table border=\"1\" class=\"dataframe\">\n",
       "  <thead>\n",
       "    <tr style=\"text-align: right;\">\n",
       "      <th></th>\n",
       "      <th>tweet_id</th>\n",
       "      <th>retweet_count</th>\n",
       "      <th>favorite_count</th>\n",
       "    </tr>\n",
       "  </thead>\n",
       "  <tbody>\n",
       "    <tr>\n",
       "      <th>939</th>\n",
       "      <td>752932432744185856</td>\n",
       "      <td>7798</td>\n",
       "      <td>13970</td>\n",
       "    </tr>\n",
       "    <tr>\n",
       "      <th>1159</th>\n",
       "      <td>723912936180330496</td>\n",
       "      <td>1374</td>\n",
       "      <td>4236</td>\n",
       "    </tr>\n",
       "    <tr>\n",
       "      <th>2219</th>\n",
       "      <td>668480044826800133</td>\n",
       "      <td>162</td>\n",
       "      <td>491</td>\n",
       "    </tr>\n",
       "    <tr>\n",
       "      <th>375</th>\n",
       "      <td>828046555563323392</td>\n",
       "      <td>3260</td>\n",
       "      <td>12923</td>\n",
       "    </tr>\n",
       "    <tr>\n",
       "      <th>646</th>\n",
       "      <td>793135492858580992</td>\n",
       "      <td>2893</td>\n",
       "      <td>7214</td>\n",
       "    </tr>\n",
       "    <tr>\n",
       "      <th>1902</th>\n",
       "      <td>674632714662858753</td>\n",
       "      <td>637</td>\n",
       "      <td>1617</td>\n",
       "    </tr>\n",
       "    <tr>\n",
       "      <th>1006</th>\n",
       "      <td>747594051852075008</td>\n",
       "      <td>1205</td>\n",
       "      <td>4065</td>\n",
       "    </tr>\n",
       "    <tr>\n",
       "      <th>585</th>\n",
       "      <td>799774291445383169</td>\n",
       "      <td>5488</td>\n",
       "      <td>0</td>\n",
       "    </tr>\n",
       "    <tr>\n",
       "      <th>1944</th>\n",
       "      <td>673705679337693185</td>\n",
       "      <td>439</td>\n",
       "      <td>1337</td>\n",
       "    </tr>\n",
       "    <tr>\n",
       "      <th>2329</th>\n",
       "      <td>666353288456101888</td>\n",
       "      <td>77</td>\n",
       "      <td>229</td>\n",
       "    </tr>\n",
       "  </tbody>\n",
       "</table>\n",
       "</div>"
      ],
      "text/plain": [
       "                tweet_id  retweet_count  favorite_count\n",
       "939   752932432744185856           7798           13970\n",
       "1159  723912936180330496           1374            4236\n",
       "2219  668480044826800133            162             491\n",
       "375   828046555563323392           3260           12923\n",
       "646   793135492858580992           2893            7214\n",
       "1902  674632714662858753            637            1617\n",
       "1006  747594051852075008           1205            4065\n",
       "585   799774291445383169           5488               0\n",
       "1944  673705679337693185            439            1337\n",
       "2329  666353288456101888             77             229"
      ]
     },
     "execution_count": 25,
     "metadata": {},
     "output_type": "execute_result"
    }
   ],
   "source": [
    "tweet_data_web.sample(10)"
   ]
  },
  {
   "cell_type": "markdown",
   "metadata": {},
   "source": [
    "##### Assessing image_predictions"
   ]
  },
  {
   "cell_type": "code",
   "execution_count": 26,
   "metadata": {},
   "outputs": [
    {
     "name": "stdout",
     "output_type": "stream",
     "text": [
      "<class 'pandas.core.frame.DataFrame'>\n",
      "RangeIndex: 2075 entries, 0 to 2074\n",
      "Data columns (total 12 columns):\n",
      "tweet_id    2075 non-null int64\n",
      "jpg_url     2075 non-null object\n",
      "img_num     2075 non-null int64\n",
      "p1          2075 non-null object\n",
      "p1_conf     2075 non-null float64\n",
      "p1_dog      2075 non-null bool\n",
      "p2          2075 non-null object\n",
      "p2_conf     2075 non-null float64\n",
      "p2_dog      2075 non-null bool\n",
      "p3          2075 non-null object\n",
      "p3_conf     2075 non-null float64\n",
      "p3_dog      2075 non-null bool\n",
      "dtypes: bool(3), float64(3), int64(2), object(4)\n",
      "memory usage: 152.1+ KB\n"
     ]
    }
   ],
   "source": [
    "image_predictions.info()"
   ]
  },
  {
   "cell_type": "code",
   "execution_count": 27,
   "metadata": {},
   "outputs": [
    {
     "data": {
      "text/html": [
       "<div>\n",
       "<style scoped>\n",
       "    .dataframe tbody tr th:only-of-type {\n",
       "        vertical-align: middle;\n",
       "    }\n",
       "\n",
       "    .dataframe tbody tr th {\n",
       "        vertical-align: top;\n",
       "    }\n",
       "\n",
       "    .dataframe thead th {\n",
       "        text-align: right;\n",
       "    }\n",
       "</style>\n",
       "<table border=\"1\" class=\"dataframe\">\n",
       "  <thead>\n",
       "    <tr style=\"text-align: right;\">\n",
       "      <th></th>\n",
       "      <th>tweet_id</th>\n",
       "      <th>jpg_url</th>\n",
       "      <th>img_num</th>\n",
       "      <th>p1</th>\n",
       "      <th>p1_conf</th>\n",
       "      <th>p1_dog</th>\n",
       "      <th>p2</th>\n",
       "      <th>p2_conf</th>\n",
       "      <th>p2_dog</th>\n",
       "      <th>p3</th>\n",
       "      <th>p3_conf</th>\n",
       "      <th>p3_dog</th>\n",
       "    </tr>\n",
       "  </thead>\n",
       "  <tbody>\n",
       "    <tr>\n",
       "      <th>1836</th>\n",
       "      <td>837110210464448512</td>\n",
       "      <td>https://pbs.twimg.com/media/C54DS1kXQAEU5pS.jpg</td>\n",
       "      <td>1</td>\n",
       "      <td>Siberian_husky</td>\n",
       "      <td>0.767696</td>\n",
       "      <td>True</td>\n",
       "      <td>Eskimo_dog</td>\n",
       "      <td>0.217079</td>\n",
       "      <td>True</td>\n",
       "      <td>malamute</td>\n",
       "      <td>0.011657</td>\n",
       "      <td>True</td>\n",
       "    </tr>\n",
       "    <tr>\n",
       "      <th>304</th>\n",
       "      <td>671518598289059840</td>\n",
       "      <td>https://pbs.twimg.com/media/CVG2l9jUYAAwg-w.jpg</td>\n",
       "      <td>1</td>\n",
       "      <td>Lakeland_terrier</td>\n",
       "      <td>0.428275</td>\n",
       "      <td>True</td>\n",
       "      <td>wire-haired_fox_terrier</td>\n",
       "      <td>0.111472</td>\n",
       "      <td>True</td>\n",
       "      <td>toy_poodle</td>\n",
       "      <td>0.105016</td>\n",
       "      <td>True</td>\n",
       "    </tr>\n",
       "    <tr>\n",
       "      <th>928</th>\n",
       "      <td>702684942141153280</td>\n",
       "      <td>https://pbs.twimg.com/media/CcBwOn0XEAA7bNQ.jpg</td>\n",
       "      <td>1</td>\n",
       "      <td>golden_retriever</td>\n",
       "      <td>0.514085</td>\n",
       "      <td>True</td>\n",
       "      <td>Chesapeake_Bay_retriever</td>\n",
       "      <td>0.173224</td>\n",
       "      <td>True</td>\n",
       "      <td>Brittany_spaniel</td>\n",
       "      <td>0.118384</td>\n",
       "      <td>True</td>\n",
       "    </tr>\n",
       "    <tr>\n",
       "      <th>1609</th>\n",
       "      <td>801115127852503040</td>\n",
       "      <td>https://pbs.twimg.com/media/Cx4h7zHUsAAqaJd.jpg</td>\n",
       "      <td>1</td>\n",
       "      <td>dalmatian</td>\n",
       "      <td>0.823356</td>\n",
       "      <td>True</td>\n",
       "      <td>English_setter</td>\n",
       "      <td>0.094602</td>\n",
       "      <td>True</td>\n",
       "      <td>bluetick</td>\n",
       "      <td>0.021953</td>\n",
       "      <td>True</td>\n",
       "    </tr>\n",
       "    <tr>\n",
       "      <th>1072</th>\n",
       "      <td>716791146589110272</td>\n",
       "      <td>https://pbs.twimg.com/media/CfKNvU8WsAAvI9Z.jpg</td>\n",
       "      <td>1</td>\n",
       "      <td>Pomeranian</td>\n",
       "      <td>0.468751</td>\n",
       "      <td>True</td>\n",
       "      <td>seat_belt</td>\n",
       "      <td>0.154652</td>\n",
       "      <td>False</td>\n",
       "      <td>golden_retriever</td>\n",
       "      <td>0.125017</td>\n",
       "      <td>True</td>\n",
       "    </tr>\n",
       "  </tbody>\n",
       "</table>\n",
       "</div>"
      ],
      "text/plain": [
       "                tweet_id                                          jpg_url  \\\n",
       "1836  837110210464448512  https://pbs.twimg.com/media/C54DS1kXQAEU5pS.jpg   \n",
       "304   671518598289059840  https://pbs.twimg.com/media/CVG2l9jUYAAwg-w.jpg   \n",
       "928   702684942141153280  https://pbs.twimg.com/media/CcBwOn0XEAA7bNQ.jpg   \n",
       "1609  801115127852503040  https://pbs.twimg.com/media/Cx4h7zHUsAAqaJd.jpg   \n",
       "1072  716791146589110272  https://pbs.twimg.com/media/CfKNvU8WsAAvI9Z.jpg   \n",
       "\n",
       "      img_num                p1   p1_conf  p1_dog                        p2  \\\n",
       "1836        1    Siberian_husky  0.767696    True                Eskimo_dog   \n",
       "304         1  Lakeland_terrier  0.428275    True   wire-haired_fox_terrier   \n",
       "928         1  golden_retriever  0.514085    True  Chesapeake_Bay_retriever   \n",
       "1609        1         dalmatian  0.823356    True            English_setter   \n",
       "1072        1        Pomeranian  0.468751    True                 seat_belt   \n",
       "\n",
       "       p2_conf  p2_dog                p3   p3_conf  p3_dog  \n",
       "1836  0.217079    True          malamute  0.011657    True  \n",
       "304   0.111472    True        toy_poodle  0.105016    True  \n",
       "928   0.173224    True  Brittany_spaniel  0.118384    True  \n",
       "1609  0.094602    True          bluetick  0.021953    True  \n",
       "1072  0.154652   False  golden_retriever  0.125017    True  "
      ]
     },
     "execution_count": 27,
     "metadata": {},
     "output_type": "execute_result"
    }
   ],
   "source": [
    "image_predictions.sample(5)"
   ]
  },
  {
   "cell_type": "code",
   "execution_count": 28,
   "metadata": {},
   "outputs": [
    {
     "data": {
      "text/plain": [
       "golden_retriever             150\n",
       "Labrador_retriever           100\n",
       "Pembroke                      89\n",
       "Chihuahua                     83\n",
       "pug                           57\n",
       "chow                          44\n",
       "Samoyed                       43\n",
       "toy_poodle                    39\n",
       "Pomeranian                    38\n",
       "cocker_spaniel                30\n",
       "malamute                      30\n",
       "French_bulldog                26\n",
       "miniature_pinscher            23\n",
       "Chesapeake_Bay_retriever      23\n",
       "seat_belt                     22\n",
       "Siberian_husky                20\n",
       "German_shepherd               20\n",
       "Staffordshire_bullterrier     20\n",
       "web_site                      19\n",
       "Cardigan                      19\n",
       "beagle                        18\n",
       "teddy                         18\n",
       "Shetland_sheepdog             18\n",
       "Maltese_dog                   18\n",
       "Eskimo_dog                    18\n",
       "Lakeland_terrier              17\n",
       "Shih-Tzu                      17\n",
       "Rottweiler                    17\n",
       "kuvasz                        16\n",
       "Italian_greyhound             16\n",
       "                            ... \n",
       "bookshop                       1\n",
       "basketball                     1\n",
       "lynx                           1\n",
       "shield                         1\n",
       "coffee_mug                     1\n",
       "coil                           1\n",
       "ocarina                        1\n",
       "binoculars                     1\n",
       "shopping_basket                1\n",
       "toilet_seat                    1\n",
       "bearskin                       1\n",
       "clog                           1\n",
       "trombone                       1\n",
       "cowboy_boot                    1\n",
       "quilt                          1\n",
       "crash_helmet                   1\n",
       "stove                          1\n",
       "ice_lolly                      1\n",
       "handkerchief                   1\n",
       "leopard                        1\n",
       "American_black_bear            1\n",
       "suit                           1\n",
       "otter                          1\n",
       "hare                           1\n",
       "alp                            1\n",
       "teapot                         1\n",
       "lorikeet                       1\n",
       "pedestal                       1\n",
       "coral_reef                     1\n",
       "espresso                       1\n",
       "Name: p1, Length: 378, dtype: int64"
      ]
     },
     "execution_count": 28,
     "metadata": {},
     "output_type": "execute_result"
    }
   ],
   "source": [
    "image_predictions.p1.value_counts()"
   ]
  },
  {
   "cell_type": "markdown",
   "metadata": {},
   "source": [
    "Potential problem : **As per the description of this data frame, p1 contains the breed names. \"pole, nail, sandbar, swab, suit, traffic light, hotdog, cowboy_boot, teapot, cup, china_cabinet,website, seat_belt, American black bear\" are not dog breeds.**"
   ]
  },
  {
   "cell_type": "code",
   "execution_count": 29,
   "metadata": {},
   "outputs": [
    {
     "data": {
      "text/plain": [
       "array(['collie', 'miniature_pinscher', 'malinois', 'redbone', 'Rottweiler',\n",
       "       'English_springer', 'mud_turtle', 'Tibetan_mastiff',\n",
       "       'shopping_basket', 'komondor', 'Yorkshire_terrier',\n",
       "       'English_foxhound', 'bull_mastiff', 'German_shepherd', 'Shih-Tzu',\n",
       "       'Newfoundland', 'cock', 'desk', 'toy_terrier', 'toy_poodle',\n",
       "       'otter', 'Chesapeake_Bay_retriever', 'Siberian_husky', 'skunk',\n",
       "       'Afghan_hound', 'bloodhound', 'barracouta', 'papillon',\n",
       "       'cocker_spaniel', 'chow', 'Irish_terrier', 'chain_saw', 'beagle',\n",
       "       'giant_schnauzer', 'Labrador_retriever', 'Pembroke', 'Chihuahua',\n",
       "       'Weimaraner', 'slug', 'Brittany_spaniel', 'standard_schnauzer',\n",
       "       'teddy', 'armadillo', 'African_hunting_dog', 'vizsla', 'doormat',\n",
       "       'pug', 'Italian_greyhound', 'Samoyed', 'Pomeranian',\n",
       "       'miniature_poodle', 'Lakeland_terrier', 'Irish_setter', 'swab',\n",
       "       'malamute', 'bath_towel', 'Border_collie', 'Leonberg', 'drake',\n",
       "       'French_bulldog', 'ice_bear', 'Christmas_stocking',\n",
       "       'golden_retriever', 'standard_poodle', 'dhole', 'kuvasz',\n",
       "       'Cardigan', 'silky_terrier', 'spotlight', 'dishwasher', 'bighorn',\n",
       "       'tow_truck', 'hummingbird', 'English_setter', 'prayer_rug',\n",
       "       'frilled_lizard', 'Pekinese', 'ox', 'boxer', 'hog', 'guinea_pig',\n",
       "       'hen', 'wallaby', 'cowboy_boot', 'cornet', 'minivan', 'paddle',\n",
       "       'basset', 'hamper', 'Bedlington_terrier', 'Shetland_sheepdog',\n",
       "       'bow', 'Lhasa', 'pelican', 'toaster', 'groenendael',\n",
       "       'Australian_terrier', 'llama', 'knee_pad', 'pillow', 'Ibizan_hound',\n",
       "       'Old_English_sheepdog', 'Welsh_springer_spaniel', 'coral_reef',\n",
       "       'bison', 'waffle_iron', 'tabby', 'bib', 'police_van', 'Eskimo_dog',\n",
       "       'breastplate', 'German_short-haired_pointer', 'Norfolk_terrier',\n",
       "       'Blenheim_spaniel', 'pickup', 'miniature_schnauzer', 'lampshade',\n",
       "       'Tibetan_terrier', 'Siamese_cat', 'borzoi', 'studio_couch',\n",
       "       'toilet_seat', 'hamster', 'seat_belt', 'keeshond', 'koala',\n",
       "       'hair_spray', 'Saint_Bernard', 'tray',\n",
       "       'American_Staffordshire_terrier', 'birdhouse', 'terrapin',\n",
       "       'Staffordshire_bullterrier', 'briard',\n",
       "       'West_Highland_white_terrier', 'spotted_salamander', 'tennis_ball',\n",
       "       'porcupine', 'cardigan', 'corn', 'basenji', 'otterhound',\n",
       "       'European_gallinule', 'indri', 'tailed_frog', 'beach_wagon',\n",
       "       'siamang', 'orange', 'home_theater', 'cairn', 'hare',\n",
       "       'Norwegian_elkhound', 'Brabancon_griffon', 'American_black_bear',\n",
       "       'sulphur_butterfly', 'Sealyham_terrier', 'Walker_hound',\n",
       "       'tarantula', 'Persian_cat', 'coral_fungus', 'accordion', 'kelpie',\n",
       "       'Great_Pyrenees', 'wood_rabbit', 'black-and-tan_coonhound',\n",
       "       'sunglasses', 'plow', 'whippet', 'rain_barrel', 'bathtub', 'tiger',\n",
       "       'snail', 'tick', 'wire-haired_fox_terrier', 'water_bottle', 'wig',\n",
       "       'platypus', 'Irish_wolfhound', 'ram', 'gorilla',\n",
       "       'entertainment_center', 'toucan', 'mask', 'shopping_cart',\n",
       "       'Sussex_spaniel', 'crate', 'grey_whale', 'badger', 'Airedale',\n",
       "       'Arabian_camel', 'cockroach', 'lifeboat', 'rotisserie', 'goldfish',\n",
       "       'stingray', 'warthog', 'bobsled', 'rhinoceros_beetle', 'beaver',\n",
       "       'brown_bear', 'Maltese_dog', 'weasel', 'quill',\n",
       "       'Rhodesian_ridgeback', 'Arctic_fox', 'ashcan', 'bow_tie',\n",
       "       'soft-coated_wheaten_terrier', 'schipperke', 'bearskin',\n",
       "       'Kerry_blue_terrier', 'ice_lolly', 'American_alligator',\n",
       "       'mosquito_net', 'sea_lion', 'Boston_bull', 'nail',\n",
       "       'black-footed_ferret', 'promontory', 'sarong', 'Doberman',\n",
       "       'space_heater', 'Great_Dane', 'mailbox', 'Saluki', 'bakery',\n",
       "       'sandal', 'leafhopper', 'barrel', 'water_buffalo', 'polecat',\n",
       "       'macaque', 'Japanese_spaniel', 'folding_chair', 'trench_coat',\n",
       "       'Angora', 'junco', 'crib', 'dalmatian', 'snowmobile',\n",
       "       'flat-coated_retriever', 'streetcar', 'window_screen', 'bannister',\n",
       "       'hair_slide', 'meerkat', 'cannon', 'jaguar', 'Border_terrier',\n",
       "       'Greater_Swiss_Mountain_dog', 'hay', 'apron', 'cloak', 'radiator',\n",
       "       'muzzle', 'feather_boa', 'rifle', 'chimpanzee', 'loggerhead',\n",
       "       'torch', 'Mexican_hairless', 'spindle', 'triceratops',\n",
       "       'Appenzeller', 'stove', 'dingo', 'oscilloscope', 'common_newt',\n",
       "       'hotdog', 'medicine_chest', 'quail', 'horse_cart', 'four-poster',\n",
       "       'pier', 'red_fox', 'affenpinscher', 'assault_rifle',\n",
       "       'mashed_potato', 'moped', 'hyena', 'seashore', 'tub', 'sports_car',\n",
       "       'swing', 'mink', 'bluetick', 'neck_brace', 'grey_fox', 'mongoose',\n",
       "       'fur_coat', 'Scotch_terrier', 'spatula', 'paper_towel', 'shoji',\n",
       "       'toyshop', 'banded_gecko', 'peacock', 'crossword_puzzle',\n",
       "       'tree_frog', 'wombat', 'turnstile', 'sleeping_bag', 'quilt',\n",
       "       'Gila_monster', 'giant_panda', 'Dandie_Dinmont', 'handkerchief',\n",
       "       'sombrero', 'Indian_elephant', 'coffee_mug', 'gibbon', 'carton',\n",
       "       'screw', 'minibus', 'hatchet', 'window_shade', 'lawn_mower',\n",
       "       'washbasin', 'sock', 'prison', 'patio', 'china_cabinet',\n",
       "       'chain_mail', 'breakwater', 'computer_keyboard', 'goose',\n",
       "       'lakeside', 'solar_dish', 'table_lamp', 'Windsor_tie',\n",
       "       'punching_bag', 'comic_book', 'sunglass', 'great_white_shark',\n",
       "       'timber_wolf', 'fountain', 'dugong', 'marmot', 'barbershop',\n",
       "       'shovel', 'curly-coated_retriever', 'lesser_panda', 'monitor',\n",
       "       'crutch', 'cash_machine', 'printer', 'volcano', 'wallet', 'laptop',\n",
       "       'bathing_cap', 'confectionery', 'dam', 'killer_whale', 'canoe',\n",
       "       'Madagascar_cat', 'jean', 'boathouse', 'cliff', 'maillot', 'iPod',\n",
       "       'hand-held_computer', 'black_widow', 'Norwich_terrier', 'necklace',\n",
       "       'dining_table', 'binoculars', 'cradle', 'sea_urchin', 'cougar',\n",
       "       'EntleBucher', 'basketball', 'lighter', 'saltshaker', 'harvester',\n",
       "       'television', 'envelope', 'house_finch', 'web_site', 'palace',\n",
       "       'shower_curtain', 'cab', 'snorkel', 'jigsaw_puzzle', 'sweatshirt',\n",
       "       'white_wolf', 'sliding_door', 'academic_gown', 'cowboy_hat',\n",
       "       'can_opener', 'cup', 'rule', 'soccer_ball', 'bucket', 'racket',\n",
       "       'menu', 'purse', 'Bernese_mountain_dog', 'dumbbell', 'projectile',\n",
       "       'dock', 'oxygen_mask', 'sandbar', 'umbrella', 'shower_cap', 'bagel'], dtype=object)"
      ]
     },
     "execution_count": 29,
     "metadata": {},
     "output_type": "execute_result"
    }
   ],
   "source": [
    "image_predictions.p2.unique()"
   ]
  },
  {
   "cell_type": "markdown",
   "metadata": {},
   "source": [
    "We can see a similar problem with the 'p2' column. **Oxygen_mask, umbrella, shower_cap, bagel, bucket, soccer_ball, rule, cup, cab, jigsaw_puzzle, palace, envelope, racket, menu, sandbar** etc are not dog breeds."
   ]
  },
  {
   "cell_type": "code",
   "execution_count": 30,
   "metadata": {},
   "outputs": [
    {
     "data": {
      "text/plain": [
       "66"
      ]
     },
     "execution_count": 30,
     "metadata": {},
     "output_type": "execute_result"
    }
   ],
   "source": [
    "sum(image_predictions.jpg_url.duplicated())"
   ]
  },
  {
   "cell_type": "markdown",
   "metadata": {},
   "source": [
    "## Assessment :\n",
    "The archive data frame has 2356 rows (entries) and 17 columns. The tweet_data_web dataframe has 2354 rows and 3 columns.\n",
    "### Issues:\n",
    "#### archive dataframe:\n",
    "> Completeness : \n",
    "1. *retweeted_status_id, retweeted_status_user_id, retweeted_status_timestamp* have only 181 values.\n",
    "2. *in_reply_to_status_id* and *in_reply_to_user_id* have only 78 non-null values.\n",
    "3. *expanded_urls* are missing, there are 2297 values as against 2356.\n",
    "\n",
    "> Validity:\n",
    "1. In the *names* column : There are some dogs whose names are : 'a','an' and 'None'.\n",
    "2. *rating_numerator* has values which go as high as 1776.\n",
    "\n",
    "> Accuracy:\n",
    "1. *timestamp* should not be an string datatype. It should be 'timestamp' datatype.\n",
    "\n",
    "\n",
    "> Consistency:\n",
    "1. *rating_denominator* has 23 values which are other than 10 (some are as high as 170 and some as low as 0, having 0 as the denominator is a potential problem). This makes comparison not consistent.\n",
    "2.  HTML tags in the *source* column make the data look dirty.\n",
    "3. As per the requirements of the project, delete retweets.\n",
    "\n",
    "\n",
    "> Tidiness: A tidy dataframe should be one where : **each variable is listed as a column, each entry is a row and each observational unit forms as table.** \n",
    "1. There are four columns for the different dog types: *doggo, floofer, pupper, puppo*                \n",
    "#### image predictions dataframe:\n",
    "> Completeness: \n",
    "1. There are 2075 entries in this dataframe as against 2356 in archive dataframe.\n",
    "\n",
    "> Validity :\n",
    "1. As per the description of this data frame, p1 contains the breed names. \"pole, nail, sandbar, swab, suit, traffic light, hotdog, cowboy_boot, teapot, cup, china_cabinet, website, seat_belt, American black bear\" are not dog breeds.\n",
    "\n",
    "> Accuracy :\n",
    "\n",
    "> Consistency:\n",
    "1. The starting alphabet of the dog breeds in p1, p2 and p3 are sometimes in uppercase and other times in lower case.\n",
    "\n",
    "> Tidiness : \n",
    "1. This dataframe does not form a separate observational unit. It is a part of the **archive dataframe**.\n",
    "\n",
    "#### twitter_data_web dataframe:\n",
    "> Completeness \n",
    "1. There are 2356 entries in the archive dataframe while this one has 2354 entries.\n",
    "\n",
    "> Accuracy :\n",
    "1. *tweet_id* is an 'int' datatype.\n",
    "\n",
    "> Tidiness : \n",
    "1. This dataframe does not form separate unit of measurement. It is a part of the **archive dataframe**.\n",
    "                     \n"
   ]
  },
  {
   "cell_type": "markdown",
   "metadata": {},
   "source": [
    "## Cleaning"
   ]
  },
  {
   "cell_type": "markdown",
   "metadata": {},
   "source": [
    "As per the standard practice, I will first clean the Completeness issue and then I will take up tidiness issues. After doing these two, will I move towards validity, accuracy and consistency."
   ]
  },
  {
   "cell_type": "markdown",
   "metadata": {},
   "source": [
    "#### Define - Code - Test"
   ]
  },
  {
   "cell_type": "code",
   "execution_count": 31,
   "metadata": {},
   "outputs": [],
   "source": [
    "# Creating a copy of each dataframe. All the cleaning operations will be performed on the respective copies.\n",
    "archive_copy = archive.copy()\n",
    "image_predictions_copy = image_predictions.copy()\n",
    "tweet_data_web_copy = tweet_data_web.copy()"
   ]
  },
  {
   "cell_type": "markdown",
   "metadata": {},
   "source": [
    "### Completeness\n",
    "#### Cleaning Issue 1:\n",
    "##### Define : Drop retweeted_status_id, retweeted_status_user_id, retweeted_status_timestamp which have only 181 values.\n",
    "##### Code:"
   ]
  },
  {
   "cell_type": "code",
   "execution_count": 32,
   "metadata": {},
   "outputs": [],
   "source": [
    "archive_copy.drop(['retweeted_status_id','retweeted_status_user_id', 'retweeted_status_timestamp'], axis = 1, inplace = True)"
   ]
  },
  {
   "cell_type": "markdown",
   "metadata": {},
   "source": [
    "##### Test:"
   ]
  },
  {
   "cell_type": "code",
   "execution_count": 33,
   "metadata": {},
   "outputs": [
    {
     "data": {
      "text/plain": [
       "['tweet_id',\n",
       " 'in_reply_to_status_id',\n",
       " 'in_reply_to_user_id',\n",
       " 'timestamp',\n",
       " 'source',\n",
       " 'text',\n",
       " 'expanded_urls',\n",
       " 'rating_numerator',\n",
       " 'rating_denominator',\n",
       " 'name',\n",
       " 'doggo',\n",
       " 'floofer',\n",
       " 'pupper',\n",
       " 'puppo']"
      ]
     },
     "execution_count": 33,
     "metadata": {},
     "output_type": "execute_result"
    }
   ],
   "source": [
    "list(archive_copy)"
   ]
  },
  {
   "cell_type": "markdown",
   "metadata": {},
   "source": [
    "#### Cleaning Issue 2:\n",
    "##### Define : Drop in_reply_to_status_id and in_reply_to_user_id which have only 78 values using *drop* function of pandas.\n",
    "##### Code:"
   ]
  },
  {
   "cell_type": "code",
   "execution_count": 34,
   "metadata": {},
   "outputs": [],
   "source": [
    "archive_copy.drop(['in_reply_to_status_id','in_reply_to_user_id'], axis = 1, inplace = True)"
   ]
  },
  {
   "cell_type": "markdown",
   "metadata": {},
   "source": [
    "##### Test:"
   ]
  },
  {
   "cell_type": "code",
   "execution_count": 35,
   "metadata": {},
   "outputs": [
    {
     "data": {
      "text/plain": [
       "['tweet_id',\n",
       " 'timestamp',\n",
       " 'source',\n",
       " 'text',\n",
       " 'expanded_urls',\n",
       " 'rating_numerator',\n",
       " 'rating_denominator',\n",
       " 'name',\n",
       " 'doggo',\n",
       " 'floofer',\n",
       " 'pupper',\n",
       " 'puppo']"
      ]
     },
     "execution_count": 35,
     "metadata": {},
     "output_type": "execute_result"
    }
   ],
   "source": [
    "list(archive_copy)"
   ]
  },
  {
   "cell_type": "markdown",
   "metadata": {},
   "source": [
    "#### Cleaning Issue 3:\n",
    "##### Define : Drop the rows which have null \"expanded_urls\" (as these can't be obtained).\n",
    "##### Code:"
   ]
  },
  {
   "cell_type": "code",
   "execution_count": 36,
   "metadata": {},
   "outputs": [
    {
     "data": {
      "text/plain": [
       "59"
      ]
     },
     "execution_count": 36,
     "metadata": {},
     "output_type": "execute_result"
    }
   ],
   "source": [
    "sum(archive_copy.expanded_urls.isnull())"
   ]
  },
  {
   "cell_type": "code",
   "execution_count": 37,
   "metadata": {},
   "outputs": [],
   "source": [
    "archive_copy = archive_copy[archive_copy.expanded_urls.notnull()]"
   ]
  },
  {
   "cell_type": "markdown",
   "metadata": {},
   "source": [
    "##### Test:"
   ]
  },
  {
   "cell_type": "code",
   "execution_count": 38,
   "metadata": {},
   "outputs": [
    {
     "name": "stdout",
     "output_type": "stream",
     "text": [
      "<class 'pandas.core.frame.DataFrame'>\n",
      "Int64Index: 2297 entries, 0 to 2355\n",
      "Data columns (total 12 columns):\n",
      "tweet_id              2297 non-null int64\n",
      "timestamp             2297 non-null object\n",
      "source                2297 non-null object\n",
      "text                  2297 non-null object\n",
      "expanded_urls         2297 non-null object\n",
      "rating_numerator      2297 non-null int64\n",
      "rating_denominator    2297 non-null int64\n",
      "name                  2297 non-null object\n",
      "doggo                 2297 non-null object\n",
      "floofer               2297 non-null object\n",
      "pupper                2297 non-null object\n",
      "puppo                 2297 non-null object\n",
      "dtypes: int64(3), object(9)\n",
      "memory usage: 233.3+ KB\n"
     ]
    }
   ],
   "source": [
    "archive_copy.info()"
   ]
  },
  {
   "cell_type": "markdown",
   "metadata": {},
   "source": [
    "### Tidiness:\n",
    "#### Cleaning Issue 4:\n",
    "##### Define : Melt the four columns for the different dog types: *doggo, floofer, pupper, puppo*  into one. This will be done in two stages.\n",
    "1. melt the above four columns of the dataframe by creating an \"intermediate\" column.\n",
    "2. Drop the \"intermediate\" column and the duplicate values by keeping the first ones.\n",
    "##### Code:"
   ]
  },
  {
   "cell_type": "code",
   "execution_count": 39,
   "metadata": {},
   "outputs": [
    {
     "data": {
      "text/plain": [
       "['tweet_id',\n",
       " 'timestamp',\n",
       " 'source',\n",
       " 'text',\n",
       " 'expanded_urls',\n",
       " 'rating_numerator',\n",
       " 'rating_denominator',\n",
       " 'name',\n",
       " 'doggo',\n",
       " 'floofer',\n",
       " 'pupper',\n",
       " 'puppo']"
      ]
     },
     "execution_count": 39,
     "metadata": {},
     "output_type": "execute_result"
    }
   ],
   "source": [
    "#Code 4.1.a:\n",
    "list(archive_copy)"
   ]
  },
  {
   "cell_type": "code",
   "execution_count": 40,
   "metadata": {},
   "outputs": [],
   "source": [
    "#Code 4.1.b:\n",
    "archive_copy = pd.melt(archive_copy, id_vars = ['tweet_id',\n",
    " 'timestamp',\n",
    " 'source',\n",
    " 'text',\n",
    " 'expanded_urls',\n",
    " 'rating_numerator',\n",
    " 'rating_denominator',\n",
    " 'name'], var_name = 'dog', value_name = 'dog_stage')"
   ]
  },
  {
   "cell_type": "code",
   "execution_count": 41,
   "metadata": {},
   "outputs": [
    {
     "data": {
      "text/html": [
       "<div>\n",
       "<style scoped>\n",
       "    .dataframe tbody tr th:only-of-type {\n",
       "        vertical-align: middle;\n",
       "    }\n",
       "\n",
       "    .dataframe tbody tr th {\n",
       "        vertical-align: top;\n",
       "    }\n",
       "\n",
       "    .dataframe thead th {\n",
       "        text-align: right;\n",
       "    }\n",
       "</style>\n",
       "<table border=\"1\" class=\"dataframe\">\n",
       "  <thead>\n",
       "    <tr style=\"text-align: right;\">\n",
       "      <th></th>\n",
       "      <th>tweet_id</th>\n",
       "      <th>timestamp</th>\n",
       "      <th>source</th>\n",
       "      <th>text</th>\n",
       "      <th>expanded_urls</th>\n",
       "      <th>rating_numerator</th>\n",
       "      <th>rating_denominator</th>\n",
       "      <th>name</th>\n",
       "      <th>dog</th>\n",
       "      <th>dog_stage</th>\n",
       "    </tr>\n",
       "  </thead>\n",
       "  <tbody>\n",
       "    <tr>\n",
       "      <th>0</th>\n",
       "      <td>892420643555336193</td>\n",
       "      <td>2017-08-01 16:23:56 +0000</td>\n",
       "      <td>&lt;a href=\"http://twitter.com/download/iphone\" r...</td>\n",
       "      <td>This is Phineas. He's a mystical boy. Only eve...</td>\n",
       "      <td>https://twitter.com/dog_rates/status/892420643...</td>\n",
       "      <td>13</td>\n",
       "      <td>10</td>\n",
       "      <td>Phineas</td>\n",
       "      <td>doggo</td>\n",
       "      <td>None</td>\n",
       "    </tr>\n",
       "    <tr>\n",
       "      <th>1</th>\n",
       "      <td>892177421306343426</td>\n",
       "      <td>2017-08-01 00:17:27 +0000</td>\n",
       "      <td>&lt;a href=\"http://twitter.com/download/iphone\" r...</td>\n",
       "      <td>This is Tilly. She's just checking pup on you....</td>\n",
       "      <td>https://twitter.com/dog_rates/status/892177421...</td>\n",
       "      <td>13</td>\n",
       "      <td>10</td>\n",
       "      <td>Tilly</td>\n",
       "      <td>doggo</td>\n",
       "      <td>None</td>\n",
       "    </tr>\n",
       "    <tr>\n",
       "      <th>2</th>\n",
       "      <td>891815181378084864</td>\n",
       "      <td>2017-07-31 00:18:03 +0000</td>\n",
       "      <td>&lt;a href=\"http://twitter.com/download/iphone\" r...</td>\n",
       "      <td>This is Archie. He is a rare Norwegian Pouncin...</td>\n",
       "      <td>https://twitter.com/dog_rates/status/891815181...</td>\n",
       "      <td>12</td>\n",
       "      <td>10</td>\n",
       "      <td>Archie</td>\n",
       "      <td>doggo</td>\n",
       "      <td>None</td>\n",
       "    </tr>\n",
       "    <tr>\n",
       "      <th>3</th>\n",
       "      <td>891689557279858688</td>\n",
       "      <td>2017-07-30 15:58:51 +0000</td>\n",
       "      <td>&lt;a href=\"http://twitter.com/download/iphone\" r...</td>\n",
       "      <td>This is Darla. She commenced a snooze mid meal...</td>\n",
       "      <td>https://twitter.com/dog_rates/status/891689557...</td>\n",
       "      <td>13</td>\n",
       "      <td>10</td>\n",
       "      <td>Darla</td>\n",
       "      <td>doggo</td>\n",
       "      <td>None</td>\n",
       "    </tr>\n",
       "    <tr>\n",
       "      <th>4</th>\n",
       "      <td>891327558926688256</td>\n",
       "      <td>2017-07-29 16:00:24 +0000</td>\n",
       "      <td>&lt;a href=\"http://twitter.com/download/iphone\" r...</td>\n",
       "      <td>This is Franklin. He would like you to stop ca...</td>\n",
       "      <td>https://twitter.com/dog_rates/status/891327558...</td>\n",
       "      <td>12</td>\n",
       "      <td>10</td>\n",
       "      <td>Franklin</td>\n",
       "      <td>doggo</td>\n",
       "      <td>None</td>\n",
       "    </tr>\n",
       "  </tbody>\n",
       "</table>\n",
       "</div>"
      ],
      "text/plain": [
       "             tweet_id                  timestamp  \\\n",
       "0  892420643555336193  2017-08-01 16:23:56 +0000   \n",
       "1  892177421306343426  2017-08-01 00:17:27 +0000   \n",
       "2  891815181378084864  2017-07-31 00:18:03 +0000   \n",
       "3  891689557279858688  2017-07-30 15:58:51 +0000   \n",
       "4  891327558926688256  2017-07-29 16:00:24 +0000   \n",
       "\n",
       "                                              source  \\\n",
       "0  <a href=\"http://twitter.com/download/iphone\" r...   \n",
       "1  <a href=\"http://twitter.com/download/iphone\" r...   \n",
       "2  <a href=\"http://twitter.com/download/iphone\" r...   \n",
       "3  <a href=\"http://twitter.com/download/iphone\" r...   \n",
       "4  <a href=\"http://twitter.com/download/iphone\" r...   \n",
       "\n",
       "                                                text  \\\n",
       "0  This is Phineas. He's a mystical boy. Only eve...   \n",
       "1  This is Tilly. She's just checking pup on you....   \n",
       "2  This is Archie. He is a rare Norwegian Pouncin...   \n",
       "3  This is Darla. She commenced a snooze mid meal...   \n",
       "4  This is Franklin. He would like you to stop ca...   \n",
       "\n",
       "                                       expanded_urls  rating_numerator  \\\n",
       "0  https://twitter.com/dog_rates/status/892420643...                13   \n",
       "1  https://twitter.com/dog_rates/status/892177421...                13   \n",
       "2  https://twitter.com/dog_rates/status/891815181...                12   \n",
       "3  https://twitter.com/dog_rates/status/891689557...                13   \n",
       "4  https://twitter.com/dog_rates/status/891327558...                12   \n",
       "\n",
       "   rating_denominator      name    dog dog_stage  \n",
       "0                  10   Phineas  doggo      None  \n",
       "1                  10     Tilly  doggo      None  \n",
       "2                  10    Archie  doggo      None  \n",
       "3                  10     Darla  doggo      None  \n",
       "4                  10  Franklin  doggo      None  "
      ]
     },
     "execution_count": 41,
     "metadata": {},
     "output_type": "execute_result"
    }
   ],
   "source": [
    "#Intermediate testing:\n",
    "archive_copy.head()"
   ]
  },
  {
   "cell_type": "code",
   "execution_count": 42,
   "metadata": {},
   "outputs": [
    {
     "data": {
      "text/plain": [
       "None       8800\n",
       "pupper      255\n",
       "doggo        94\n",
       "puppo        29\n",
       "floofer      10\n",
       "Name: dog_stage, dtype: int64"
      ]
     },
     "execution_count": 42,
     "metadata": {},
     "output_type": "execute_result"
    }
   ],
   "source": [
    "archive_copy.dog_stage.value_counts()"
   ]
  },
  {
   "cell_type": "code",
   "execution_count": 43,
   "metadata": {},
   "outputs": [
    {
     "name": "stdout",
     "output_type": "stream",
     "text": [
      "<class 'pandas.core.frame.DataFrame'>\n",
      "RangeIndex: 9188 entries, 0 to 9187\n",
      "Data columns (total 10 columns):\n",
      "tweet_id              9188 non-null int64\n",
      "timestamp             9188 non-null object\n",
      "source                9188 non-null object\n",
      "text                  9188 non-null object\n",
      "expanded_urls         9188 non-null object\n",
      "rating_numerator      9188 non-null int64\n",
      "rating_denominator    9188 non-null int64\n",
      "name                  9188 non-null object\n",
      "dog                   9188 non-null object\n",
      "dog_stage             9188 non-null object\n",
      "dtypes: int64(3), object(7)\n",
      "memory usage: 717.9+ KB\n"
     ]
    }
   ],
   "source": [
    "#Intermediate testing\n",
    "archive_copy.info()"
   ]
  },
  {
   "cell_type": "code",
   "execution_count": 44,
   "metadata": {},
   "outputs": [],
   "source": [
    "# Code 4.2:\n",
    "#Drop the last 'intermediate' column\n",
    "archive_copy.drop('dog', axis = 1, inplace = True)\n"
   ]
  },
  {
   "cell_type": "code",
   "execution_count": 45,
   "metadata": {},
   "outputs": [],
   "source": [
    "#Sort values by dog stages and then Drop the duplicates:\n",
    "archive_copy = archive_copy.sort_values('dog_stage').drop_duplicates(subset = 'tweet_id', keep = 'last').reset_index()"
   ]
  },
  {
   "cell_type": "markdown",
   "metadata": {},
   "source": [
    "##### Test:"
   ]
  },
  {
   "cell_type": "code",
   "execution_count": 46,
   "metadata": {},
   "outputs": [
    {
     "name": "stdout",
     "output_type": "stream",
     "text": [
      "<class 'pandas.core.frame.DataFrame'>\n",
      "RangeIndex: 2297 entries, 0 to 2296\n",
      "Data columns (total 10 columns):\n",
      "index                 2297 non-null int64\n",
      "tweet_id              2297 non-null int64\n",
      "timestamp             2297 non-null object\n",
      "source                2297 non-null object\n",
      "text                  2297 non-null object\n",
      "expanded_urls         2297 non-null object\n",
      "rating_numerator      2297 non-null int64\n",
      "rating_denominator    2297 non-null int64\n",
      "name                  2297 non-null object\n",
      "dog_stage             2297 non-null object\n",
      "dtypes: int64(4), object(6)\n",
      "memory usage: 179.5+ KB\n"
     ]
    }
   ],
   "source": [
    "archive_copy.info()"
   ]
  },
  {
   "cell_type": "code",
   "execution_count": 47,
   "metadata": {},
   "outputs": [
    {
     "data": {
      "text/html": [
       "<div>\n",
       "<style scoped>\n",
       "    .dataframe tbody tr th:only-of-type {\n",
       "        vertical-align: middle;\n",
       "    }\n",
       "\n",
       "    .dataframe tbody tr th {\n",
       "        vertical-align: top;\n",
       "    }\n",
       "\n",
       "    .dataframe thead th {\n",
       "        text-align: right;\n",
       "    }\n",
       "</style>\n",
       "<table border=\"1\" class=\"dataframe\">\n",
       "  <thead>\n",
       "    <tr style=\"text-align: right;\">\n",
       "      <th></th>\n",
       "      <th>index</th>\n",
       "      <th>tweet_id</th>\n",
       "      <th>timestamp</th>\n",
       "      <th>source</th>\n",
       "      <th>text</th>\n",
       "      <th>expanded_urls</th>\n",
       "      <th>rating_numerator</th>\n",
       "      <th>rating_denominator</th>\n",
       "      <th>name</th>\n",
       "      <th>dog_stage</th>\n",
       "    </tr>\n",
       "  </thead>\n",
       "  <tbody>\n",
       "    <tr>\n",
       "      <th>0</th>\n",
       "      <td>2203</td>\n",
       "      <td>667549055577362432</td>\n",
       "      <td>2015-11-20 03:44:31 +0000</td>\n",
       "      <td>&lt;a href=\"http://twitter.com\" rel=\"nofollow\"&gt;Tw...</td>\n",
       "      <td>Never seen dog like this. Breathes heavy. Tilt...</td>\n",
       "      <td>https://twitter.com/dog_rates/status/667549055...</td>\n",
       "      <td>1</td>\n",
       "      <td>10</td>\n",
       "      <td>None</td>\n",
       "      <td>None</td>\n",
       "    </tr>\n",
       "    <tr>\n",
       "      <th>1</th>\n",
       "      <td>2204</td>\n",
       "      <td>667546741521195010</td>\n",
       "      <td>2015-11-20 03:35:20 +0000</td>\n",
       "      <td>&lt;a href=\"http://twitter.com\" rel=\"nofollow\"&gt;Tw...</td>\n",
       "      <td>Here is George. George took a selfie of his ne...</td>\n",
       "      <td>https://twitter.com/dog_rates/status/667546741...</td>\n",
       "      <td>9</td>\n",
       "      <td>10</td>\n",
       "      <td>George</td>\n",
       "      <td>None</td>\n",
       "    </tr>\n",
       "    <tr>\n",
       "      <th>2</th>\n",
       "      <td>2205</td>\n",
       "      <td>667544320556335104</td>\n",
       "      <td>2015-11-20 03:25:43 +0000</td>\n",
       "      <td>&lt;a href=\"http://twitter.com\" rel=\"nofollow\"&gt;Tw...</td>\n",
       "      <td>This is Kial. Kial is either wearing a cape, w...</td>\n",
       "      <td>https://twitter.com/dog_rates/status/667544320...</td>\n",
       "      <td>10</td>\n",
       "      <td>10</td>\n",
       "      <td>Kial</td>\n",
       "      <td>None</td>\n",
       "    </tr>\n",
       "    <tr>\n",
       "      <th>3</th>\n",
       "      <td>2206</td>\n",
       "      <td>667538891197542400</td>\n",
       "      <td>2015-11-20 03:04:08 +0000</td>\n",
       "      <td>&lt;a href=\"http://twitter.com\" rel=\"nofollow\"&gt;Tw...</td>\n",
       "      <td>This is a southwest Coriander named Klint. Hat...</td>\n",
       "      <td>https://twitter.com/dog_rates/status/667538891...</td>\n",
       "      <td>9</td>\n",
       "      <td>10</td>\n",
       "      <td>a</td>\n",
       "      <td>None</td>\n",
       "    </tr>\n",
       "    <tr>\n",
       "      <th>4</th>\n",
       "      <td>2207</td>\n",
       "      <td>667534815156183040</td>\n",
       "      <td>2015-11-20 02:47:56 +0000</td>\n",
       "      <td>&lt;a href=\"http://twitter.com\" rel=\"nofollow\"&gt;Tw...</td>\n",
       "      <td>This is Frank (pronounced \"Fronq\"). Too many b...</td>\n",
       "      <td>https://twitter.com/dog_rates/status/667534815...</td>\n",
       "      <td>8</td>\n",
       "      <td>10</td>\n",
       "      <td>Frank</td>\n",
       "      <td>None</td>\n",
       "    </tr>\n",
       "  </tbody>\n",
       "</table>\n",
       "</div>"
      ],
      "text/plain": [
       "   index            tweet_id                  timestamp  \\\n",
       "0   2203  667549055577362432  2015-11-20 03:44:31 +0000   \n",
       "1   2204  667546741521195010  2015-11-20 03:35:20 +0000   \n",
       "2   2205  667544320556335104  2015-11-20 03:25:43 +0000   \n",
       "3   2206  667538891197542400  2015-11-20 03:04:08 +0000   \n",
       "4   2207  667534815156183040  2015-11-20 02:47:56 +0000   \n",
       "\n",
       "                                              source  \\\n",
       "0  <a href=\"http://twitter.com\" rel=\"nofollow\">Tw...   \n",
       "1  <a href=\"http://twitter.com\" rel=\"nofollow\">Tw...   \n",
       "2  <a href=\"http://twitter.com\" rel=\"nofollow\">Tw...   \n",
       "3  <a href=\"http://twitter.com\" rel=\"nofollow\">Tw...   \n",
       "4  <a href=\"http://twitter.com\" rel=\"nofollow\">Tw...   \n",
       "\n",
       "                                                text  \\\n",
       "0  Never seen dog like this. Breathes heavy. Tilt...   \n",
       "1  Here is George. George took a selfie of his ne...   \n",
       "2  This is Kial. Kial is either wearing a cape, w...   \n",
       "3  This is a southwest Coriander named Klint. Hat...   \n",
       "4  This is Frank (pronounced \"Fronq\"). Too many b...   \n",
       "\n",
       "                                       expanded_urls  rating_numerator  \\\n",
       "0  https://twitter.com/dog_rates/status/667549055...                 1   \n",
       "1  https://twitter.com/dog_rates/status/667546741...                 9   \n",
       "2  https://twitter.com/dog_rates/status/667544320...                10   \n",
       "3  https://twitter.com/dog_rates/status/667538891...                 9   \n",
       "4  https://twitter.com/dog_rates/status/667534815...                 8   \n",
       "\n",
       "   rating_denominator    name dog_stage  \n",
       "0                  10    None      None  \n",
       "1                  10  George      None  \n",
       "2                  10    Kial      None  \n",
       "3                  10       a      None  \n",
       "4                  10   Frank      None  "
      ]
     },
     "execution_count": 47,
     "metadata": {},
     "output_type": "execute_result"
    }
   ],
   "source": [
    "archive_copy.head()"
   ]
  },
  {
   "cell_type": "code",
   "execution_count": 48,
   "metadata": {},
   "outputs": [
    {
     "data": {
      "text/plain": [
       "None       1923\n",
       "pupper      255\n",
       "doggo        80\n",
       "puppo        29\n",
       "floofer      10\n",
       "Name: dog_stage, dtype: int64"
      ]
     },
     "execution_count": 48,
     "metadata": {},
     "output_type": "execute_result"
    }
   ],
   "source": [
    "archive_copy.dog_stage.value_counts()"
   ]
  },
  {
   "cell_type": "markdown",
   "metadata": {},
   "source": [
    "### Tidiness:\n",
    "#### Cleaning Issue 5:\n",
    "##### Define : Merge the three columns into a single dataframe. This will be done in two stages:\n",
    "1. left merge of archive_copy and tweet_data_web_copy dataframes.\n",
    "2. inner merge of archive_copy and image_predictions dataframes.\n",
    "##### Code:"
   ]
  },
  {
   "cell_type": "code",
   "execution_count": 49,
   "metadata": {},
   "outputs": [],
   "source": [
    "archive_copy = pd.merge(archive_copy, tweet_data_web_copy, \n",
    "                         on = 'tweet_id', how = 'left')"
   ]
  },
  {
   "cell_type": "code",
   "execution_count": 50,
   "metadata": {},
   "outputs": [
    {
     "name": "stdout",
     "output_type": "stream",
     "text": [
      "<class 'pandas.core.frame.DataFrame'>\n",
      "Int64Index: 2297 entries, 0 to 2296\n",
      "Data columns (total 12 columns):\n",
      "index                 2297 non-null int64\n",
      "tweet_id              2297 non-null int64\n",
      "timestamp             2297 non-null object\n",
      "source                2297 non-null object\n",
      "text                  2297 non-null object\n",
      "expanded_urls         2297 non-null object\n",
      "rating_numerator      2297 non-null int64\n",
      "rating_denominator    2297 non-null int64\n",
      "name                  2297 non-null object\n",
      "dog_stage             2297 non-null object\n",
      "retweet_count         2295 non-null float64\n",
      "favorite_count        2295 non-null float64\n",
      "dtypes: float64(2), int64(4), object(6)\n",
      "memory usage: 233.3+ KB\n"
     ]
    }
   ],
   "source": [
    "archive_copy.info()"
   ]
  },
  {
   "cell_type": "code",
   "execution_count": 51,
   "metadata": {},
   "outputs": [
    {
     "data": {
      "text/html": [
       "<div>\n",
       "<style scoped>\n",
       "    .dataframe tbody tr th:only-of-type {\n",
       "        vertical-align: middle;\n",
       "    }\n",
       "\n",
       "    .dataframe tbody tr th {\n",
       "        vertical-align: top;\n",
       "    }\n",
       "\n",
       "    .dataframe thead th {\n",
       "        text-align: right;\n",
       "    }\n",
       "</style>\n",
       "<table border=\"1\" class=\"dataframe\">\n",
       "  <thead>\n",
       "    <tr style=\"text-align: right;\">\n",
       "      <th></th>\n",
       "      <th>index</th>\n",
       "      <th>tweet_id</th>\n",
       "      <th>timestamp</th>\n",
       "      <th>source</th>\n",
       "      <th>text</th>\n",
       "      <th>expanded_urls</th>\n",
       "      <th>rating_numerator</th>\n",
       "      <th>rating_denominator</th>\n",
       "      <th>name</th>\n",
       "      <th>dog_stage</th>\n",
       "      <th>retweet_count</th>\n",
       "      <th>favorite_count</th>\n",
       "    </tr>\n",
       "  </thead>\n",
       "  <tbody>\n",
       "    <tr>\n",
       "      <th>0</th>\n",
       "      <td>2203</td>\n",
       "      <td>667549055577362432</td>\n",
       "      <td>2015-11-20 03:44:31 +0000</td>\n",
       "      <td>&lt;a href=\"http://twitter.com\" rel=\"nofollow\"&gt;Tw...</td>\n",
       "      <td>Never seen dog like this. Breathes heavy. Tilt...</td>\n",
       "      <td>https://twitter.com/dog_rates/status/667549055...</td>\n",
       "      <td>1</td>\n",
       "      <td>10</td>\n",
       "      <td>None</td>\n",
       "      <td>None</td>\n",
       "      <td>2454.0</td>\n",
       "      <td>6138.0</td>\n",
       "    </tr>\n",
       "    <tr>\n",
       "      <th>1</th>\n",
       "      <td>2204</td>\n",
       "      <td>667546741521195010</td>\n",
       "      <td>2015-11-20 03:35:20 +0000</td>\n",
       "      <td>&lt;a href=\"http://twitter.com\" rel=\"nofollow\"&gt;Tw...</td>\n",
       "      <td>Here is George. George took a selfie of his ne...</td>\n",
       "      <td>https://twitter.com/dog_rates/status/667546741...</td>\n",
       "      <td>9</td>\n",
       "      <td>10</td>\n",
       "      <td>George</td>\n",
       "      <td>None</td>\n",
       "      <td>138.0</td>\n",
       "      <td>355.0</td>\n",
       "    </tr>\n",
       "    <tr>\n",
       "      <th>2</th>\n",
       "      <td>2205</td>\n",
       "      <td>667544320556335104</td>\n",
       "      <td>2015-11-20 03:25:43 +0000</td>\n",
       "      <td>&lt;a href=\"http://twitter.com\" rel=\"nofollow\"&gt;Tw...</td>\n",
       "      <td>This is Kial. Kial is either wearing a cape, w...</td>\n",
       "      <td>https://twitter.com/dog_rates/status/667544320...</td>\n",
       "      <td>10</td>\n",
       "      <td>10</td>\n",
       "      <td>Kial</td>\n",
       "      <td>None</td>\n",
       "      <td>568.0</td>\n",
       "      <td>917.0</td>\n",
       "    </tr>\n",
       "    <tr>\n",
       "      <th>3</th>\n",
       "      <td>2206</td>\n",
       "      <td>667538891197542400</td>\n",
       "      <td>2015-11-20 03:04:08 +0000</td>\n",
       "      <td>&lt;a href=\"http://twitter.com\" rel=\"nofollow\"&gt;Tw...</td>\n",
       "      <td>This is a southwest Coriander named Klint. Hat...</td>\n",
       "      <td>https://twitter.com/dog_rates/status/667538891...</td>\n",
       "      <td>9</td>\n",
       "      <td>10</td>\n",
       "      <td>a</td>\n",
       "      <td>None</td>\n",
       "      <td>72.0</td>\n",
       "      <td>220.0</td>\n",
       "    </tr>\n",
       "    <tr>\n",
       "      <th>4</th>\n",
       "      <td>2207</td>\n",
       "      <td>667534815156183040</td>\n",
       "      <td>2015-11-20 02:47:56 +0000</td>\n",
       "      <td>&lt;a href=\"http://twitter.com\" rel=\"nofollow\"&gt;Tw...</td>\n",
       "      <td>This is Frank (pronounced \"Fronq\"). Too many b...</td>\n",
       "      <td>https://twitter.com/dog_rates/status/667534815...</td>\n",
       "      <td>8</td>\n",
       "      <td>10</td>\n",
       "      <td>Frank</td>\n",
       "      <td>None</td>\n",
       "      <td>576.0</td>\n",
       "      <td>866.0</td>\n",
       "    </tr>\n",
       "  </tbody>\n",
       "</table>\n",
       "</div>"
      ],
      "text/plain": [
       "   index            tweet_id                  timestamp  \\\n",
       "0   2203  667549055577362432  2015-11-20 03:44:31 +0000   \n",
       "1   2204  667546741521195010  2015-11-20 03:35:20 +0000   \n",
       "2   2205  667544320556335104  2015-11-20 03:25:43 +0000   \n",
       "3   2206  667538891197542400  2015-11-20 03:04:08 +0000   \n",
       "4   2207  667534815156183040  2015-11-20 02:47:56 +0000   \n",
       "\n",
       "                                              source  \\\n",
       "0  <a href=\"http://twitter.com\" rel=\"nofollow\">Tw...   \n",
       "1  <a href=\"http://twitter.com\" rel=\"nofollow\">Tw...   \n",
       "2  <a href=\"http://twitter.com\" rel=\"nofollow\">Tw...   \n",
       "3  <a href=\"http://twitter.com\" rel=\"nofollow\">Tw...   \n",
       "4  <a href=\"http://twitter.com\" rel=\"nofollow\">Tw...   \n",
       "\n",
       "                                                text  \\\n",
       "0  Never seen dog like this. Breathes heavy. Tilt...   \n",
       "1  Here is George. George took a selfie of his ne...   \n",
       "2  This is Kial. Kial is either wearing a cape, w...   \n",
       "3  This is a southwest Coriander named Klint. Hat...   \n",
       "4  This is Frank (pronounced \"Fronq\"). Too many b...   \n",
       "\n",
       "                                       expanded_urls  rating_numerator  \\\n",
       "0  https://twitter.com/dog_rates/status/667549055...                 1   \n",
       "1  https://twitter.com/dog_rates/status/667546741...                 9   \n",
       "2  https://twitter.com/dog_rates/status/667544320...                10   \n",
       "3  https://twitter.com/dog_rates/status/667538891...                 9   \n",
       "4  https://twitter.com/dog_rates/status/667534815...                 8   \n",
       "\n",
       "   rating_denominator    name dog_stage  retweet_count  favorite_count  \n",
       "0                  10    None      None         2454.0          6138.0  \n",
       "1                  10  George      None          138.0           355.0  \n",
       "2                  10    Kial      None          568.0           917.0  \n",
       "3                  10       a      None           72.0           220.0  \n",
       "4                  10   Frank      None          576.0           866.0  "
      ]
     },
     "execution_count": 51,
     "metadata": {},
     "output_type": "execute_result"
    }
   ],
   "source": [
    "archive_copy.head()"
   ]
  },
  {
   "cell_type": "code",
   "execution_count": 52,
   "metadata": {},
   "outputs": [],
   "source": [
    "archive_copy = pd.merge(archive_copy, image_predictions, on = 'tweet_id', how = 'inner')"
   ]
  },
  {
   "cell_type": "code",
   "execution_count": 53,
   "metadata": {},
   "outputs": [
    {
     "name": "stdout",
     "output_type": "stream",
     "text": [
      "<class 'pandas.core.frame.DataFrame'>\n",
      "Int64Index: 2075 entries, 0 to 2074\n",
      "Data columns (total 23 columns):\n",
      "index                 2075 non-null int64\n",
      "tweet_id              2075 non-null int64\n",
      "timestamp             2075 non-null object\n",
      "source                2075 non-null object\n",
      "text                  2075 non-null object\n",
      "expanded_urls         2075 non-null object\n",
      "rating_numerator      2075 non-null int64\n",
      "rating_denominator    2075 non-null int64\n",
      "name                  2075 non-null object\n",
      "dog_stage             2075 non-null object\n",
      "retweet_count         2073 non-null float64\n",
      "favorite_count        2073 non-null float64\n",
      "jpg_url               2075 non-null object\n",
      "img_num               2075 non-null int64\n",
      "p1                    2075 non-null object\n",
      "p1_conf               2075 non-null float64\n",
      "p1_dog                2075 non-null bool\n",
      "p2                    2075 non-null object\n",
      "p2_conf               2075 non-null float64\n",
      "p2_dog                2075 non-null bool\n",
      "p3                    2075 non-null object\n",
      "p3_conf               2075 non-null float64\n",
      "p3_dog                2075 non-null bool\n",
      "dtypes: bool(3), float64(5), int64(5), object(10)\n",
      "memory usage: 346.5+ KB\n"
     ]
    }
   ],
   "source": [
    "archive_copy.info()"
   ]
  },
  {
   "cell_type": "code",
   "execution_count": 54,
   "metadata": {},
   "outputs": [],
   "source": [
    "# Cleaning it by dropping the null columns in retweet_count and favorite_counts.\n",
    "archive_copy = archive_copy[~(archive_copy.retweet_count.isna() | archive_copy.favorite_count.isna())]"
   ]
  },
  {
   "cell_type": "markdown",
   "metadata": {},
   "source": [
    "##### Test"
   ]
  },
  {
   "cell_type": "code",
   "execution_count": 55,
   "metadata": {},
   "outputs": [
    {
     "data": {
      "text/html": [
       "<div>\n",
       "<style scoped>\n",
       "    .dataframe tbody tr th:only-of-type {\n",
       "        vertical-align: middle;\n",
       "    }\n",
       "\n",
       "    .dataframe tbody tr th {\n",
       "        vertical-align: top;\n",
       "    }\n",
       "\n",
       "    .dataframe thead th {\n",
       "        text-align: right;\n",
       "    }\n",
       "</style>\n",
       "<table border=\"1\" class=\"dataframe\">\n",
       "  <thead>\n",
       "    <tr style=\"text-align: right;\">\n",
       "      <th></th>\n",
       "      <th>index</th>\n",
       "      <th>tweet_id</th>\n",
       "      <th>timestamp</th>\n",
       "      <th>source</th>\n",
       "      <th>text</th>\n",
       "      <th>expanded_urls</th>\n",
       "      <th>rating_numerator</th>\n",
       "      <th>rating_denominator</th>\n",
       "      <th>name</th>\n",
       "      <th>dog_stage</th>\n",
       "      <th>...</th>\n",
       "      <th>img_num</th>\n",
       "      <th>p1</th>\n",
       "      <th>p1_conf</th>\n",
       "      <th>p1_dog</th>\n",
       "      <th>p2</th>\n",
       "      <th>p2_conf</th>\n",
       "      <th>p2_dog</th>\n",
       "      <th>p3</th>\n",
       "      <th>p3_conf</th>\n",
       "      <th>p3_dog</th>\n",
       "    </tr>\n",
       "  </thead>\n",
       "  <tbody>\n",
       "    <tr>\n",
       "      <th>0</th>\n",
       "      <td>2203</td>\n",
       "      <td>667549055577362432</td>\n",
       "      <td>2015-11-20 03:44:31 +0000</td>\n",
       "      <td>&lt;a href=\"http://twitter.com\" rel=\"nofollow\"&gt;Tw...</td>\n",
       "      <td>Never seen dog like this. Breathes heavy. Tilt...</td>\n",
       "      <td>https://twitter.com/dog_rates/status/667549055...</td>\n",
       "      <td>1</td>\n",
       "      <td>10</td>\n",
       "      <td>None</td>\n",
       "      <td>None</td>\n",
       "      <td>...</td>\n",
       "      <td>1</td>\n",
       "      <td>electric_fan</td>\n",
       "      <td>0.984377</td>\n",
       "      <td>False</td>\n",
       "      <td>spotlight</td>\n",
       "      <td>0.007737</td>\n",
       "      <td>False</td>\n",
       "      <td>lampshade</td>\n",
       "      <td>0.001901</td>\n",
       "      <td>False</td>\n",
       "    </tr>\n",
       "    <tr>\n",
       "      <th>1</th>\n",
       "      <td>2204</td>\n",
       "      <td>667546741521195010</td>\n",
       "      <td>2015-11-20 03:35:20 +0000</td>\n",
       "      <td>&lt;a href=\"http://twitter.com\" rel=\"nofollow\"&gt;Tw...</td>\n",
       "      <td>Here is George. George took a selfie of his ne...</td>\n",
       "      <td>https://twitter.com/dog_rates/status/667546741...</td>\n",
       "      <td>9</td>\n",
       "      <td>10</td>\n",
       "      <td>George</td>\n",
       "      <td>None</td>\n",
       "      <td>...</td>\n",
       "      <td>1</td>\n",
       "      <td>toy_poodle</td>\n",
       "      <td>0.787424</td>\n",
       "      <td>True</td>\n",
       "      <td>miniature_poodle</td>\n",
       "      <td>0.202225</td>\n",
       "      <td>True</td>\n",
       "      <td>teddy</td>\n",
       "      <td>0.004047</td>\n",
       "      <td>False</td>\n",
       "    </tr>\n",
       "    <tr>\n",
       "      <th>2</th>\n",
       "      <td>2205</td>\n",
       "      <td>667544320556335104</td>\n",
       "      <td>2015-11-20 03:25:43 +0000</td>\n",
       "      <td>&lt;a href=\"http://twitter.com\" rel=\"nofollow\"&gt;Tw...</td>\n",
       "      <td>This is Kial. Kial is either wearing a cape, w...</td>\n",
       "      <td>https://twitter.com/dog_rates/status/667544320...</td>\n",
       "      <td>10</td>\n",
       "      <td>10</td>\n",
       "      <td>Kial</td>\n",
       "      <td>None</td>\n",
       "      <td>...</td>\n",
       "      <td>1</td>\n",
       "      <td>Pomeranian</td>\n",
       "      <td>0.412893</td>\n",
       "      <td>True</td>\n",
       "      <td>Pembroke</td>\n",
       "      <td>0.312958</td>\n",
       "      <td>True</td>\n",
       "      <td>Chihuahua</td>\n",
       "      <td>0.071960</td>\n",
       "      <td>True</td>\n",
       "    </tr>\n",
       "    <tr>\n",
       "      <th>3</th>\n",
       "      <td>2206</td>\n",
       "      <td>667538891197542400</td>\n",
       "      <td>2015-11-20 03:04:08 +0000</td>\n",
       "      <td>&lt;a href=\"http://twitter.com\" rel=\"nofollow\"&gt;Tw...</td>\n",
       "      <td>This is a southwest Coriander named Klint. Hat...</td>\n",
       "      <td>https://twitter.com/dog_rates/status/667538891...</td>\n",
       "      <td>9</td>\n",
       "      <td>10</td>\n",
       "      <td>a</td>\n",
       "      <td>None</td>\n",
       "      <td>...</td>\n",
       "      <td>1</td>\n",
       "      <td>Yorkshire_terrier</td>\n",
       "      <td>0.618957</td>\n",
       "      <td>True</td>\n",
       "      <td>silky_terrier</td>\n",
       "      <td>0.300313</td>\n",
       "      <td>True</td>\n",
       "      <td>Australian_terrier</td>\n",
       "      <td>0.053412</td>\n",
       "      <td>True</td>\n",
       "    </tr>\n",
       "    <tr>\n",
       "      <th>4</th>\n",
       "      <td>2207</td>\n",
       "      <td>667534815156183040</td>\n",
       "      <td>2015-11-20 02:47:56 +0000</td>\n",
       "      <td>&lt;a href=\"http://twitter.com\" rel=\"nofollow\"&gt;Tw...</td>\n",
       "      <td>This is Frank (pronounced \"Fronq\"). Too many b...</td>\n",
       "      <td>https://twitter.com/dog_rates/status/667534815...</td>\n",
       "      <td>8</td>\n",
       "      <td>10</td>\n",
       "      <td>Frank</td>\n",
       "      <td>None</td>\n",
       "      <td>...</td>\n",
       "      <td>1</td>\n",
       "      <td>Pembroke</td>\n",
       "      <td>0.435254</td>\n",
       "      <td>True</td>\n",
       "      <td>Cardigan</td>\n",
       "      <td>0.307407</td>\n",
       "      <td>True</td>\n",
       "      <td>cocker_spaniel</td>\n",
       "      <td>0.033158</td>\n",
       "      <td>True</td>\n",
       "    </tr>\n",
       "  </tbody>\n",
       "</table>\n",
       "<p>5 rows × 23 columns</p>\n",
       "</div>"
      ],
      "text/plain": [
       "   index            tweet_id                  timestamp  \\\n",
       "0   2203  667549055577362432  2015-11-20 03:44:31 +0000   \n",
       "1   2204  667546741521195010  2015-11-20 03:35:20 +0000   \n",
       "2   2205  667544320556335104  2015-11-20 03:25:43 +0000   \n",
       "3   2206  667538891197542400  2015-11-20 03:04:08 +0000   \n",
       "4   2207  667534815156183040  2015-11-20 02:47:56 +0000   \n",
       "\n",
       "                                              source  \\\n",
       "0  <a href=\"http://twitter.com\" rel=\"nofollow\">Tw...   \n",
       "1  <a href=\"http://twitter.com\" rel=\"nofollow\">Tw...   \n",
       "2  <a href=\"http://twitter.com\" rel=\"nofollow\">Tw...   \n",
       "3  <a href=\"http://twitter.com\" rel=\"nofollow\">Tw...   \n",
       "4  <a href=\"http://twitter.com\" rel=\"nofollow\">Tw...   \n",
       "\n",
       "                                                text  \\\n",
       "0  Never seen dog like this. Breathes heavy. Tilt...   \n",
       "1  Here is George. George took a selfie of his ne...   \n",
       "2  This is Kial. Kial is either wearing a cape, w...   \n",
       "3  This is a southwest Coriander named Klint. Hat...   \n",
       "4  This is Frank (pronounced \"Fronq\"). Too many b...   \n",
       "\n",
       "                                       expanded_urls  rating_numerator  \\\n",
       "0  https://twitter.com/dog_rates/status/667549055...                 1   \n",
       "1  https://twitter.com/dog_rates/status/667546741...                 9   \n",
       "2  https://twitter.com/dog_rates/status/667544320...                10   \n",
       "3  https://twitter.com/dog_rates/status/667538891...                 9   \n",
       "4  https://twitter.com/dog_rates/status/667534815...                 8   \n",
       "\n",
       "   rating_denominator    name dog_stage   ...    img_num                 p1  \\\n",
       "0                  10    None      None   ...          1       electric_fan   \n",
       "1                  10  George      None   ...          1         toy_poodle   \n",
       "2                  10    Kial      None   ...          1         Pomeranian   \n",
       "3                  10       a      None   ...          1  Yorkshire_terrier   \n",
       "4                  10   Frank      None   ...          1           Pembroke   \n",
       "\n",
       "    p1_conf  p1_dog                p2   p2_conf  p2_dog                  p3  \\\n",
       "0  0.984377   False         spotlight  0.007737   False           lampshade   \n",
       "1  0.787424    True  miniature_poodle  0.202225    True               teddy   \n",
       "2  0.412893    True          Pembroke  0.312958    True           Chihuahua   \n",
       "3  0.618957    True     silky_terrier  0.300313    True  Australian_terrier   \n",
       "4  0.435254    True          Cardigan  0.307407    True      cocker_spaniel   \n",
       "\n",
       "    p3_conf  p3_dog  \n",
       "0  0.001901   False  \n",
       "1  0.004047   False  \n",
       "2  0.071960    True  \n",
       "3  0.053412    True  \n",
       "4  0.033158    True  \n",
       "\n",
       "[5 rows x 23 columns]"
      ]
     },
     "execution_count": 55,
     "metadata": {},
     "output_type": "execute_result"
    }
   ],
   "source": [
    "archive_copy.head()"
   ]
  },
  {
   "cell_type": "markdown",
   "metadata": {},
   "source": [
    "### Validity:\n",
    "#### Cleaning Issue 6:\n",
    "##### Define : In the *names* column : There are some dogs whose names are : 'a','an' ,'by' etc. All names starting with smaller case must be checked and invalid names isolated. Replace these invalid names with \"None\".\n",
    "##### Code:"
   ]
  },
  {
   "cell_type": "code",
   "execution_count": 56,
   "metadata": {},
   "outputs": [],
   "source": [
    "archive_copy.loc[invalid_names, 'name'] = \"None\""
   ]
  },
  {
   "cell_type": "markdown",
   "metadata": {},
   "source": [
    "##### Test:"
   ]
  },
  {
   "cell_type": "code",
   "execution_count": 57,
   "metadata": {},
   "outputs": [
    {
     "data": {
      "text/plain": [
       "None            627\n",
       "a                53\n",
       "Charlie          11\n",
       "Penny            10\n",
       "Oliver           10\n",
       "Lucy             10\n",
       "Cooper            9\n",
       "Lola              8\n",
       "Tucker            8\n",
       "Winston           8\n",
       "Sadie             8\n",
       "Bo                8\n",
       "an                7\n",
       "Toby              7\n",
       "Daisy             7\n",
       "Rusty             6\n",
       "Bailey            6\n",
       "the               6\n",
       "Jax               6\n",
       "Koda              6\n",
       "Dave              6\n",
       "Scout             6\n",
       "Stanley           6\n",
       "Oscar             5\n",
       "Leo               5\n",
       "Alfie             5\n",
       "Chester           5\n",
       "Milo              5\n",
       "Larry             5\n",
       "Bella             5\n",
       "               ... \n",
       "Erik              1\n",
       "Obi               1\n",
       "Edd               1\n",
       "Dudley            1\n",
       "Godzilla          1\n",
       "Hall              1\n",
       "Lilli             1\n",
       "Lili              1\n",
       "Luther            1\n",
       "Ralf              1\n",
       "Akumi             1\n",
       "Tonks             1\n",
       "Bruno             1\n",
       "Bloop             1\n",
       "Barney            1\n",
       "Bruiser           1\n",
       "Chef              1\n",
       "Sandra            1\n",
       "Millie            1\n",
       "Katie             1\n",
       "Ike               1\n",
       "Edmund            1\n",
       "Cleopatricia      1\n",
       "Maddie            1\n",
       "Fiji              1\n",
       "Dutch             1\n",
       "Sweet             1\n",
       "Burt              1\n",
       "Billl             1\n",
       "Dylan             1\n",
       "Name: name, Length: 916, dtype: int64"
      ]
     },
     "execution_count": 57,
     "metadata": {},
     "output_type": "execute_result"
    }
   ],
   "source": [
    "archive_copy.name.value_counts()"
   ]
  },
  {
   "cell_type": "markdown",
   "metadata": {},
   "source": [
    "### Validity:\n",
    "#### Cleaning Issue 7:\n",
    "##### Define : \n",
    "Convert rating_numerator and rating_denominator into float data type.\n",
    "##### Code:"
   ]
  },
  {
   "cell_type": "code",
   "execution_count": 58,
   "metadata": {},
   "outputs": [],
   "source": [
    "#Converting rating_numerator into float type\n",
    "archive_copy['rating_numerator'] = archive_copy['rating_numerator'].astype('float64')"
   ]
  },
  {
   "cell_type": "code",
   "execution_count": 59,
   "metadata": {},
   "outputs": [],
   "source": [
    "#Converting rating_denominator into float type\n",
    "archive_copy['rating_denominator'] = archive_copy['rating_denominator'].astype('float64')"
   ]
  },
  {
   "cell_type": "markdown",
   "metadata": {},
   "source": [
    "##### Testing"
   ]
  },
  {
   "cell_type": "code",
   "execution_count": 60,
   "metadata": {},
   "outputs": [
    {
     "name": "stdout",
     "output_type": "stream",
     "text": [
      "<class 'pandas.core.frame.DataFrame'>\n",
      "Int64Index: 2073 entries, 0 to 2074\n",
      "Data columns (total 23 columns):\n",
      "index                 2073 non-null int64\n",
      "tweet_id              2073 non-null int64\n",
      "timestamp             2073 non-null object\n",
      "source                2073 non-null object\n",
      "text                  2073 non-null object\n",
      "expanded_urls         2073 non-null object\n",
      "rating_numerator      2073 non-null float64\n",
      "rating_denominator    2073 non-null float64\n",
      "name                  2073 non-null object\n",
      "dog_stage             2073 non-null object\n",
      "retweet_count         2073 non-null float64\n",
      "favorite_count        2073 non-null float64\n",
      "jpg_url               2073 non-null object\n",
      "img_num               2073 non-null int64\n",
      "p1                    2073 non-null object\n",
      "p1_conf               2073 non-null float64\n",
      "p1_dog                2073 non-null bool\n",
      "p2                    2073 non-null object\n",
      "p2_conf               2073 non-null float64\n",
      "p2_dog                2073 non-null bool\n",
      "p3                    2073 non-null object\n",
      "p3_conf               2073 non-null float64\n",
      "p3_dog                2073 non-null bool\n",
      "dtypes: bool(3), float64(7), int64(3), object(10)\n",
      "memory usage: 346.2+ KB\n"
     ]
    }
   ],
   "source": [
    "archive_copy.info()"
   ]
  },
  {
   "cell_type": "code",
   "execution_count": 61,
   "metadata": {},
   "outputs": [],
   "source": [
    "# Let us also check if there were any ratings with a float (i.e. it had decimal values) numerator.\n",
    "# For loop to gather all text, indices, and ratings for tweets that contain a decimal in the numerator of the rating\n",
    "#1. Create an empty list of texts, index and values.\n",
    "\n",
    "\n",
    "float_text = []\n",
    "float_index = []\n",
    "float_values = []\n",
    "\n",
    "#2. Using for loop search for decimal values in the text.\n",
    "for i, text in archive_copy['text'].iteritems():\n",
    "    if bool(re.search('\\d+\\.\\d+\\/\\d+', text)): #3. then if the above is found to be True, appending the text, index and decimal rating to the lists mentioned in Step 1\n",
    "        float_text.append(text)\n",
    "        float_index.append(i)\n",
    "        float_values.append(re.search('\\d+\\.\\d+', text).group())"
   ]
  },
  {
   "cell_type": "code",
   "execution_count": 62,
   "metadata": {},
   "outputs": [
    {
     "data": {
      "text/plain": [
       "['This is Bella. She hopes her smile made you smile. If not, she is also offering you her favorite monkey. 13.5/10 https://t.co/qjrljjt948',\n",
       " 'Here we have uncovered an entire battalion of holiday puppers. Average of 11.26/10 https://t.co/eNm2S6p9BD',\n",
       " \"This is Logan, the Chow who lived. He solemnly swears he's up to lots of good. H*ckin magical af 9.75/10 https://t.co/yBO5wuqaPS\",\n",
       " \"This is Sophie. She's a Jubilant Bush Pupper. Super h*ckin rare. Appears at random just to smile at the locals. 11.27/10 would smile back https://t.co/QFaUiIHxHq\"]"
      ]
     },
     "execution_count": 62,
     "metadata": {},
     "output_type": "execute_result"
    }
   ],
   "source": [
    "# Check if there is any such text.\n",
    "float_text"
   ]
  },
  {
   "cell_type": "markdown",
   "metadata": {},
   "source": [
    "**Wrangling the data is an iterative process. This find was missed out in the assessment section. So let us loop through the process again.**"
   ]
  },
  {
   "cell_type": "code",
   "execution_count": 63,
   "metadata": {},
   "outputs": [
    {
     "data": {
      "text/plain": [
       "[210, 945, 1670, 2025]"
      ]
     },
     "execution_count": 63,
     "metadata": {},
     "output_type": "execute_result"
    }
   ],
   "source": [
    "#Check the ratings numerator for these values :\n",
    "float_index"
   ]
  },
  {
   "cell_type": "code",
   "execution_count": 64,
   "metadata": {},
   "outputs": [
    {
     "data": {
      "text/html": [
       "<div>\n",
       "<style scoped>\n",
       "    .dataframe tbody tr th:only-of-type {\n",
       "        vertical-align: middle;\n",
       "    }\n",
       "\n",
       "    .dataframe tbody tr th {\n",
       "        vertical-align: top;\n",
       "    }\n",
       "\n",
       "    .dataframe thead th {\n",
       "        text-align: right;\n",
       "    }\n",
       "</style>\n",
       "<table border=\"1\" class=\"dataframe\">\n",
       "  <thead>\n",
       "    <tr style=\"text-align: right;\">\n",
       "      <th></th>\n",
       "      <th>index</th>\n",
       "      <th>tweet_id</th>\n",
       "      <th>timestamp</th>\n",
       "      <th>source</th>\n",
       "      <th>text</th>\n",
       "      <th>expanded_urls</th>\n",
       "      <th>rating_numerator</th>\n",
       "      <th>rating_denominator</th>\n",
       "      <th>name</th>\n",
       "      <th>dog_stage</th>\n",
       "      <th>...</th>\n",
       "      <th>img_num</th>\n",
       "      <th>p1</th>\n",
       "      <th>p1_conf</th>\n",
       "      <th>p1_dog</th>\n",
       "      <th>p2</th>\n",
       "      <th>p2_conf</th>\n",
       "      <th>p2_dog</th>\n",
       "      <th>p3</th>\n",
       "      <th>p3_conf</th>\n",
       "      <th>p3_dog</th>\n",
       "    </tr>\n",
       "  </thead>\n",
       "  <tbody>\n",
       "    <tr>\n",
       "      <th>210</th>\n",
       "      <td>44</td>\n",
       "      <td>883482846933004288</td>\n",
       "      <td>2017-07-08 00:28:19 +0000</td>\n",
       "      <td>&lt;a href=\"http://twitter.com/download/iphone\" r...</td>\n",
       "      <td>This is Bella. She hopes her smile made you sm...</td>\n",
       "      <td>https://twitter.com/dog_rates/status/883482846...</td>\n",
       "      <td>5.0</td>\n",
       "      <td>10.0</td>\n",
       "      <td>Bella</td>\n",
       "      <td>None</td>\n",
       "      <td>...</td>\n",
       "      <td>1</td>\n",
       "      <td>golden_retriever</td>\n",
       "      <td>0.943082</td>\n",
       "      <td>True</td>\n",
       "      <td>Labrador_retriever</td>\n",
       "      <td>0.032409</td>\n",
       "      <td>True</td>\n",
       "      <td>kuvasz</td>\n",
       "      <td>0.005501</td>\n",
       "      <td>True</td>\n",
       "    </tr>\n",
       "    <tr>\n",
       "      <th>945</th>\n",
       "      <td>3961</td>\n",
       "      <td>680494726643068929</td>\n",
       "      <td>2015-12-25 21:06:00 +0000</td>\n",
       "      <td>&lt;a href=\"http://twitter.com/download/iphone\" r...</td>\n",
       "      <td>Here we have uncovered an entire battalion of ...</td>\n",
       "      <td>https://twitter.com/dog_rates/status/680494726...</td>\n",
       "      <td>26.0</td>\n",
       "      <td>10.0</td>\n",
       "      <td>None</td>\n",
       "      <td>None</td>\n",
       "      <td>...</td>\n",
       "      <td>1</td>\n",
       "      <td>kuvasz</td>\n",
       "      <td>0.438627</td>\n",
       "      <td>True</td>\n",
       "      <td>Samoyed</td>\n",
       "      <td>0.111622</td>\n",
       "      <td>True</td>\n",
       "      <td>Great_Pyrenees</td>\n",
       "      <td>0.064061</td>\n",
       "      <td>True</td>\n",
       "    </tr>\n",
       "    <tr>\n",
       "      <th>1670</th>\n",
       "      <td>2964</td>\n",
       "      <td>786709082849828864</td>\n",
       "      <td>2016-10-13 23:23:56 +0000</td>\n",
       "      <td>&lt;a href=\"http://twitter.com/download/iphone\" r...</td>\n",
       "      <td>This is Logan, the Chow who lived. He solemnly...</td>\n",
       "      <td>https://twitter.com/dog_rates/status/786709082...</td>\n",
       "      <td>75.0</td>\n",
       "      <td>10.0</td>\n",
       "      <td>Logan</td>\n",
       "      <td>None</td>\n",
       "      <td>...</td>\n",
       "      <td>1</td>\n",
       "      <td>Pomeranian</td>\n",
       "      <td>0.467321</td>\n",
       "      <td>True</td>\n",
       "      <td>Persian_cat</td>\n",
       "      <td>0.122978</td>\n",
       "      <td>False</td>\n",
       "      <td>chow</td>\n",
       "      <td>0.102654</td>\n",
       "      <td>True</td>\n",
       "    </tr>\n",
       "    <tr>\n",
       "      <th>2025</th>\n",
       "      <td>5327</td>\n",
       "      <td>778027034220126208</td>\n",
       "      <td>2016-09-20 00:24:34 +0000</td>\n",
       "      <td>&lt;a href=\"http://twitter.com/download/iphone\" r...</td>\n",
       "      <td>This is Sophie. She's a Jubilant Bush Pupper. ...</td>\n",
       "      <td>https://twitter.com/dog_rates/status/778027034...</td>\n",
       "      <td>27.0</td>\n",
       "      <td>10.0</td>\n",
       "      <td>Sophie</td>\n",
       "      <td>pupper</td>\n",
       "      <td>...</td>\n",
       "      <td>1</td>\n",
       "      <td>clumber</td>\n",
       "      <td>0.946718</td>\n",
       "      <td>True</td>\n",
       "      <td>cocker_spaniel</td>\n",
       "      <td>0.015950</td>\n",
       "      <td>True</td>\n",
       "      <td>Lhasa</td>\n",
       "      <td>0.006519</td>\n",
       "      <td>True</td>\n",
       "    </tr>\n",
       "  </tbody>\n",
       "</table>\n",
       "<p>4 rows × 23 columns</p>\n",
       "</div>"
      ],
      "text/plain": [
       "      index            tweet_id                  timestamp  \\\n",
       "210      44  883482846933004288  2017-07-08 00:28:19 +0000   \n",
       "945    3961  680494726643068929  2015-12-25 21:06:00 +0000   \n",
       "1670   2964  786709082849828864  2016-10-13 23:23:56 +0000   \n",
       "2025   5327  778027034220126208  2016-09-20 00:24:34 +0000   \n",
       "\n",
       "                                                 source  \\\n",
       "210   <a href=\"http://twitter.com/download/iphone\" r...   \n",
       "945   <a href=\"http://twitter.com/download/iphone\" r...   \n",
       "1670  <a href=\"http://twitter.com/download/iphone\" r...   \n",
       "2025  <a href=\"http://twitter.com/download/iphone\" r...   \n",
       "\n",
       "                                                   text  \\\n",
       "210   This is Bella. She hopes her smile made you sm...   \n",
       "945   Here we have uncovered an entire battalion of ...   \n",
       "1670  This is Logan, the Chow who lived. He solemnly...   \n",
       "2025  This is Sophie. She's a Jubilant Bush Pupper. ...   \n",
       "\n",
       "                                          expanded_urls  rating_numerator  \\\n",
       "210   https://twitter.com/dog_rates/status/883482846...               5.0   \n",
       "945   https://twitter.com/dog_rates/status/680494726...              26.0   \n",
       "1670  https://twitter.com/dog_rates/status/786709082...              75.0   \n",
       "2025  https://twitter.com/dog_rates/status/778027034...              27.0   \n",
       "\n",
       "      rating_denominator    name dog_stage   ...    img_num                p1  \\\n",
       "210                 10.0   Bella      None   ...          1  golden_retriever   \n",
       "945                 10.0    None      None   ...          1            kuvasz   \n",
       "1670                10.0   Logan      None   ...          1        Pomeranian   \n",
       "2025                10.0  Sophie    pupper   ...          1           clumber   \n",
       "\n",
       "       p1_conf  p1_dog                  p2   p2_conf  p2_dog              p3  \\\n",
       "210   0.943082    True  Labrador_retriever  0.032409    True          kuvasz   \n",
       "945   0.438627    True             Samoyed  0.111622    True  Great_Pyrenees   \n",
       "1670  0.467321    True         Persian_cat  0.122978   False            chow   \n",
       "2025  0.946718    True      cocker_spaniel  0.015950    True           Lhasa   \n",
       "\n",
       "       p3_conf  p3_dog  \n",
       "210   0.005501    True  \n",
       "945   0.064061    True  \n",
       "1670  0.102654    True  \n",
       "2025  0.006519    True  \n",
       "\n",
       "[4 rows x 23 columns]"
      ]
     },
     "execution_count": 64,
     "metadata": {},
     "output_type": "execute_result"
    }
   ],
   "source": [
    "#Printing the rows with the above indicesb \n",
    "archive_copy[archive_copy.index.isin([210, 945, 1670, 2025])]"
   ]
  },
  {
   "cell_type": "markdown",
   "metadata": {},
   "source": [
    "**As we can see that the rating_numerator of all such dogs are incorrect.** Let us correct these."
   ]
  },
  {
   "cell_type": "markdown",
   "metadata": {},
   "source": [
    "##### Define : Select the respective rows which have faulty data and replace these values with the ones that we have extracted above."
   ]
  },
  {
   "cell_type": "code",
   "execution_count": 65,
   "metadata": {},
   "outputs": [],
   "source": [
    "#Code:\n",
    "# Since there are only four such rows, we can do this without iteration(i.e, through a loop)\n",
    "# For the index number 210, the dog's name is Bella and its rating as displayed under the ratings_numerator is 5 as against 13.5\n",
    "archive_copy.loc[float_index[0],'rating_numerator'] = float(float_values[0])\n",
    "#For the index number 945, the dog's name is not mentioned however the rating displayed under the ratings_numerator is 26 as against 11.26\n",
    "archive_copy.loc[float_index[1],'rating_numerator'] = float(float_values[1])\n",
    "#For the index number 1670, the dog's name is Logan and its rating as displayed under the ratings_numerator is 75 as against 9.75\n",
    "archive_copy.loc[float_index[2],'rating_numerator'] = float(float_values[2])\n",
    "# For the index number 210, the dog's name is Sophie and its rating as displayed under the ratings_numerator is 27 as against 11.27\n",
    "archive_copy.loc[float_index[3],'rating_numerator'] = float(float_values[3])"
   ]
  },
  {
   "cell_type": "markdown",
   "metadata": {},
   "source": [
    "##### Test:"
   ]
  },
  {
   "cell_type": "code",
   "execution_count": 66,
   "metadata": {},
   "outputs": [
    {
     "data": {
      "text/html": [
       "<div>\n",
       "<style scoped>\n",
       "    .dataframe tbody tr th:only-of-type {\n",
       "        vertical-align: middle;\n",
       "    }\n",
       "\n",
       "    .dataframe tbody tr th {\n",
       "        vertical-align: top;\n",
       "    }\n",
       "\n",
       "    .dataframe thead th {\n",
       "        text-align: right;\n",
       "    }\n",
       "</style>\n",
       "<table border=\"1\" class=\"dataframe\">\n",
       "  <thead>\n",
       "    <tr style=\"text-align: right;\">\n",
       "      <th></th>\n",
       "      <th>index</th>\n",
       "      <th>tweet_id</th>\n",
       "      <th>timestamp</th>\n",
       "      <th>source</th>\n",
       "      <th>text</th>\n",
       "      <th>expanded_urls</th>\n",
       "      <th>rating_numerator</th>\n",
       "      <th>rating_denominator</th>\n",
       "      <th>name</th>\n",
       "      <th>dog_stage</th>\n",
       "      <th>...</th>\n",
       "      <th>img_num</th>\n",
       "      <th>p1</th>\n",
       "      <th>p1_conf</th>\n",
       "      <th>p1_dog</th>\n",
       "      <th>p2</th>\n",
       "      <th>p2_conf</th>\n",
       "      <th>p2_dog</th>\n",
       "      <th>p3</th>\n",
       "      <th>p3_conf</th>\n",
       "      <th>p3_dog</th>\n",
       "    </tr>\n",
       "  </thead>\n",
       "  <tbody>\n",
       "    <tr>\n",
       "      <th>210</th>\n",
       "      <td>44</td>\n",
       "      <td>883482846933004288</td>\n",
       "      <td>2017-07-08 00:28:19 +0000</td>\n",
       "      <td>&lt;a href=\"http://twitter.com/download/iphone\" r...</td>\n",
       "      <td>This is Bella. She hopes her smile made you sm...</td>\n",
       "      <td>https://twitter.com/dog_rates/status/883482846...</td>\n",
       "      <td>13.50</td>\n",
       "      <td>10.0</td>\n",
       "      <td>Bella</td>\n",
       "      <td>None</td>\n",
       "      <td>...</td>\n",
       "      <td>1</td>\n",
       "      <td>golden_retriever</td>\n",
       "      <td>0.943082</td>\n",
       "      <td>True</td>\n",
       "      <td>Labrador_retriever</td>\n",
       "      <td>0.032409</td>\n",
       "      <td>True</td>\n",
       "      <td>kuvasz</td>\n",
       "      <td>0.005501</td>\n",
       "      <td>True</td>\n",
       "    </tr>\n",
       "    <tr>\n",
       "      <th>945</th>\n",
       "      <td>3961</td>\n",
       "      <td>680494726643068929</td>\n",
       "      <td>2015-12-25 21:06:00 +0000</td>\n",
       "      <td>&lt;a href=\"http://twitter.com/download/iphone\" r...</td>\n",
       "      <td>Here we have uncovered an entire battalion of ...</td>\n",
       "      <td>https://twitter.com/dog_rates/status/680494726...</td>\n",
       "      <td>11.26</td>\n",
       "      <td>10.0</td>\n",
       "      <td>None</td>\n",
       "      <td>None</td>\n",
       "      <td>...</td>\n",
       "      <td>1</td>\n",
       "      <td>kuvasz</td>\n",
       "      <td>0.438627</td>\n",
       "      <td>True</td>\n",
       "      <td>Samoyed</td>\n",
       "      <td>0.111622</td>\n",
       "      <td>True</td>\n",
       "      <td>Great_Pyrenees</td>\n",
       "      <td>0.064061</td>\n",
       "      <td>True</td>\n",
       "    </tr>\n",
       "    <tr>\n",
       "      <th>1670</th>\n",
       "      <td>2964</td>\n",
       "      <td>786709082849828864</td>\n",
       "      <td>2016-10-13 23:23:56 +0000</td>\n",
       "      <td>&lt;a href=\"http://twitter.com/download/iphone\" r...</td>\n",
       "      <td>This is Logan, the Chow who lived. He solemnly...</td>\n",
       "      <td>https://twitter.com/dog_rates/status/786709082...</td>\n",
       "      <td>9.75</td>\n",
       "      <td>10.0</td>\n",
       "      <td>Logan</td>\n",
       "      <td>None</td>\n",
       "      <td>...</td>\n",
       "      <td>1</td>\n",
       "      <td>Pomeranian</td>\n",
       "      <td>0.467321</td>\n",
       "      <td>True</td>\n",
       "      <td>Persian_cat</td>\n",
       "      <td>0.122978</td>\n",
       "      <td>False</td>\n",
       "      <td>chow</td>\n",
       "      <td>0.102654</td>\n",
       "      <td>True</td>\n",
       "    </tr>\n",
       "    <tr>\n",
       "      <th>2025</th>\n",
       "      <td>5327</td>\n",
       "      <td>778027034220126208</td>\n",
       "      <td>2016-09-20 00:24:34 +0000</td>\n",
       "      <td>&lt;a href=\"http://twitter.com/download/iphone\" r...</td>\n",
       "      <td>This is Sophie. She's a Jubilant Bush Pupper. ...</td>\n",
       "      <td>https://twitter.com/dog_rates/status/778027034...</td>\n",
       "      <td>11.27</td>\n",
       "      <td>10.0</td>\n",
       "      <td>Sophie</td>\n",
       "      <td>pupper</td>\n",
       "      <td>...</td>\n",
       "      <td>1</td>\n",
       "      <td>clumber</td>\n",
       "      <td>0.946718</td>\n",
       "      <td>True</td>\n",
       "      <td>cocker_spaniel</td>\n",
       "      <td>0.015950</td>\n",
       "      <td>True</td>\n",
       "      <td>Lhasa</td>\n",
       "      <td>0.006519</td>\n",
       "      <td>True</td>\n",
       "    </tr>\n",
       "  </tbody>\n",
       "</table>\n",
       "<p>4 rows × 23 columns</p>\n",
       "</div>"
      ],
      "text/plain": [
       "      index            tweet_id                  timestamp  \\\n",
       "210      44  883482846933004288  2017-07-08 00:28:19 +0000   \n",
       "945    3961  680494726643068929  2015-12-25 21:06:00 +0000   \n",
       "1670   2964  786709082849828864  2016-10-13 23:23:56 +0000   \n",
       "2025   5327  778027034220126208  2016-09-20 00:24:34 +0000   \n",
       "\n",
       "                                                 source  \\\n",
       "210   <a href=\"http://twitter.com/download/iphone\" r...   \n",
       "945   <a href=\"http://twitter.com/download/iphone\" r...   \n",
       "1670  <a href=\"http://twitter.com/download/iphone\" r...   \n",
       "2025  <a href=\"http://twitter.com/download/iphone\" r...   \n",
       "\n",
       "                                                   text  \\\n",
       "210   This is Bella. She hopes her smile made you sm...   \n",
       "945   Here we have uncovered an entire battalion of ...   \n",
       "1670  This is Logan, the Chow who lived. He solemnly...   \n",
       "2025  This is Sophie. She's a Jubilant Bush Pupper. ...   \n",
       "\n",
       "                                          expanded_urls  rating_numerator  \\\n",
       "210   https://twitter.com/dog_rates/status/883482846...             13.50   \n",
       "945   https://twitter.com/dog_rates/status/680494726...             11.26   \n",
       "1670  https://twitter.com/dog_rates/status/786709082...              9.75   \n",
       "2025  https://twitter.com/dog_rates/status/778027034...             11.27   \n",
       "\n",
       "      rating_denominator    name dog_stage   ...    img_num                p1  \\\n",
       "210                 10.0   Bella      None   ...          1  golden_retriever   \n",
       "945                 10.0    None      None   ...          1            kuvasz   \n",
       "1670                10.0   Logan      None   ...          1        Pomeranian   \n",
       "2025                10.0  Sophie    pupper   ...          1           clumber   \n",
       "\n",
       "       p1_conf  p1_dog                  p2   p2_conf  p2_dog              p3  \\\n",
       "210   0.943082    True  Labrador_retriever  0.032409    True          kuvasz   \n",
       "945   0.438627    True             Samoyed  0.111622    True  Great_Pyrenees   \n",
       "1670  0.467321    True         Persian_cat  0.122978   False            chow   \n",
       "2025  0.946718    True      cocker_spaniel  0.015950    True           Lhasa   \n",
       "\n",
       "       p3_conf  p3_dog  \n",
       "210   0.005501    True  \n",
       "945   0.064061    True  \n",
       "1670  0.102654    True  \n",
       "2025  0.006519    True  \n",
       "\n",
       "[4 rows x 23 columns]"
      ]
     },
     "execution_count": 66,
     "metadata": {},
     "output_type": "execute_result"
    }
   ],
   "source": [
    "archive_copy[archive_copy.index.isin([210, 945, 1670, 2025])]"
   ]
  },
  {
   "cell_type": "markdown",
   "metadata": {},
   "source": [
    "### Validity:\n",
    "#### Cleaning Issue 8: \n",
    "##### Define :  As per the description of this data frame, p1 contains the breed names. \"pole, nail, sandbar, swab, suit, traffic light, hotdog, cowboy_boot, teapot, cup, china_cabinet, website, seat_belt, American black bear\" are not dog breeds.\n",
    "1. **Replace invalid names with \"None\".**\n",
    "\n",
    "2. Rename giant_panda as giant_panda dog.\n",
    "3. Rename bison as Bichon Frise.\n",
    "4. Rename hare as Hare Indian Dog.\n",
    "5. Rename  malamute as Alaskan Malamute.\n",
    "6. Rename airedale as Airedale Terrier.\n",
    "7. Rename teddy as Zuchon\n",
    "8. Rename chow as Chow-Chow\n",
    "9. Rename Lhasa as Lhasa Apso\n",
    "10. Rename redbone as Redbone Coonhound\n",
    "11. Rename basset as Basset Hound\n",
    "12. Rename Leonberg as Leonberger\n",
    "13. Rename Pekinese as Pekingese\n",
    "14. Rename cairn as Cairn Terrier\n",
    "15. Rename clumber as Clumber Spaniel\n",
    "16. Capitalize the first alphabet of each word in the column.\n"
   ]
  },
  {
   "cell_type": "markdown",
   "metadata": {},
   "source": [
    "##### Code:"
   ]
  },
  {
   "cell_type": "code",
   "execution_count": 67,
   "metadata": {},
   "outputs": [
    {
     "data": {
      "text/plain": [
       "array(['electric_fan', 'toy_poodle', 'Pomeranian', 'Yorkshire_terrier',\n",
       "       'Pembroke', 'golden_retriever', 'web_site', 'hare', 'beagle',\n",
       "       'Labrador_retriever', 'Chihuahua', 'borzoi', 'Tibetan_terrier',\n",
       "       'Italian_greyhound', 'kuvasz', 'Norwegian_elkhound', 'malamute',\n",
       "       'seat_belt', 'common_iguana', 'jigsaw_puzzle', 'ibex', 'toyshop',\n",
       "       'flat-coated_retriever', 'dalmatian', 'lorikeet',\n",
       "       'West_Highland_white_terrier', 'fire_engine', 'miniature_pinscher',\n",
       "       'frilled_lizard', 'goose', 'Rottweiler', 'Chesapeake_Bay_retriever',\n",
       "       'hyena', 'hay', 'swab', 'Airedale', 'Maltese_dog',\n",
       "       'miniature_schnauzer', 'English_setter', 'snail', 'triceratops',\n",
       "       'porcupine', 'Saint_Bernard', 'papillon', 'teddy', 'Siberian_husky',\n",
       "       'vacuum', 'vizsla', 'soft-coated_wheaten_terrier',\n",
       "       'giant_schnauzer', 'leatherback_turtle', 'hamster', 'canoe', 'chow',\n",
       "       'trombone', 'Blenheim_spaniel', 'Arctic_fox', 'Angora',\n",
       "       'king_penguin', 'bustard', 'shopping_basket', 'Shih-Tzu',\n",
       "       'American_Staffordshire_terrier', 'Lakeland_terrier', 'basenji',\n",
       "       'Staffordshire_bullterrier', 'standard_poodle', 'bearskin',\n",
       "       'miniature_poodle', 'German_shepherd', 'three-toed_sloth',\n",
       "       'desktop_computer', 'hen', 'ox', 'Lhasa', 'pug', 'Walker_hound',\n",
       "       'Gordon_setter', 'shopping_cart', 'bloodhound', 'guinea_pig',\n",
       "       'Border_collie', 'Ibizan_hound', 'curly-coated_retriever', 'llama',\n",
       "       'toy_terrier', 'coho', 'black-and-tan_coonhound', 'box_turtle',\n",
       "       'Bernese_mountain_dog', 'Rhodesian_ridgeback', 'redbone', 'orange',\n",
       "       'Newfoundland', 'cocker_spaniel', 'laptop', 'basset', 'Saluki',\n",
       "       'French_bulldog', 'limousine', 'Mexican_hairless', 'Samoyed',\n",
       "       'convertible', 'paper_towel', 'Appenzeller', 'whippet',\n",
       "       'Irish_terrier', 'German_short-haired_pointer', 'street_sign',\n",
       "       'English_springer', 'tabby', 'tricycle', 'tusker', 'Doberman',\n",
       "       'Eskimo_dog', 'Weimaraner', 'basketball', 'Old_English_sheepdog',\n",
       "       'briard', 'weasel', 'grey_fox', 'Great_Dane', 'bath_towel',\n",
       "       'Siamese_cat', 'washbasin', 'sea_lion', 'Scottish_deerhound',\n",
       "       'Boston_bull', 'bow_tie', 'beaver', 'Australian_terrier',\n",
       "       'groenendael', 'tailed_frog', 'white_wolf', 'window_shade',\n",
       "       'Great_Pyrenees', 'hippopotamus', 'wallaby', 'boxer',\n",
       "       'Brittany_spaniel', 'Norfolk_terrier', 'schipperke', 'mousetrap',\n",
       "       'cairn', 'hummingbird', 'malinois', 'Dandie_Dinmont',\n",
       "       'Border_terrier', 'damselfly', 'Tibetan_mastiff', 'cheeseburger',\n",
       "       'refrigerator', 'car_mirror', 'fiddler_crab', 'kelpie', 'minibus',\n",
       "       'dishwasher', 'motor_scooter', 'bighorn', 'snorkel', 'geyser',\n",
       "       'barrow', 'badger', 'minivan', 'Shetland_sheepdog', 'bannister',\n",
       "       'Cardigan', 'crane', 'cowboy_hat', 'collie', 'snowmobile',\n",
       "       'Scotch_terrier', 'dogsled', 'otter', 'tennis_ball', 'bonnet',\n",
       "       'swing', 'hammer', 'studio_couch', 'cliff', 'keeshond',\n",
       "       'Bedlington_terrier', 'Irish_water_spaniel', 'stone_wall',\n",
       "       'doormat', 'hand_blower', 'koala', 'lakeside', 'polecat', 'nail',\n",
       "       'ram', 'bathtub', 'wild_boar', 'muzzle', 'Norwich_terrier', 'agama',\n",
       "       'four-poster', 'Egyptian_cat', 'space_heater', 'comic_book',\n",
       "       'ice_bear', 'timber_wolf', 'dingo', 'meerkat', 'brown_bear',\n",
       "       'hotdog', 'bib', 'Pekinese', 'cheetah', 'bluetick', 'prayer_rug',\n",
       "       'chimpanzee', 'china_cabinet', 'bee_eater', 'ski_mask',\n",
       "       'killer_whale', 'ostrich', 'terrapin', 'pitcher',\n",
       "       'African_hunting_dog', 'picket_fence', 'tub', 'zebra', 'Loafer',\n",
       "       'feather_boa', 'park_bench', 'hermit_crab', 'wombat',\n",
       "       'water_bottle', 'toilet_seat', 'suit', 'Brabancon_griffon',\n",
       "       'gondola', 'microwave', 'sandbar', 'seashore', 'cuirass', 'candle',\n",
       "       'Christmas_stocking', 'crash_helmet', 'komondor', 'hog', 'lynx',\n",
       "       'Arabian_camel', 'shower_curtain', 'jellyfish', 'piggy_bank', 'pot',\n",
       "       'wood_rabbit', 'dhole', 'lacewing', 'microphone', 'flamingo',\n",
       "       'banana', 'scorpion', 'wool', 'axolotl', 'boathouse', 'mud_turtle',\n",
       "       'platypus', 'peacock', 'Sussex_spaniel', 'sorrel',\n",
       "       \"jack-o'-lantern\", 'sea_urchin', 'ping-pong_ball', 'robin',\n",
       "       'pillow', 'earthstar', 'EntleBucher', 'bubble', 'cash_machine',\n",
       "       'harp', 'panpipe', 'maze', 'bald_eagle', 'carousel', 'patio',\n",
       "       'ocarina', 'stove', 'upright', 'dough', 'slug', 'toilet_tissue',\n",
       "       'tick', 'African_crocodile', 'acorn_squash', 'soccer_ball',\n",
       "       'book_jacket', 'black-footed_ferret', 'guenon',\n",
       "       'Welsh_springer_spaniel', 'Japanese_spaniel', 'water_buffalo',\n",
       "       'standard_schnauzer', 'bull_mastiff', 'walking_stick', 'lawn_mower',\n",
       "       'restaurant', 'Greater_Swiss_Mountain_dog', 'loupe', 'Irish_setter',\n",
       "       'cowboy_boot', 'school_bus', 'wire-haired_fox_terrier',\n",
       "       'Afghan_hound', 'gas_pump', 'bakery', 'home_theater', 'bookcase',\n",
       "       'shield', 'pencil_box', 'prison', 'barbell', 'grille', 'coffee_mug',\n",
       "       'fountain', 'pole', 'revolver', 'envelope', 'marmot', 'syringe',\n",
       "       'jersey', 'Leonberg', 'teapot', 'military_uniform', 'birdhouse',\n",
       "       'washer', 'leopard', 'remote_control', 'Madagascar_cat', 'maillot',\n",
       "       'coral_reef', 'sulphur-crested_cockatoo', 'tiger_shark',\n",
       "       'silky_terrier', 'rotisserie', 'balloon', 'radio_telescope',\n",
       "       'skunk', 'bookshop', 'conch', 'cougar', 'paddle', 'African_grey',\n",
       "       'rapeseed', 'quilt', 'pool_table', 'beach_wagon', 'coil',\n",
       "       'sunglasses', 'traffic_light', 'binoculars', 'lion', 'mortarboard',\n",
       "       'long-horned_beetle', 'carton', 'cup', 'espresso', 'handkerchief',\n",
       "       'American_black_bear', 'alp', 'dining_table', 'ice_lolly', 'bison',\n",
       "       'mailbox', 'sliding_door', 'pedestal', 'clog', 'starfish',\n",
       "       'leaf_beetle', 'clumber', 'rain_barrel', 'wooden_spoon', 'sundial',\n",
       "       'giant_panda', 'bow', 'padlock'], dtype=object)"
      ]
     },
     "execution_count": 67,
     "metadata": {},
     "output_type": "execute_result"
    }
   ],
   "source": [
    "archive_copy.p1.unique()"
   ]
  },
  {
   "cell_type": "code",
   "execution_count": 68,
   "metadata": {},
   "outputs": [
    {
     "data": {
      "text/plain": [
       "<bound method _noarg_wrapper.<locals>.wrapper of <pandas.core.strings.StringMethods object at 0x7f116705d940>>"
      ]
     },
     "execution_count": 68,
     "metadata": {},
     "output_type": "execute_result"
    }
   ],
   "source": [
    "invalid_dog_breeds = ['electric_fan', 'toy_poodle', 'web_site','seat_belt', 'common_iguana', 'jigsaw_puzzle', 'ibex', 'toyshop','lorikeet', 'fire_engine','frilled_lizard', 'goose', 'hyena', 'hay', 'swab','snail', 'triceratops','papillon', 'vacuum', 'vizsla','leatherback_turtle', 'hamster', 'king_penguin', 'bustard', 'shopping_basket','bearskin','three-toed_sloth','desktop_computer', 'hen', 'ox','shopping_cart','guinea_pig','coho','box_turtle','orange','laptop','convertible','paper_towel','street_sign','bow', 'padlock','rain_barrel', 'wooden_spoon', 'sundial','rain_barrel','mailbox', 'sliding_door', 'pedestal', 'clog', 'starfish',\n",
    "       'leaf_beetle','mailbox', 'sliding_door', 'pedestal', 'clog', 'starfish','porcupine','alp', 'dining_table', 'ice_lolly','rapeseed', 'quilt', 'pool_table', 'beach_wagon', 'coil',\n",
    "       'sunglasses', 'traffic_light', 'binoculars', 'lion', 'mortarboard',\n",
    "       'long-horned_beetle', 'carton', 'cup', 'espresso', 'handkerchief','rapeseed', 'quilt', 'pool_table','African_grey','paddle', 'balloon', 'radio_telescope',\n",
    "       'skunk', 'bookshop', 'conch', 'cougar','skunk','radio_telescope','ballon','rotisserie','tiger_shark','sulphur-crested_cockatoo','coral_reef','teapot', 'military_uniform', 'birdhouse','gas_pump', 'bakery', 'home_theater', 'bookcase',\n",
    "       'shield', 'pencil_box', 'prison', 'barbell', 'grille', 'coffee_mug',\n",
    "       'fountain', 'pole', 'revolver', 'envelope', 'marmot', 'syringe',\n",
    "       'jersey', 'cowboy_boot', 'school_bus', 'loupe', 'walking_stick', 'lawn_mower',\n",
    "       'restaurant', 'water_buffalo', 'ocarina', 'stove', 'upright', 'dough', 'slug', 'toilet_tissue',\n",
    "       'tick', 'African_crocodile', 'acorn_squash', 'soccer_ball',\n",
    "       'book_jacket', 'black-footed_ferret', 'guenon','bubble', 'cash_machine',\n",
    "       'harp', 'panpipe', 'maze', 'bald_eagle', 'carousel', 'patio', 'sorrel', \"jack-o'-lantern\", 'sea_urchin', 'ping-pong_ball', 'robin',\n",
    "       'pillow', 'earthstar', 'boathouse', 'mud_turtle',\n",
    "       'platypus', 'peacock', 'lacewing', 'microphone', 'flamingo',\n",
    "       'banana', 'scorpion', 'wool', 'axolotl', 'hog', 'lynx',\n",
    "       'Arabian_camel', 'shower_curtain', 'jellyfish', 'piggy_bank', 'pot',\n",
    "       'wood_rabbit', 'gondola', 'microwave', 'sandbar', 'seashore', 'cuirass', 'candle',\n",
    "       'Christmas_stocking', 'crash_helmet', 'picket_fence', 'tub', 'zebra', 'Loafer',\n",
    "       'feather_boa', 'park_bench', 'hermit_crab', 'wombat',\n",
    "       'water_bottle', 'toilet_seat', 'suit',  'cheetah', 'bluetick', 'prayer_rug',\n",
    "       'chimpanzee', 'china_cabinet', 'bee_eater', 'ski_mask',\n",
    "       'killer_whale', 'ostrich', 'terrapin', 'pitcher', 'meerkat', 'brown_bear',\n",
    "       'hotdog', 'bib', 'agama',\n",
    "       'four-poster', 'Egyptian_cat', 'space_heater', 'comic_book',\n",
    "       'ice_bear', 'timber_wolf',  'stone_wall',\n",
    "       'doormat', 'hand_blower', 'koala', 'lakeside', 'polecat', 'nail',\n",
    "       'ram', 'bathtub', 'wild_boar', 'dogsled', 'otter', 'tennis_ball', 'bonnet',\n",
    "       'swing', 'hammer', 'studio_couch', 'cliff', 'bannister',\n",
    "       'Cardigan', 'crane', 'cowboy_hat', 'collie', 'snowmobile', 'minibus',\n",
    "       'dishwasher', 'motor_scooter', 'bighorn', 'snorkel', 'geyser',\n",
    "       'barrow', 'badger', 'minivan', 'cheeseburger',\n",
    "       'refrigerator', 'car_mirror', 'fiddler_crab', 'damselfly', 'tabby', 'tricycle', 'tusker', 'basketball', 'weasel', 'bath_towel',\n",
    "       'Siamese_cat', 'washbasin', 'sea_lion', 'Boston_bull', 'bow_tie', 'beaver', 'tailed_frog', 'hippopotamus', 'wallaby', 'boxer',\n",
    "       'washer', 'leopard', 'remote_control', 'Madagascar_cat', 'maillot','mousetrap','trombone','canoe','hummingbird']\n",
    "\n",
    "for phrase in invalid_dog_breeds:\n",
    "    archive_copy.p1.replace(to_replace = phrase, value = 'None', inplace = True)\n",
    "\n",
    "#Rename malamutes as \"Alaskan Malamute\"\n",
    "archive_copy.p1.replace(to_replace = 'malamute', value = 'Alaskan Malamute', inplace = True )\n",
    "\n",
    "#Rename chow as \"Chow-Chow\"\n",
    "archive_copy.p1.replace(to_replace = 'chow', value = 'Chow-Chow', inplace = True )\n",
    "\n",
    "#Rename 1. Rename giant_panda as giant_panda dog.\n",
    "archive_copy.p1.replace(to_replace = 'giant_panda', value = 'Giant_Panda_dog', inplace = True )\n",
    "\n",
    "#Rename bison as Bichon Frise.\n",
    "archive_copy.p1.replace(to_replace = 'bison', value = 'Bichon Frise', inplace = True )\n",
    "\n",
    "#Rename hare as Hare Indian Dog.\n",
    "archive_copy.p1.replace(to_replace = 'hare', value = 'Hare Indian Dog', inplace = True )\n",
    "\n",
    "# Rename airedale as Airedale Terrier.\n",
    "archive_copy.p1.replace(to_replace = 'airedale', value = 'Airedale Terrier', inplace = True )\n",
    "\n",
    "# Rename teddy as Zuchon\n",
    "archive_copy.p1.replace(to_replace = 'teddy', value = 'Zuchon', inplace = True )\n",
    "\n",
    "# Rename Lhasa as Lhasa Apso\n",
    "archive_copy.p1.replace(to_replace = 'Lhasa', value = 'Lhasa Apso', inplace = True )\n",
    "\n",
    "# Rename redbone as Redbone Coonhound\n",
    "archive_copy.p1.replace(to_replace = 'redbone', value = 'Redbone Coonhound', inplace = True )\n",
    "\n",
    "# Rename basset as Basset Hound\n",
    "archive_copy.p1.replace(to_replace = 'basset', value = 'Basset Hound', inplace = True )\n",
    "\n",
    "# Rename Leonberg as Leonberger\n",
    "archive_copy.p1.replace(to_replace = 'Leonberg', value = 'Leonberger', inplace = True )\n",
    "\n",
    "# Rename Pekinese as Pekingese\n",
    "archive_copy.p1.replace(to_replace = 'Pekinese', value = 'Pekingese', inplace = True )\n",
    "\n",
    "# Rename cairn as Cairn Terrier\n",
    "archive_copy.p1.replace(to_replace = 'cairn', value = 'Cairn Terrier', inplace = True )\n",
    "\n",
    "# Rename clumber as Clumber Spaniel\n",
    "archive_copy.p1.replace(to_replace = 'clumber', value = 'Clumber Spaniel', inplace = True )\n",
    "    \n",
    "#Capitalize the first alphabet of each word in the column:\n",
    "archive_copy.p1.str.title\n",
    "                      "
   ]
  },
  {
   "cell_type": "code",
   "execution_count": 69,
   "metadata": {},
   "outputs": [
    {
     "data": {
      "text/plain": [
       "None                           598\n",
       "golden_retriever               150\n",
       "Labrador_retriever             100\n",
       "Pembroke                        88\n",
       "Chihuahua                       83\n",
       "pug                             57\n",
       "Chow-Chow                       44\n",
       "Samoyed                         43\n",
       "Pomeranian                      38\n",
       "cocker_spaniel                  30\n",
       "Alaskan Malamute                30\n",
       "French_bulldog                  26\n",
       "miniature_pinscher              23\n",
       "Chesapeake_Bay_retriever        23\n",
       "Siberian_husky                  20\n",
       "Staffordshire_bullterrier       20\n",
       "German_shepherd                 20\n",
       "beagle                          18\n",
       "Eskimo_dog                      18\n",
       "Maltese_dog                     18\n",
       "Shetland_sheepdog               18\n",
       "Zuchon                          18\n",
       "Rottweiler                      17\n",
       "Shih-Tzu                        17\n",
       "Lakeland_terrier                17\n",
       "Italian_greyhound               16\n",
       "kuvasz                          16\n",
       "Great_Pyrenees                  14\n",
       "West_Highland_white_terrier     14\n",
       "Basset Hound                    13\n",
       "                              ... \n",
       "window_shade                     3\n",
       "Cairn Terrier                    3\n",
       "Leonberger                       3\n",
       "Greater_Swiss_Mountain_dog       3\n",
       "white_wolf                       3\n",
       "curly-coated_retriever           3\n",
       "Welsh_springer_spaniel           3\n",
       "Scottish_deerhound               3\n",
       "Angora                           2\n",
       "Sussex_spaniel                   2\n",
       "black-and-tan_coonhound          2\n",
       "Appenzeller                      2\n",
       "wire-haired_fox_terrier          2\n",
       "Australian_terrier               2\n",
       "toy_terrier                      2\n",
       "American_black_bear              1\n",
       "EntleBucher                      1\n",
       "standard_schnauzer               1\n",
       "Scotch_terrier                   1\n",
       "Bichon Frise                     1\n",
       "grey_fox                         1\n",
       "limousine                        1\n",
       "Japanese_spaniel                 1\n",
       "African_hunting_dog              1\n",
       "Clumber Spaniel                  1\n",
       "groenendael                      1\n",
       "dhole                            1\n",
       "Giant_Panda_dog                  1\n",
       "Hare Indian Dog                  1\n",
       "silky_terrier                    1\n",
       "Name: p1, Length: 120, dtype: int64"
      ]
     },
     "execution_count": 69,
     "metadata": {},
     "output_type": "execute_result"
    }
   ],
   "source": [
    "archive_copy.p1.value_counts()"
   ]
  },
  {
   "cell_type": "markdown",
   "metadata": {},
   "source": [
    "### Accuracy:\n",
    "#### Cleaning Issue 9: \n",
    "##### Define :\n",
    "1. tweet_id is int datatype\n",
    "2. *timestamp* should not be an string datatype. It should be 'timestamp' datatype.\n",
    "##### Code:"
   ]
  },
  {
   "cell_type": "code",
   "execution_count": 70,
   "metadata": {},
   "outputs": [],
   "source": [
    "archive_copy.tweet_id = archive_copy.tweet_id.astype('str')"
   ]
  },
  {
   "cell_type": "code",
   "execution_count": 71,
   "metadata": {},
   "outputs": [],
   "source": [
    "archive_copy.timestamp = archive_copy.timestamp.astype('datetime64[ns]')"
   ]
  },
  {
   "cell_type": "markdown",
   "metadata": {},
   "source": [
    "##### Test"
   ]
  },
  {
   "cell_type": "code",
   "execution_count": 72,
   "metadata": {},
   "outputs": [
    {
     "name": "stdout",
     "output_type": "stream",
     "text": [
      "<class 'pandas.core.frame.DataFrame'>\n",
      "Int64Index: 2073 entries, 0 to 2074\n",
      "Data columns (total 23 columns):\n",
      "index                 2073 non-null int64\n",
      "tweet_id              2073 non-null object\n",
      "timestamp             2073 non-null datetime64[ns]\n",
      "source                2073 non-null object\n",
      "text                  2073 non-null object\n",
      "expanded_urls         2073 non-null object\n",
      "rating_numerator      2073 non-null float64\n",
      "rating_denominator    2073 non-null float64\n",
      "name                  2073 non-null object\n",
      "dog_stage             2073 non-null object\n",
      "retweet_count         2073 non-null float64\n",
      "favorite_count        2073 non-null float64\n",
      "jpg_url               2073 non-null object\n",
      "img_num               2073 non-null int64\n",
      "p1                    2073 non-null object\n",
      "p1_conf               2073 non-null float64\n",
      "p1_dog                2073 non-null bool\n",
      "p2                    2073 non-null object\n",
      "p2_conf               2073 non-null float64\n",
      "p2_dog                2073 non-null bool\n",
      "p3                    2073 non-null object\n",
      "p3_conf               2073 non-null float64\n",
      "p3_dog                2073 non-null bool\n",
      "dtypes: bool(3), datetime64[ns](1), float64(7), int64(2), object(10)\n",
      "memory usage: 426.2+ KB\n"
     ]
    }
   ],
   "source": [
    "archive_copy.info()"
   ]
  },
  {
   "cell_type": "markdown",
   "metadata": {},
   "source": [
    "### Consistency:\n",
    "#### Cleaning Issue 10: \n",
    "##### Define : HTML tags in the *source* column make the data look dirty. Extract the strings like \"Twitter for iPhone\", \"Twitter Web Client\" etc. from the rows using str.extract.\n",
    "##### Code:"
   ]
  },
  {
   "cell_type": "code",
   "execution_count": 73,
   "metadata": {},
   "outputs": [
    {
     "data": {
      "text/plain": [
       "<a href=\"http://twitter.com/download/iphone\" rel=\"nofollow\">Twitter for iPhone</a>     2032\n",
       "<a href=\"http://twitter.com\" rel=\"nofollow\">Twitter Web Client</a>                       30\n",
       "<a href=\"https://about.twitter.com/products/tweetdeck\" rel=\"nofollow\">TweetDeck</a>      11\n",
       "Name: source, dtype: int64"
      ]
     },
     "execution_count": 73,
     "metadata": {},
     "output_type": "execute_result"
    }
   ],
   "source": [
    "#Checking for the different source types:\n",
    "archive_copy.source.value_counts()"
   ]
  },
  {
   "cell_type": "markdown",
   "metadata": {},
   "source": [
    "Things to do :\n",
    "In the end display the dog images for the top 5 using the url"
   ]
  },
  {
   "cell_type": "code",
   "execution_count": 74,
   "metadata": {},
   "outputs": [],
   "source": [
    "#extracting the value under >.....<\n",
    "archive_copy['source'] = archive_copy['source'].str.extract('^<a.+>(.+)</a>$')"
   ]
  },
  {
   "cell_type": "markdown",
   "metadata": {},
   "source": [
    "##### Test"
   ]
  },
  {
   "cell_type": "code",
   "execution_count": 75,
   "metadata": {},
   "outputs": [
    {
     "data": {
      "text/plain": [
       "0    Twitter Web Client\n",
       "1    Twitter Web Client\n",
       "2    Twitter Web Client\n",
       "3    Twitter Web Client\n",
       "4    Twitter Web Client\n",
       "Name: source, dtype: object"
      ]
     },
     "execution_count": 75,
     "metadata": {},
     "output_type": "execute_result"
    }
   ],
   "source": [
    "archive_copy.source.head()"
   ]
  },
  {
   "cell_type": "code",
   "execution_count": 76,
   "metadata": {},
   "outputs": [
    {
     "data": {
      "text/plain": [
       "Twitter for iPhone    2032\n",
       "Twitter Web Client      30\n",
       "TweetDeck               11\n",
       "Name: source, dtype: int64"
      ]
     },
     "execution_count": 76,
     "metadata": {},
     "output_type": "execute_result"
    }
   ],
   "source": [
    "archive_copy.source.value_counts()"
   ]
  },
  {
   "cell_type": "code",
   "execution_count": 77,
   "metadata": {},
   "outputs": [
    {
     "data": {
      "text/html": [
       "<div>\n",
       "<style scoped>\n",
       "    .dataframe tbody tr th:only-of-type {\n",
       "        vertical-align: middle;\n",
       "    }\n",
       "\n",
       "    .dataframe tbody tr th {\n",
       "        vertical-align: top;\n",
       "    }\n",
       "\n",
       "    .dataframe thead th {\n",
       "        text-align: right;\n",
       "    }\n",
       "</style>\n",
       "<table border=\"1\" class=\"dataframe\">\n",
       "  <thead>\n",
       "    <tr style=\"text-align: right;\">\n",
       "      <th></th>\n",
       "      <th>index</th>\n",
       "      <th>tweet_id</th>\n",
       "      <th>timestamp</th>\n",
       "      <th>source</th>\n",
       "      <th>text</th>\n",
       "      <th>expanded_urls</th>\n",
       "      <th>rating_numerator</th>\n",
       "      <th>rating_denominator</th>\n",
       "      <th>name</th>\n",
       "      <th>dog_stage</th>\n",
       "      <th>...</th>\n",
       "      <th>img_num</th>\n",
       "      <th>p1</th>\n",
       "      <th>p1_conf</th>\n",
       "      <th>p1_dog</th>\n",
       "      <th>p2</th>\n",
       "      <th>p2_conf</th>\n",
       "      <th>p2_dog</th>\n",
       "      <th>p3</th>\n",
       "      <th>p3_conf</th>\n",
       "      <th>p3_dog</th>\n",
       "    </tr>\n",
       "  </thead>\n",
       "  <tbody>\n",
       "    <tr>\n",
       "      <th>673</th>\n",
       "      <td>4303</td>\n",
       "      <td>671163268581498880</td>\n",
       "      <td>2015-11-30 03:06:07</td>\n",
       "      <td>Twitter for iPhone</td>\n",
       "      <td>Pack of horned dogs here. Very team-oriented b...</td>\n",
       "      <td>https://twitter.com/dog_rates/status/671163268...</td>\n",
       "      <td>8.0</td>\n",
       "      <td>10.0</td>\n",
       "      <td>None</td>\n",
       "      <td>None</td>\n",
       "      <td>...</td>\n",
       "      <td>1</td>\n",
       "      <td>African_hunting_dog</td>\n",
       "      <td>0.733025</td>\n",
       "      <td>False</td>\n",
       "      <td>plow</td>\n",
       "      <td>0.119377</td>\n",
       "      <td>False</td>\n",
       "      <td>Scottish_deerhound</td>\n",
       "      <td>0.026983</td>\n",
       "      <td>True</td>\n",
       "    </tr>\n",
       "    <tr>\n",
       "      <th>431</th>\n",
       "      <td>3423</td>\n",
       "      <td>723912936180330496</td>\n",
       "      <td>2016-04-23 16:34:28</td>\n",
       "      <td>Twitter for iPhone</td>\n",
       "      <td>This is Sugar. She's a Bolivian Superfloof. Sp...</td>\n",
       "      <td>https://twitter.com/dog_rates/status/723912936...</td>\n",
       "      <td>12.0</td>\n",
       "      <td>10.0</td>\n",
       "      <td>Sugar</td>\n",
       "      <td>None</td>\n",
       "      <td>...</td>\n",
       "      <td>1</td>\n",
       "      <td>Samoyed</td>\n",
       "      <td>0.991772</td>\n",
       "      <td>True</td>\n",
       "      <td>Pomeranian</td>\n",
       "      <td>0.003626</td>\n",
       "      <td>True</td>\n",
       "      <td>chow</td>\n",
       "      <td>0.002232</td>\n",
       "      <td>True</td>\n",
       "    </tr>\n",
       "    <tr>\n",
       "      <th>1192</th>\n",
       "      <td>2730</td>\n",
       "      <td>818259473185828864</td>\n",
       "      <td>2017-01-09 00:53:55</td>\n",
       "      <td>Twitter for iPhone</td>\n",
       "      <td>This is Florence. He saw the same snap you sen...</td>\n",
       "      <td>https://twitter.com/dog_rates/status/818259473...</td>\n",
       "      <td>12.0</td>\n",
       "      <td>10.0</td>\n",
       "      <td>Florence</td>\n",
       "      <td>None</td>\n",
       "      <td>...</td>\n",
       "      <td>1</td>\n",
       "      <td>miniature_schnauzer</td>\n",
       "      <td>0.367368</td>\n",
       "      <td>True</td>\n",
       "      <td>toy_poodle</td>\n",
       "      <td>0.112479</td>\n",
       "      <td>True</td>\n",
       "      <td>standard_schnauzer</td>\n",
       "      <td>0.095434</td>\n",
       "      <td>True</td>\n",
       "    </tr>\n",
       "    <tr>\n",
       "      <th>1549</th>\n",
       "      <td>3247</td>\n",
       "      <td>749395845976588288</td>\n",
       "      <td>2016-07-03 00:14:27</td>\n",
       "      <td>Twitter for iPhone</td>\n",
       "      <td>This is George. He just remembered that bees a...</td>\n",
       "      <td>https://twitter.com/dog_rates/status/749395845...</td>\n",
       "      <td>10.0</td>\n",
       "      <td>10.0</td>\n",
       "      <td>George</td>\n",
       "      <td>None</td>\n",
       "      <td>...</td>\n",
       "      <td>1</td>\n",
       "      <td>Pomeranian</td>\n",
       "      <td>0.973715</td>\n",
       "      <td>True</td>\n",
       "      <td>chow</td>\n",
       "      <td>0.020758</td>\n",
       "      <td>True</td>\n",
       "      <td>keeshond</td>\n",
       "      <td>0.003784</td>\n",
       "      <td>True</td>\n",
       "    </tr>\n",
       "    <tr>\n",
       "      <th>1263</th>\n",
       "      <td>2829</td>\n",
       "      <td>803380650405482500</td>\n",
       "      <td>2016-11-28 23:30:47</td>\n",
       "      <td>Twitter for iPhone</td>\n",
       "      <td>Meet Sonny. He's an in-home movie critic. That...</td>\n",
       "      <td>https://twitter.com/dog_rates/status/803380650...</td>\n",
       "      <td>12.0</td>\n",
       "      <td>10.0</td>\n",
       "      <td>Sonny</td>\n",
       "      <td>None</td>\n",
       "      <td>...</td>\n",
       "      <td>1</td>\n",
       "      <td>None</td>\n",
       "      <td>0.890601</td>\n",
       "      <td>False</td>\n",
       "      <td>entertainment_center</td>\n",
       "      <td>0.019287</td>\n",
       "      <td>False</td>\n",
       "      <td>file</td>\n",
       "      <td>0.009490</td>\n",
       "      <td>False</td>\n",
       "    </tr>\n",
       "    <tr>\n",
       "      <th>1576</th>\n",
       "      <td>3144</td>\n",
       "      <td>760641137271070720</td>\n",
       "      <td>2016-08-03 00:59:13</td>\n",
       "      <td>Twitter for iPhone</td>\n",
       "      <td>This is Theo. He can walk on water. Still comi...</td>\n",
       "      <td>https://twitter.com/dog_rates/status/760641137...</td>\n",
       "      <td>12.0</td>\n",
       "      <td>10.0</td>\n",
       "      <td>Theo</td>\n",
       "      <td>None</td>\n",
       "      <td>...</td>\n",
       "      <td>1</td>\n",
       "      <td>None</td>\n",
       "      <td>0.132695</td>\n",
       "      <td>False</td>\n",
       "      <td>killer_whale</td>\n",
       "      <td>0.131113</td>\n",
       "      <td>False</td>\n",
       "      <td>sea_lion</td>\n",
       "      <td>0.069652</td>\n",
       "      <td>False</td>\n",
       "    </tr>\n",
       "    <tr>\n",
       "      <th>240</th>\n",
       "      <td>3698</td>\n",
       "      <td>696900204696625153</td>\n",
       "      <td>2016-02-09 03:35:31</td>\n",
       "      <td>Twitter for iPhone</td>\n",
       "      <td>This is Rosie. She's a Benebark Cumberpatch. S...</td>\n",
       "      <td>https://twitter.com/dog_rates/status/696900204...</td>\n",
       "      <td>12.0</td>\n",
       "      <td>10.0</td>\n",
       "      <td>Rosie</td>\n",
       "      <td>None</td>\n",
       "      <td>...</td>\n",
       "      <td>1</td>\n",
       "      <td>Chihuahua</td>\n",
       "      <td>0.297735</td>\n",
       "      <td>True</td>\n",
       "      <td>Pembroke</td>\n",
       "      <td>0.266953</td>\n",
       "      <td>True</td>\n",
       "      <td>basenji</td>\n",
       "      <td>0.136814</td>\n",
       "      <td>True</td>\n",
       "    </tr>\n",
       "    <tr>\n",
       "      <th>397</th>\n",
       "      <td>3815</td>\n",
       "      <td>688385280030670848</td>\n",
       "      <td>2016-01-16 15:40:14</td>\n",
       "      <td>Twitter for iPhone</td>\n",
       "      <td>This is Louis. He's takes top-notch selfies. 1...</td>\n",
       "      <td>https://twitter.com/dog_rates/status/688385280...</td>\n",
       "      <td>12.0</td>\n",
       "      <td>10.0</td>\n",
       "      <td>Louis</td>\n",
       "      <td>None</td>\n",
       "      <td>...</td>\n",
       "      <td>2</td>\n",
       "      <td>golden_retriever</td>\n",
       "      <td>0.900437</td>\n",
       "      <td>True</td>\n",
       "      <td>cocker_spaniel</td>\n",
       "      <td>0.022292</td>\n",
       "      <td>True</td>\n",
       "      <td>sombrero</td>\n",
       "      <td>0.014997</td>\n",
       "      <td>False</td>\n",
       "    </tr>\n",
       "    <tr>\n",
       "      <th>1515</th>\n",
       "      <td>3095</td>\n",
       "      <td>768970937022709760</td>\n",
       "      <td>2016-08-26 00:38:52</td>\n",
       "      <td>Twitter Web Client</td>\n",
       "      <td>This is Kirby. His bowl weighs more than him. ...</td>\n",
       "      <td>https://twitter.com/dog_rates/status/768970937...</td>\n",
       "      <td>12.0</td>\n",
       "      <td>10.0</td>\n",
       "      <td>Kirby</td>\n",
       "      <td>None</td>\n",
       "      <td>...</td>\n",
       "      <td>1</td>\n",
       "      <td>Pomeranian</td>\n",
       "      <td>0.182358</td>\n",
       "      <td>True</td>\n",
       "      <td>golden_retriever</td>\n",
       "      <td>0.110658</td>\n",
       "      <td>True</td>\n",
       "      <td>mousetrap</td>\n",
       "      <td>0.086399</td>\n",
       "      <td>False</td>\n",
       "    </tr>\n",
       "    <tr>\n",
       "      <th>92</th>\n",
       "      <td>2155</td>\n",
       "      <td>668567822092664832</td>\n",
       "      <td>2015-11-22 23:12:44</td>\n",
       "      <td>Twitter for iPhone</td>\n",
       "      <td>This is Marvin. He can tie a bow tie better th...</td>\n",
       "      <td>https://twitter.com/dog_rates/status/668567822...</td>\n",
       "      <td>11.0</td>\n",
       "      <td>10.0</td>\n",
       "      <td>Marvin</td>\n",
       "      <td>None</td>\n",
       "      <td>...</td>\n",
       "      <td>1</td>\n",
       "      <td>Shih-Tzu</td>\n",
       "      <td>0.985649</td>\n",
       "      <td>True</td>\n",
       "      <td>Lhasa</td>\n",
       "      <td>0.007078</td>\n",
       "      <td>True</td>\n",
       "      <td>Pekinese</td>\n",
       "      <td>0.003053</td>\n",
       "      <td>True</td>\n",
       "    </tr>\n",
       "  </tbody>\n",
       "</table>\n",
       "<p>10 rows × 23 columns</p>\n",
       "</div>"
      ],
      "text/plain": [
       "      index            tweet_id           timestamp              source  \\\n",
       "673    4303  671163268581498880 2015-11-30 03:06:07  Twitter for iPhone   \n",
       "431    3423  723912936180330496 2016-04-23 16:34:28  Twitter for iPhone   \n",
       "1192   2730  818259473185828864 2017-01-09 00:53:55  Twitter for iPhone   \n",
       "1549   3247  749395845976588288 2016-07-03 00:14:27  Twitter for iPhone   \n",
       "1263   2829  803380650405482500 2016-11-28 23:30:47  Twitter for iPhone   \n",
       "1576   3144  760641137271070720 2016-08-03 00:59:13  Twitter for iPhone   \n",
       "240    3698  696900204696625153 2016-02-09 03:35:31  Twitter for iPhone   \n",
       "397    3815  688385280030670848 2016-01-16 15:40:14  Twitter for iPhone   \n",
       "1515   3095  768970937022709760 2016-08-26 00:38:52  Twitter Web Client   \n",
       "92     2155  668567822092664832 2015-11-22 23:12:44  Twitter for iPhone   \n",
       "\n",
       "                                                   text  \\\n",
       "673   Pack of horned dogs here. Very team-oriented b...   \n",
       "431   This is Sugar. She's a Bolivian Superfloof. Sp...   \n",
       "1192  This is Florence. He saw the same snap you sen...   \n",
       "1549  This is George. He just remembered that bees a...   \n",
       "1263  Meet Sonny. He's an in-home movie critic. That...   \n",
       "1576  This is Theo. He can walk on water. Still comi...   \n",
       "240   This is Rosie. She's a Benebark Cumberpatch. S...   \n",
       "397   This is Louis. He's takes top-notch selfies. 1...   \n",
       "1515  This is Kirby. His bowl weighs more than him. ...   \n",
       "92    This is Marvin. He can tie a bow tie better th...   \n",
       "\n",
       "                                          expanded_urls  rating_numerator  \\\n",
       "673   https://twitter.com/dog_rates/status/671163268...               8.0   \n",
       "431   https://twitter.com/dog_rates/status/723912936...              12.0   \n",
       "1192  https://twitter.com/dog_rates/status/818259473...              12.0   \n",
       "1549  https://twitter.com/dog_rates/status/749395845...              10.0   \n",
       "1263  https://twitter.com/dog_rates/status/803380650...              12.0   \n",
       "1576  https://twitter.com/dog_rates/status/760641137...              12.0   \n",
       "240   https://twitter.com/dog_rates/status/696900204...              12.0   \n",
       "397   https://twitter.com/dog_rates/status/688385280...              12.0   \n",
       "1515  https://twitter.com/dog_rates/status/768970937...              12.0   \n",
       "92    https://twitter.com/dog_rates/status/668567822...              11.0   \n",
       "\n",
       "      rating_denominator      name dog_stage   ...    img_num  \\\n",
       "673                 10.0      None      None   ...          1   \n",
       "431                 10.0     Sugar      None   ...          1   \n",
       "1192                10.0  Florence      None   ...          1   \n",
       "1549                10.0    George      None   ...          1   \n",
       "1263                10.0     Sonny      None   ...          1   \n",
       "1576                10.0      Theo      None   ...          1   \n",
       "240                 10.0     Rosie      None   ...          1   \n",
       "397                 10.0     Louis      None   ...          2   \n",
       "1515                10.0     Kirby      None   ...          1   \n",
       "92                  10.0    Marvin      None   ...          1   \n",
       "\n",
       "                       p1   p1_conf  p1_dog                    p2   p2_conf  \\\n",
       "673   African_hunting_dog  0.733025   False                  plow  0.119377   \n",
       "431               Samoyed  0.991772    True            Pomeranian  0.003626   \n",
       "1192  miniature_schnauzer  0.367368    True            toy_poodle  0.112479   \n",
       "1549           Pomeranian  0.973715    True                  chow  0.020758   \n",
       "1263                 None  0.890601   False  entertainment_center  0.019287   \n",
       "1576                 None  0.132695   False          killer_whale  0.131113   \n",
       "240             Chihuahua  0.297735    True              Pembroke  0.266953   \n",
       "397      golden_retriever  0.900437    True        cocker_spaniel  0.022292   \n",
       "1515           Pomeranian  0.182358    True      golden_retriever  0.110658   \n",
       "92               Shih-Tzu  0.985649    True                 Lhasa  0.007078   \n",
       "\n",
       "      p2_dog                  p3   p3_conf  p3_dog  \n",
       "673    False  Scottish_deerhound  0.026983    True  \n",
       "431     True                chow  0.002232    True  \n",
       "1192    True  standard_schnauzer  0.095434    True  \n",
       "1549    True            keeshond  0.003784    True  \n",
       "1263   False                file  0.009490   False  \n",
       "1576   False            sea_lion  0.069652   False  \n",
       "240     True             basenji  0.136814    True  \n",
       "397     True            sombrero  0.014997   False  \n",
       "1515    True           mousetrap  0.086399   False  \n",
       "92      True            Pekinese  0.003053    True  \n",
       "\n",
       "[10 rows x 23 columns]"
      ]
     },
     "execution_count": 77,
     "metadata": {},
     "output_type": "execute_result"
    }
   ],
   "source": [
    "archive_copy.sample(10)"
   ]
  },
  {
   "cell_type": "markdown",
   "metadata": {},
   "source": [
    "### Analysis and Visualizations"
   ]
  },
  {
   "cell_type": "markdown",
   "metadata": {},
   "source": [
    "1. Distribution of dog ratings.\n",
    "2. Most liked dog breeds according to image_predictions algorithm\n",
    "3. Relationship between retweet_counts and favorite counts.\n",
    "4. Most favorite dogs and their images.\n",
    "5. Most retweeted dogs and their images.\n"
   ]
  },
  {
   "cell_type": "code",
   "execution_count": 78,
   "metadata": {},
   "outputs": [],
   "source": [
    "# Creating a master dataframe:\n",
    "archive_copy.to_csv('archive_master.csv', encoding='utf-8', index=False)"
   ]
  },
  {
   "cell_type": "code",
   "execution_count": 79,
   "metadata": {},
   "outputs": [
    {
     "data": {
      "text/plain": [
       "count    2073.000000\n",
       "mean       12.223724\n",
       "std        40.673900\n",
       "min         0.000000\n",
       "25%        10.000000\n",
       "50%        11.000000\n",
       "75%        12.000000\n",
       "max      1776.000000\n",
       "Name: rating_numerator, dtype: float64"
      ]
     },
     "execution_count": 79,
     "metadata": {},
     "output_type": "execute_result"
    }
   ],
   "source": [
    "archive_copy.rating_numerator.describe()"
   ]
  },
  {
   "cell_type": "code",
   "execution_count": 80,
   "metadata": {},
   "outputs": [
    {
     "data": {
      "image/png": "[encoded data removed]",
      "text/plain": [
       "<matplotlib.figure.Figure at 0x7f116705d6d8>"
      ]
     },
     "metadata": {
      "needs_background": "light"
     },
     "output_type": "display_data"
    }
   ],
   "source": [
    "plt.figure(figsize=(10,8))\n",
    "bin_ratings = np.arange(0, 20 + 0.5, 0.5)\n",
    "plt.hist(data = archive_copy, x = 'rating_numerator', bins = bin_ratings);\n",
    "plt.title(\"Distribution of Dog ratings\")\n",
    "plt.xlabel(\"Ratings\")\n",
    "plt.ylabel(\"Frequency\")\n",
    "plt.savefig('Distribution of Dog Ratings.png')"
   ]
  },
  {
   "cell_type": "markdown",
   "metadata": {},
   "source": [
    "Most of the dogs have received a rating between **10 - 12.5**."
   ]
  },
  {
   "cell_type": "code",
   "execution_count": 81,
   "metadata": {},
   "outputs": [
    {
     "data": {
      "text/plain": [
       "golden_retriever      150\n",
       "Labrador_retriever    100\n",
       "Pembroke               88\n",
       "Chihuahua              83\n",
       "pug                    57\n",
       "Chow-Chow              44\n",
       "Samoyed                43\n",
       "Pomeranian             38\n",
       "Alaskan Malamute       30\n",
       "cocker_spaniel         30\n",
       "Name: p1, dtype: int64"
      ]
     },
     "execution_count": 81,
     "metadata": {},
     "output_type": "execute_result"
    }
   ],
   "source": [
    "# Creating a list of top 10 dog breeds (excluding \"None\"):\n",
    "top_breeds = archive_copy[archive_copy.p1!=\"None\"].p1.value_counts().head(10)\n",
    "top_breeds"
   ]
  },
  {
   "cell_type": "code",
   "execution_count": 82,
   "metadata": {},
   "outputs": [
    {
     "data": {
      "image/png": "[encoded data removed]",
      "text/plain": [
       "<matplotlib.figure.Figure at 0x7f1166fcdc18>"
      ]
     },
     "metadata": {
      "needs_background": "light"
     },
     "output_type": "display_data"
    }
   ],
   "source": [
    "#Plotting the graph\n",
    "plt.figure(figsize=(8,8))\n",
    "plt.barh(top_breeds.index, top_breeds);\n",
    "plt.title(\"Top dog breeds and their numbers\")\n",
    "plt.xlabel(\"counts\")\n",
    "plt.ylabel(\"Dog breed\")\n",
    "plt.savefig('Top dog breeds and their numbers.png')"
   ]
  },
  {
   "cell_type": "markdown",
   "metadata": {},
   "source": [
    "As we can see from the graph above, the most popular dog breed is **Golden retriever**."
   ]
  },
  {
   "cell_type": "code",
   "execution_count": 83,
   "metadata": {},
   "outputs": [
    {
     "data": {
      "image/png": "[encoded data removed]",
      "text/plain": [
       "<matplotlib.figure.Figure at 0x7f1164e9c748>"
      ]
     },
     "metadata": {
      "needs_background": "light"
     },
     "output_type": "display_data"
    }
   ],
   "source": [
    "plt.figure(figsize=(10,8))\n",
    "sns.heatmap(archive_copy.corr(), annot = True, fmt = '.2f', cmap = 'vlag_r', center = 0)\n",
    "plt.savefig('Correlation.png')"
   ]
  },
  {
   "cell_type": "markdown",
   "metadata": {},
   "source": [
    "As we can see from the above heat map that there seems to be a strong positive correlation between retweet_count and favorite_count of **0.79**."
   ]
  },
  {
   "cell_type": "code",
   "execution_count": 85,
   "metadata": {},
   "outputs": [
    {
     "data": {
      "text/html": [
       "<div>\n",
       "<style scoped>\n",
       "    .dataframe tbody tr th:only-of-type {\n",
       "        vertical-align: middle;\n",
       "    }\n",
       "\n",
       "    .dataframe tbody tr th {\n",
       "        vertical-align: top;\n",
       "    }\n",
       "\n",
       "    .dataframe thead th {\n",
       "        text-align: right;\n",
       "    }\n",
       "</style>\n",
       "<table border=\"1\" class=\"dataframe\">\n",
       "  <thead>\n",
       "    <tr style=\"text-align: right;\">\n",
       "      <th></th>\n",
       "      <th>index</th>\n",
       "      <th>tweet_id</th>\n",
       "      <th>timestamp</th>\n",
       "      <th>source</th>\n",
       "      <th>text</th>\n",
       "      <th>expanded_urls</th>\n",
       "      <th>rating_numerator</th>\n",
       "      <th>rating_denominator</th>\n",
       "      <th>name</th>\n",
       "      <th>dog_stage</th>\n",
       "      <th>retweet_count</th>\n",
       "      <th>favorite_count</th>\n",
       "      <th>jpg_url</th>\n",
       "      <th>img_num</th>\n",
       "      <th>p1</th>\n",
       "      <th>p1_conf</th>\n",
       "      <th>p1_dog</th>\n",
       "      <th>p2</th>\n",
       "      <th>p2_conf</th>\n",
       "      <th>p2_dog</th>\n",
       "      <th>p3</th>\n",
       "      <th>p3_conf</th>\n",
       "      <th>p3_dog</th>\n",
       "    </tr>\n",
       "  </thead>\n",
       "  <tbody>\n",
       "    <tr>\n",
       "      <th>2068</th>\n",
       "      <td>7282</td>\n",
       "      <td>822872901745569793</td>\n",
       "      <td>2017-01-21 18:26:02</td>\n",
       "      <td>Twitter for iPhone</td>\n",
       "      <td>Here's a super supportive puppo participating ...</td>\n",
       "      <td>https://twitter.com/dog_rates/status/822872901...</td>\n",
       "      <td>13.0</td>\n",
       "      <td>10.0</td>\n",
       "      <td>None</td>\n",
       "      <td>puppo</td>\n",
       "      <td>48265.0</td>\n",
       "      <td>132810.0</td>\n",
       "      <td>https://pbs.twimg.com/media/C2tugXLXgAArJO4.jpg</td>\n",
       "      <td>1</td>\n",
       "      <td>Lakeland_terrier</td>\n",
       "      <td>0.196015</td>\n",
       "      <td>True</td>\n",
       "      <td>Labrador_retriever</td>\n",
       "      <td>0.160329</td>\n",
       "      <td>True</td>\n",
       "      <td>Irish_terrier</td>\n",
       "      <td>0.069126</td>\n",
       "      <td>True</td>\n",
       "    </tr>\n",
       "    <tr>\n",
       "      <th>1779</th>\n",
       "      <td>1005</td>\n",
       "      <td>744234799360020481</td>\n",
       "      <td>2016-06-18 18:26:18</td>\n",
       "      <td>Twitter for iPhone</td>\n",
       "      <td>Here's a doggo realizing you can stand in a po...</td>\n",
       "      <td>https://twitter.com/dog_rates/status/744234799...</td>\n",
       "      <td>13.0</td>\n",
       "      <td>10.0</td>\n",
       "      <td>None</td>\n",
       "      <td>doggo</td>\n",
       "      <td>79515.0</td>\n",
       "      <td>131075.0</td>\n",
       "      <td>https://pbs.twimg.com/ext_tw_video_thumb/74423...</td>\n",
       "      <td>1</td>\n",
       "      <td>Labrador_retriever</td>\n",
       "      <td>0.825333</td>\n",
       "      <td>True</td>\n",
       "      <td>ice_bear</td>\n",
       "      <td>0.044681</td>\n",
       "      <td>False</td>\n",
       "      <td>whippet</td>\n",
       "      <td>0.018442</td>\n",
       "      <td>True</td>\n",
       "    </tr>\n",
       "    <tr>\n",
       "      <th>199</th>\n",
       "      <td>63</td>\n",
       "      <td>879415818425184262</td>\n",
       "      <td>2017-06-26 19:07:24</td>\n",
       "      <td>Twitter for iPhone</td>\n",
       "      <td>This is Duddles. He did an attempt. 13/10 some...</td>\n",
       "      <td>https://twitter.com/dog_rates/status/879415818...</td>\n",
       "      <td>13.0</td>\n",
       "      <td>10.0</td>\n",
       "      <td>Duddles</td>\n",
       "      <td>None</td>\n",
       "      <td>45849.0</td>\n",
       "      <td>107956.0</td>\n",
       "      <td>https://pbs.twimg.com/ext_tw_video_thumb/87941...</td>\n",
       "      <td>1</td>\n",
       "      <td>English_springer</td>\n",
       "      <td>0.383404</td>\n",
       "      <td>True</td>\n",
       "      <td>Boston_bull</td>\n",
       "      <td>0.134967</td>\n",
       "      <td>True</td>\n",
       "      <td>Cardigan</td>\n",
       "      <td>0.110481</td>\n",
       "      <td>True</td>\n",
       "    </tr>\n",
       "    <tr>\n",
       "      <th>1138</th>\n",
       "      <td>2806</td>\n",
       "      <td>807106840509214720</td>\n",
       "      <td>2016-12-09 06:17:20</td>\n",
       "      <td>Twitter for iPhone</td>\n",
       "      <td>This is Stephan. He just wants to help. 13/10 ...</td>\n",
       "      <td>https://twitter.com/dog_rates/status/807106840...</td>\n",
       "      <td>13.0</td>\n",
       "      <td>10.0</td>\n",
       "      <td>None</td>\n",
       "      <td>None</td>\n",
       "      <td>56625.0</td>\n",
       "      <td>107015.0</td>\n",
       "      <td>https://pbs.twimg.com/ext_tw_video_thumb/80710...</td>\n",
       "      <td>1</td>\n",
       "      <td>Chihuahua</td>\n",
       "      <td>0.505370</td>\n",
       "      <td>True</td>\n",
       "      <td>Pomeranian</td>\n",
       "      <td>0.120358</td>\n",
       "      <td>True</td>\n",
       "      <td>toy_terrier</td>\n",
       "      <td>0.077008</td>\n",
       "      <td>True</td>\n",
       "    </tr>\n",
       "    <tr>\n",
       "      <th>2008</th>\n",
       "      <td>4725</td>\n",
       "      <td>866450705531457537</td>\n",
       "      <td>2017-05-22 00:28:40</td>\n",
       "      <td>Twitter for iPhone</td>\n",
       "      <td>This is Jamesy. He gives a kiss to every other...</td>\n",
       "      <td>https://twitter.com/dog_rates/status/866450705...</td>\n",
       "      <td>13.0</td>\n",
       "      <td>10.0</td>\n",
       "      <td>Jamesy</td>\n",
       "      <td>pupper</td>\n",
       "      <td>32883.0</td>\n",
       "      <td>106827.0</td>\n",
       "      <td>https://pbs.twimg.com/media/DAZAUfBXcAAG_Nn.jpg</td>\n",
       "      <td>2</td>\n",
       "      <td>French_bulldog</td>\n",
       "      <td>0.905334</td>\n",
       "      <td>True</td>\n",
       "      <td>Boston_bull</td>\n",
       "      <td>0.078060</td>\n",
       "      <td>True</td>\n",
       "      <td>pug</td>\n",
       "      <td>0.001771</td>\n",
       "      <td>True</td>\n",
       "    </tr>\n",
       "  </tbody>\n",
       "</table>\n",
       "</div>"
      ],
      "text/plain": [
       "      index            tweet_id           timestamp              source  \\\n",
       "2068   7282  822872901745569793 2017-01-21 18:26:02  Twitter for iPhone   \n",
       "1779   1005  744234799360020481 2016-06-18 18:26:18  Twitter for iPhone   \n",
       "199      63  879415818425184262 2017-06-26 19:07:24  Twitter for iPhone   \n",
       "1138   2806  807106840509214720 2016-12-09 06:17:20  Twitter for iPhone   \n",
       "2008   4725  866450705531457537 2017-05-22 00:28:40  Twitter for iPhone   \n",
       "\n",
       "                                                   text  \\\n",
       "2068  Here's a super supportive puppo participating ...   \n",
       "1779  Here's a doggo realizing you can stand in a po...   \n",
       "199   This is Duddles. He did an attempt. 13/10 some...   \n",
       "1138  This is Stephan. He just wants to help. 13/10 ...   \n",
       "2008  This is Jamesy. He gives a kiss to every other...   \n",
       "\n",
       "                                          expanded_urls  rating_numerator  \\\n",
       "2068  https://twitter.com/dog_rates/status/822872901...              13.0   \n",
       "1779  https://twitter.com/dog_rates/status/744234799...              13.0   \n",
       "199   https://twitter.com/dog_rates/status/879415818...              13.0   \n",
       "1138  https://twitter.com/dog_rates/status/807106840...              13.0   \n",
       "2008  https://twitter.com/dog_rates/status/866450705...              13.0   \n",
       "\n",
       "      rating_denominator     name dog_stage  retweet_count  favorite_count  \\\n",
       "2068                10.0     None     puppo        48265.0        132810.0   \n",
       "1779                10.0     None     doggo        79515.0        131075.0   \n",
       "199                 10.0  Duddles      None        45849.0        107956.0   \n",
       "1138                10.0     None      None        56625.0        107015.0   \n",
       "2008                10.0   Jamesy    pupper        32883.0        106827.0   \n",
       "\n",
       "                                                jpg_url  img_num  \\\n",
       "2068    https://pbs.twimg.com/media/C2tugXLXgAArJO4.jpg        1   \n",
       "1779  https://pbs.twimg.com/ext_tw_video_thumb/74423...        1   \n",
       "199   https://pbs.twimg.com/ext_tw_video_thumb/87941...        1   \n",
       "1138  https://pbs.twimg.com/ext_tw_video_thumb/80710...        1   \n",
       "2008    https://pbs.twimg.com/media/DAZAUfBXcAAG_Nn.jpg        2   \n",
       "\n",
       "                      p1   p1_conf  p1_dog                  p2   p2_conf  \\\n",
       "2068    Lakeland_terrier  0.196015    True  Labrador_retriever  0.160329   \n",
       "1779  Labrador_retriever  0.825333    True            ice_bear  0.044681   \n",
       "199     English_springer  0.383404    True         Boston_bull  0.134967   \n",
       "1138           Chihuahua  0.505370    True          Pomeranian  0.120358   \n",
       "2008      French_bulldog  0.905334    True         Boston_bull  0.078060   \n",
       "\n",
       "      p2_dog             p3   p3_conf  p3_dog  \n",
       "2068    True  Irish_terrier  0.069126    True  \n",
       "1779   False        whippet  0.018442    True  \n",
       "199     True       Cardigan  0.110481    True  \n",
       "1138    True    toy_terrier  0.077008    True  \n",
       "2008    True            pug  0.001771    True  "
      ]
     },
     "execution_count": 85,
     "metadata": {},
     "output_type": "execute_result"
    }
   ],
   "source": [
    "#Let us check the top 5 favorite dogs\n",
    "pd.set_option('display.max_columns', None)\n",
    "archive_copy.sort_values(by = 'favorite_count', ascending = False).head()\n"
   ]
  },
  {
   "cell_type": "code",
   "execution_count": 86,
   "metadata": {},
   "outputs": [
    {
     "data": {
      "text/html": [
       "<img src=\"https://pbs.twimg.com/media/C2tugXLXgAArJO4.jpg\"/>"
      ],
      "text/plain": [
       "<IPython.core.display.Image object>"
      ]
     },
     "execution_count": 86,
     "metadata": {},
     "output_type": "execute_result"
    }
   ],
   "source": [
    "#The most favorite dog:\n",
    "Image(url = 'https://pbs.twimg.com/media/C2tugXLXgAArJO4.jpg')"
   ]
  },
  {
   "cell_type": "markdown",
   "metadata": {},
   "source": []
  },
  {
   "cell_type": "code",
   "execution_count": 87,
   "metadata": {},
   "outputs": [
    {
     "data": {
      "text/plain": [
       "'https://pbs.twimg.com/ext_tw_video_thumb/744234667679821824/pu/img/1GaWmtJtdqzZV7jy.jpg'"
      ]
     },
     "execution_count": 87,
     "metadata": {},
     "output_type": "execute_result"
    }
   ],
   "source": [
    "archive_copy.loc[1779].jpg_url"
   ]
  },
  {
   "cell_type": "code",
   "execution_count": 88,
   "metadata": {},
   "outputs": [
    {
     "data": {
      "text/html": [
       "<img src=\"https://pbs.twimg.com/ext_tw_video_thumb/744234667679821824/pu/img/1GaWmtJtdqzZV7jy.jpg\"/>"
      ],
      "text/plain": [
       "<IPython.core.display.Image object>"
      ]
     },
     "execution_count": 88,
     "metadata": {},
     "output_type": "execute_result"
    }
   ],
   "source": [
    "# Rank 2:\n",
    "Image(url = 'https://pbs.twimg.com/ext_tw_video_thumb/744234667679821824/pu/img/1GaWmtJtdqzZV7jy.jpg')"
   ]
  },
  {
   "cell_type": "code",
   "execution_count": 89,
   "metadata": {},
   "outputs": [
    {
     "data": {
      "text/plain": [
       "'https://pbs.twimg.com/ext_tw_video_thumb/879415784908390401/pu/img/cX7XI1TnUsseGET5.jpg'"
      ]
     },
     "execution_count": 89,
     "metadata": {},
     "output_type": "execute_result"
    }
   ],
   "source": [
    "archive_copy.loc[199].jpg_url"
   ]
  },
  {
   "cell_type": "code",
   "execution_count": 90,
   "metadata": {},
   "outputs": [
    {
     "data": {
      "text/html": [
       "<img src=\"https://pbs.twimg.com/ext_tw_video_thumb/879415784908390401/pu/img/cX7XI1TnUsseGET5.jpg\"/>"
      ],
      "text/plain": [
       "<IPython.core.display.Image object>"
      ]
     },
     "execution_count": 90,
     "metadata": {},
     "output_type": "execute_result"
    }
   ],
   "source": [
    "#Rank 3:\n",
    "Image(url = 'https://pbs.twimg.com/ext_tw_video_thumb/879415784908390401/pu/img/cX7XI1TnUsseGET5.jpg')"
   ]
  },
  {
   "cell_type": "code",
   "execution_count": 91,
   "metadata": {},
   "outputs": [
    {
     "data": {
      "text/plain": [
       "'https://pbs.twimg.com/ext_tw_video_thumb/807106774843039744/pu/img/8XZg1xW35Xp2J6JW.jpg'"
      ]
     },
     "execution_count": 91,
     "metadata": {},
     "output_type": "execute_result"
    }
   ],
   "source": [
    "archive_copy.loc[1138].jpg_url"
   ]
  },
  {
   "cell_type": "code",
   "execution_count": 92,
   "metadata": {},
   "outputs": [
    {
     "data": {
      "text/html": [
       "<img src=\"https://pbs.twimg.com/ext_tw_video_thumb/807106774843039744/pu/img/8XZg1xW35Xp2J6JW.jpg\"/>"
      ],
      "text/plain": [
       "<IPython.core.display.Image object>"
      ]
     },
     "execution_count": 92,
     "metadata": {},
     "output_type": "execute_result"
    }
   ],
   "source": [
    "#Rank 4\n",
    "Image(url = 'https://pbs.twimg.com/ext_tw_video_thumb/807106774843039744/pu/img/8XZg1xW35Xp2J6JW.jpg' )"
   ]
  },
  {
   "cell_type": "code",
   "execution_count": 93,
   "metadata": {},
   "outputs": [
    {
     "data": {
      "text/plain": [
       "'https://pbs.twimg.com/media/DAZAUfBXcAAG_Nn.jpg'"
      ]
     },
     "execution_count": 93,
     "metadata": {},
     "output_type": "execute_result"
    }
   ],
   "source": [
    "archive_copy.loc[2008].jpg_url"
   ]
  },
  {
   "cell_type": "code",
   "execution_count": 94,
   "metadata": {},
   "outputs": [
    {
     "data": {
      "text/html": [
       "<img src=\"https://pbs.twimg.com/media/DAZAUfBXcAAG_Nn.jpg\"/>"
      ],
      "text/plain": [
       "<IPython.core.display.Image object>"
      ]
     },
     "execution_count": 94,
     "metadata": {},
     "output_type": "execute_result"
    }
   ],
   "source": [
    "Image(url = 'https://pbs.twimg.com/media/DAZAUfBXcAAG_Nn.jpg' )"
   ]
  },
  {
   "cell_type": "code",
   "execution_count": 95,
   "metadata": {},
   "outputs": [
    {
     "data": {
      "text/html": [
       "<div>\n",
       "<style scoped>\n",
       "    .dataframe tbody tr th:only-of-type {\n",
       "        vertical-align: middle;\n",
       "    }\n",
       "\n",
       "    .dataframe tbody tr th {\n",
       "        vertical-align: top;\n",
       "    }\n",
       "\n",
       "    .dataframe thead th {\n",
       "        text-align: right;\n",
       "    }\n",
       "</style>\n",
       "<table border=\"1\" class=\"dataframe\">\n",
       "  <thead>\n",
       "    <tr style=\"text-align: right;\">\n",
       "      <th></th>\n",
       "      <th>index</th>\n",
       "      <th>tweet_id</th>\n",
       "      <th>timestamp</th>\n",
       "      <th>source</th>\n",
       "      <th>text</th>\n",
       "      <th>expanded_urls</th>\n",
       "      <th>rating_numerator</th>\n",
       "      <th>rating_denominator</th>\n",
       "      <th>name</th>\n",
       "      <th>dog_stage</th>\n",
       "      <th>retweet_count</th>\n",
       "      <th>favorite_count</th>\n",
       "      <th>jpg_url</th>\n",
       "      <th>img_num</th>\n",
       "      <th>p1</th>\n",
       "      <th>p1_conf</th>\n",
       "      <th>p1_dog</th>\n",
       "      <th>p2</th>\n",
       "      <th>p2_conf</th>\n",
       "      <th>p2_dog</th>\n",
       "      <th>p3</th>\n",
       "      <th>p3_conf</th>\n",
       "      <th>p3_dog</th>\n",
       "    </tr>\n",
       "  </thead>\n",
       "  <tbody>\n",
       "    <tr>\n",
       "      <th>1779</th>\n",
       "      <td>1005</td>\n",
       "      <td>744234799360020481</td>\n",
       "      <td>2016-06-18 18:26:18</td>\n",
       "      <td>Twitter for iPhone</td>\n",
       "      <td>Here's a doggo realizing you can stand in a po...</td>\n",
       "      <td>https://twitter.com/dog_rates/status/744234799...</td>\n",
       "      <td>13.0</td>\n",
       "      <td>10.0</td>\n",
       "      <td>None</td>\n",
       "      <td>doggo</td>\n",
       "      <td>79515.0</td>\n",
       "      <td>131075.0</td>\n",
       "      <td>https://pbs.twimg.com/ext_tw_video_thumb/74423...</td>\n",
       "      <td>1</td>\n",
       "      <td>Labrador_retriever</td>\n",
       "      <td>0.825333</td>\n",
       "      <td>True</td>\n",
       "      <td>ice_bear</td>\n",
       "      <td>0.044681</td>\n",
       "      <td>False</td>\n",
       "      <td>whippet</td>\n",
       "      <td>0.018442</td>\n",
       "      <td>True</td>\n",
       "    </tr>\n",
       "    <tr>\n",
       "      <th>1138</th>\n",
       "      <td>2806</td>\n",
       "      <td>807106840509214720</td>\n",
       "      <td>2016-12-09 06:17:20</td>\n",
       "      <td>Twitter for iPhone</td>\n",
       "      <td>This is Stephan. He just wants to help. 13/10 ...</td>\n",
       "      <td>https://twitter.com/dog_rates/status/807106840...</td>\n",
       "      <td>13.0</td>\n",
       "      <td>10.0</td>\n",
       "      <td>None</td>\n",
       "      <td>None</td>\n",
       "      <td>56625.0</td>\n",
       "      <td>107015.0</td>\n",
       "      <td>https://pbs.twimg.com/ext_tw_video_thumb/80710...</td>\n",
       "      <td>1</td>\n",
       "      <td>Chihuahua</td>\n",
       "      <td>0.505370</td>\n",
       "      <td>True</td>\n",
       "      <td>Pomeranian</td>\n",
       "      <td>0.120358</td>\n",
       "      <td>True</td>\n",
       "      <td>toy_terrier</td>\n",
       "      <td>0.077008</td>\n",
       "      <td>True</td>\n",
       "    </tr>\n",
       "    <tr>\n",
       "      <th>1457</th>\n",
       "      <td>2544</td>\n",
       "      <td>842892208864923648</td>\n",
       "      <td>2017-03-18 00:15:37</td>\n",
       "      <td>Twitter for iPhone</td>\n",
       "      <td>RT @dog_rates: This is Stephan. He just wants ...</td>\n",
       "      <td>https://twitter.com/dog_rates/status/807106840...</td>\n",
       "      <td>13.0</td>\n",
       "      <td>10.0</td>\n",
       "      <td>None</td>\n",
       "      <td>None</td>\n",
       "      <td>56625.0</td>\n",
       "      <td>0.0</td>\n",
       "      <td>https://pbs.twimg.com/ext_tw_video_thumb/80710...</td>\n",
       "      <td>1</td>\n",
       "      <td>Chihuahua</td>\n",
       "      <td>0.505370</td>\n",
       "      <td>True</td>\n",
       "      <td>Pomeranian</td>\n",
       "      <td>0.120358</td>\n",
       "      <td>True</td>\n",
       "      <td>toy_terrier</td>\n",
       "      <td>0.077008</td>\n",
       "      <td>True</td>\n",
       "    </tr>\n",
       "    <tr>\n",
       "      <th>1772</th>\n",
       "      <td>1045</td>\n",
       "      <td>739238157791694849</td>\n",
       "      <td>2016-06-04 23:31:25</td>\n",
       "      <td>Twitter for iPhone</td>\n",
       "      <td>Here's a doggo blowing bubbles. It's downright...</td>\n",
       "      <td>https://twitter.com/dog_rates/status/739238157...</td>\n",
       "      <td>13.0</td>\n",
       "      <td>10.0</td>\n",
       "      <td>None</td>\n",
       "      <td>doggo</td>\n",
       "      <td>52360.0</td>\n",
       "      <td>75163.0</td>\n",
       "      <td>https://pbs.twimg.com/ext_tw_video_thumb/73923...</td>\n",
       "      <td>1</td>\n",
       "      <td>Eskimo_dog</td>\n",
       "      <td>0.503372</td>\n",
       "      <td>True</td>\n",
       "      <td>Siberian_husky</td>\n",
       "      <td>0.390413</td>\n",
       "      <td>True</td>\n",
       "      <td>malamute</td>\n",
       "      <td>0.080901</td>\n",
       "      <td>True</td>\n",
       "    </tr>\n",
       "    <tr>\n",
       "      <th>2068</th>\n",
       "      <td>7282</td>\n",
       "      <td>822872901745569793</td>\n",
       "      <td>2017-01-21 18:26:02</td>\n",
       "      <td>Twitter for iPhone</td>\n",
       "      <td>Here's a super supportive puppo participating ...</td>\n",
       "      <td>https://twitter.com/dog_rates/status/822872901...</td>\n",
       "      <td>13.0</td>\n",
       "      <td>10.0</td>\n",
       "      <td>None</td>\n",
       "      <td>puppo</td>\n",
       "      <td>48265.0</td>\n",
       "      <td>132810.0</td>\n",
       "      <td>https://pbs.twimg.com/media/C2tugXLXgAArJO4.jpg</td>\n",
       "      <td>1</td>\n",
       "      <td>Lakeland_terrier</td>\n",
       "      <td>0.196015</td>\n",
       "      <td>True</td>\n",
       "      <td>Labrador_retriever</td>\n",
       "      <td>0.160329</td>\n",
       "      <td>True</td>\n",
       "      <td>Irish_terrier</td>\n",
       "      <td>0.069126</td>\n",
       "      <td>True</td>\n",
       "    </tr>\n",
       "  </tbody>\n",
       "</table>\n",
       "</div>"
      ],
      "text/plain": [
       "      index            tweet_id           timestamp              source  \\\n",
       "1779   1005  744234799360020481 2016-06-18 18:26:18  Twitter for iPhone   \n",
       "1138   2806  807106840509214720 2016-12-09 06:17:20  Twitter for iPhone   \n",
       "1457   2544  842892208864923648 2017-03-18 00:15:37  Twitter for iPhone   \n",
       "1772   1045  739238157791694849 2016-06-04 23:31:25  Twitter for iPhone   \n",
       "2068   7282  822872901745569793 2017-01-21 18:26:02  Twitter for iPhone   \n",
       "\n",
       "                                                   text  \\\n",
       "1779  Here's a doggo realizing you can stand in a po...   \n",
       "1138  This is Stephan. He just wants to help. 13/10 ...   \n",
       "1457  RT @dog_rates: This is Stephan. He just wants ...   \n",
       "1772  Here's a doggo blowing bubbles. It's downright...   \n",
       "2068  Here's a super supportive puppo participating ...   \n",
       "\n",
       "                                          expanded_urls  rating_numerator  \\\n",
       "1779  https://twitter.com/dog_rates/status/744234799...              13.0   \n",
       "1138  https://twitter.com/dog_rates/status/807106840...              13.0   \n",
       "1457  https://twitter.com/dog_rates/status/807106840...              13.0   \n",
       "1772  https://twitter.com/dog_rates/status/739238157...              13.0   \n",
       "2068  https://twitter.com/dog_rates/status/822872901...              13.0   \n",
       "\n",
       "      rating_denominator  name dog_stage  retweet_count  favorite_count  \\\n",
       "1779                10.0  None     doggo        79515.0        131075.0   \n",
       "1138                10.0  None      None        56625.0        107015.0   \n",
       "1457                10.0  None      None        56625.0             0.0   \n",
       "1772                10.0  None     doggo        52360.0         75163.0   \n",
       "2068                10.0  None     puppo        48265.0        132810.0   \n",
       "\n",
       "                                                jpg_url  img_num  \\\n",
       "1779  https://pbs.twimg.com/ext_tw_video_thumb/74423...        1   \n",
       "1138  https://pbs.twimg.com/ext_tw_video_thumb/80710...        1   \n",
       "1457  https://pbs.twimg.com/ext_tw_video_thumb/80710...        1   \n",
       "1772  https://pbs.twimg.com/ext_tw_video_thumb/73923...        1   \n",
       "2068    https://pbs.twimg.com/media/C2tugXLXgAArJO4.jpg        1   \n",
       "\n",
       "                      p1   p1_conf  p1_dog                  p2   p2_conf  \\\n",
       "1779  Labrador_retriever  0.825333    True            ice_bear  0.044681   \n",
       "1138           Chihuahua  0.505370    True          Pomeranian  0.120358   \n",
       "1457           Chihuahua  0.505370    True          Pomeranian  0.120358   \n",
       "1772          Eskimo_dog  0.503372    True      Siberian_husky  0.390413   \n",
       "2068    Lakeland_terrier  0.196015    True  Labrador_retriever  0.160329   \n",
       "\n",
       "      p2_dog             p3   p3_conf  p3_dog  \n",
       "1779   False        whippet  0.018442    True  \n",
       "1138    True    toy_terrier  0.077008    True  \n",
       "1457    True    toy_terrier  0.077008    True  \n",
       "1772    True       malamute  0.080901    True  \n",
       "2068    True  Irish_terrier  0.069126    True  "
      ]
     },
     "execution_count": 95,
     "metadata": {},
     "output_type": "execute_result"
    }
   ],
   "source": [
    "#Let us check the top 5 most retweeted dogs\n",
    "pd.set_option('display.max_columns', None)\n",
    "archive_copy.sort_values(by = 'retweet_count', ascending = False).head()\n"
   ]
  },
  {
   "cell_type": "code",
   "execution_count": 96,
   "metadata": {},
   "outputs": [
    {
     "data": {
      "text/plain": [
       "'https://pbs.twimg.com/ext_tw_video_thumb/739238016737267712/pu/img/-tLpyiuIzD5zR1et.jpg'"
      ]
     },
     "execution_count": 96,
     "metadata": {},
     "output_type": "execute_result"
    }
   ],
   "source": [
    "#Only this one is not in the favorite 5.\n",
    "archive_copy.loc[1772].jpg_url"
   ]
  },
  {
   "cell_type": "code",
   "execution_count": 97,
   "metadata": {},
   "outputs": [
    {
     "data": {
      "text/html": [
       "<img src=\"https://pbs.twimg.com/ext_tw_video_thumb/739238016737267712/pu/img/-tLpyiuIzD5zR1et.jpg\"/>"
      ],
      "text/plain": [
       "<IPython.core.display.Image object>"
      ]
     },
     "execution_count": 97,
     "metadata": {},
     "output_type": "execute_result"
    }
   ],
   "source": [
    "Image(url = 'https://pbs.twimg.com/ext_tw_video_thumb/739238016737267712/pu/img/-tLpyiuIzD5zR1et.jpg' )"
   ]
  },
  {
   "cell_type": "markdown",
   "metadata": {},
   "source": [
    "##### References :\n",
    "1. https://cran.r-project.org/web/packages/tidyr/vignettes/tidy-data.html\n",
    "2. https://stackoverflow.com/questions/28384588/twitter-api-get-tweets-with-specific-id\n",
    "3. https://video.udacity-data.com/topher/2018/November/5be5fb4c_twitter-api/twitter-api.py\n",
    "4. https://stackabuse.com/reading-and-writing-json-to-a-file-in-python/"
   ]
  }
 ],
 "metadata": {
  "kernelspec": {
   "display_name": "Python 3",
   "language": "python",
   "name": "python3"
  },
  "language_info": {
   "codemirror_mode": {
    "name": "ipython",
    "version": 3
   },
   "file_extension": ".py",
   "mimetype": "text/x-python",
   "name": "python",
   "nbconvert_exporter": "python",
   "pygments_lexer": "ipython3",
   "version": "3.6.3"
  }
 },
 "nbformat": 4,
 "nbformat_minor": 2
}
